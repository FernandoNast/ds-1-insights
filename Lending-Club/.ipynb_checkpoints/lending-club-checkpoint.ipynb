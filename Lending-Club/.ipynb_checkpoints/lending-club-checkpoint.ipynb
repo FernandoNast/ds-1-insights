{
 "cells": [
  {
   "cell_type": "code",
   "execution_count": 90,
   "metadata": {},
   "outputs": [
    {
     "data": {
      "text/html": [
       "        <script type=\"text/javascript\">\n",
       "        window.PlotlyConfig = {MathJaxConfig: 'local'};\n",
       "        if (window.MathJax) {MathJax.Hub.Config({SVG: {font: \"STIX-Web\"}});}\n",
       "        if (typeof require !== 'undefined') {\n",
       "        require.undef(\"plotly\");\n",
       "        requirejs.config({\n",
       "            paths: {\n",
       "                'plotly': ['https://cdn.plot.ly/plotly-latest.min']\n",
       "            }\n",
       "        });\n",
       "        require(['plotly'], function(Plotly) {\n",
       "            window._Plotly = Plotly;\n",
       "        });\n",
       "        }\n",
       "        </script>\n",
       "        "
      ]
     },
     "metadata": {},
     "output_type": "display_data"
    }
   ],
   "source": [
    "import pandas as pd\n",
    "import numpy as np\n",
    "\n",
    "import seaborn as sns\n",
    "import matplotlib.pyplot as plt\n",
    "%matplotlib inline\n",
    "# Plotly visualizations\n",
    "from plotly import tools\n",
    "import chart_studio.plotly as py\n",
    "import plotly.figure_factory as ff\n",
    "import plotly.graph_objs as go\n",
    "from plotly.offline import download_plotlyjs, init_notebook_mode, plot, iplot\n",
    "init_notebook_mode(connected=True)\n",
    "# plotly.tools.set_credentials_file(username='AlexanderBach', api_key='o4fx6i1MtEIJQxfWYvU1')\n",
    "\n",
    "from sklearn.model_selection import train_test_split\n",
    "from sklearn.metrics         import confusion_matrix, roc_auc_score, roc_curve, plot_roc_curve\n",
    "from sklearn                 import metrics\n",
    "from sklearn.model_selection import cross_val_score\n",
    "\n",
    "from IPython.display import Image\n",
    "from IPython.display import HTML\n",
    "\n",
    "import pweave"
   ]
  },
  {
   "cell_type": "code",
   "execution_count": 91,
   "metadata": {},
   "outputs": [
    {
     "ename": "FileNotFoundError",
     "evalue": "No such file or directory: 'Imagem/lending.jpg'",
     "output_type": "error",
     "traceback": [
      "\u001b[1;31m---------------------------------------------------------------------------\u001b[0m",
      "\u001b[1;31mTypeError\u001b[0m                                 Traceback (most recent call last)",
      "\u001b[1;32m~\\miniconda3\\lib\\site-packages\\IPython\\core\\display.py\u001b[0m in \u001b[0;36m_data_and_metadata\u001b[1;34m(self, always_both)\u001b[0m\n\u001b[0;32m   1292\u001b[0m         \u001b[1;32mtry\u001b[0m\u001b[1;33m:\u001b[0m\u001b[1;33m\u001b[0m\u001b[1;33m\u001b[0m\u001b[0m\n\u001b[1;32m-> 1293\u001b[1;33m             \u001b[0mb64_data\u001b[0m \u001b[1;33m=\u001b[0m \u001b[0mb2a_base64\u001b[0m\u001b[1;33m(\u001b[0m\u001b[0mself\u001b[0m\u001b[1;33m.\u001b[0m\u001b[0mdata\u001b[0m\u001b[1;33m)\u001b[0m\u001b[1;33m.\u001b[0m\u001b[0mdecode\u001b[0m\u001b[1;33m(\u001b[0m\u001b[1;34m'ascii'\u001b[0m\u001b[1;33m)\u001b[0m\u001b[1;33m\u001b[0m\u001b[1;33m\u001b[0m\u001b[0m\n\u001b[0m\u001b[0;32m   1294\u001b[0m         \u001b[1;32mexcept\u001b[0m \u001b[0mTypeError\u001b[0m\u001b[1;33m:\u001b[0m\u001b[1;33m\u001b[0m\u001b[1;33m\u001b[0m\u001b[0m\n",
      "\u001b[1;31mTypeError\u001b[0m: a bytes-like object is required, not 'str'",
      "\nDuring handling of the above exception, another exception occurred:\n",
      "\u001b[1;31mFileNotFoundError\u001b[0m                         Traceback (most recent call last)",
      "\u001b[1;32m~\\miniconda3\\lib\\site-packages\\IPython\\core\\formatters.py\u001b[0m in \u001b[0;36m__call__\u001b[1;34m(self, obj, include, exclude)\u001b[0m\n\u001b[0;32m    968\u001b[0m \u001b[1;33m\u001b[0m\u001b[0m\n\u001b[0;32m    969\u001b[0m             \u001b[1;32mif\u001b[0m \u001b[0mmethod\u001b[0m \u001b[1;32mis\u001b[0m \u001b[1;32mnot\u001b[0m \u001b[1;32mNone\u001b[0m\u001b[1;33m:\u001b[0m\u001b[1;33m\u001b[0m\u001b[1;33m\u001b[0m\u001b[0m\n\u001b[1;32m--> 970\u001b[1;33m                 \u001b[1;32mreturn\u001b[0m \u001b[0mmethod\u001b[0m\u001b[1;33m(\u001b[0m\u001b[0minclude\u001b[0m\u001b[1;33m=\u001b[0m\u001b[0minclude\u001b[0m\u001b[1;33m,\u001b[0m \u001b[0mexclude\u001b[0m\u001b[1;33m=\u001b[0m\u001b[0mexclude\u001b[0m\u001b[1;33m)\u001b[0m\u001b[1;33m\u001b[0m\u001b[1;33m\u001b[0m\u001b[0m\n\u001b[0m\u001b[0;32m    971\u001b[0m             \u001b[1;32mreturn\u001b[0m \u001b[1;32mNone\u001b[0m\u001b[1;33m\u001b[0m\u001b[1;33m\u001b[0m\u001b[0m\n\u001b[0;32m    972\u001b[0m         \u001b[1;32melse\u001b[0m\u001b[1;33m:\u001b[0m\u001b[1;33m\u001b[0m\u001b[1;33m\u001b[0m\u001b[0m\n",
      "\u001b[1;32m~\\miniconda3\\lib\\site-packages\\IPython\\core\\display.py\u001b[0m in \u001b[0;36m_repr_mimebundle_\u001b[1;34m(self, include, exclude)\u001b[0m\n\u001b[0;32m   1281\u001b[0m         \u001b[1;32mif\u001b[0m \u001b[0mself\u001b[0m\u001b[1;33m.\u001b[0m\u001b[0membed\u001b[0m\u001b[1;33m:\u001b[0m\u001b[1;33m\u001b[0m\u001b[1;33m\u001b[0m\u001b[0m\n\u001b[0;32m   1282\u001b[0m             \u001b[0mmimetype\u001b[0m \u001b[1;33m=\u001b[0m \u001b[0mself\u001b[0m\u001b[1;33m.\u001b[0m\u001b[0m_mimetype\u001b[0m\u001b[1;33m\u001b[0m\u001b[1;33m\u001b[0m\u001b[0m\n\u001b[1;32m-> 1283\u001b[1;33m             \u001b[0mdata\u001b[0m\u001b[1;33m,\u001b[0m \u001b[0mmetadata\u001b[0m \u001b[1;33m=\u001b[0m \u001b[0mself\u001b[0m\u001b[1;33m.\u001b[0m\u001b[0m_data_and_metadata\u001b[0m\u001b[1;33m(\u001b[0m\u001b[0malways_both\u001b[0m\u001b[1;33m=\u001b[0m\u001b[1;32mTrue\u001b[0m\u001b[1;33m)\u001b[0m\u001b[1;33m\u001b[0m\u001b[1;33m\u001b[0m\u001b[0m\n\u001b[0m\u001b[0;32m   1284\u001b[0m             \u001b[1;32mif\u001b[0m \u001b[0mmetadata\u001b[0m\u001b[1;33m:\u001b[0m\u001b[1;33m\u001b[0m\u001b[1;33m\u001b[0m\u001b[0m\n\u001b[0;32m   1285\u001b[0m                 \u001b[0mmetadata\u001b[0m \u001b[1;33m=\u001b[0m \u001b[1;33m{\u001b[0m\u001b[0mmimetype\u001b[0m\u001b[1;33m:\u001b[0m \u001b[0mmetadata\u001b[0m\u001b[1;33m}\u001b[0m\u001b[1;33m\u001b[0m\u001b[1;33m\u001b[0m\u001b[0m\n",
      "\u001b[1;32m~\\miniconda3\\lib\\site-packages\\IPython\\core\\display.py\u001b[0m in \u001b[0;36m_data_and_metadata\u001b[1;34m(self, always_both)\u001b[0m\n\u001b[0;32m   1293\u001b[0m             \u001b[0mb64_data\u001b[0m \u001b[1;33m=\u001b[0m \u001b[0mb2a_base64\u001b[0m\u001b[1;33m(\u001b[0m\u001b[0mself\u001b[0m\u001b[1;33m.\u001b[0m\u001b[0mdata\u001b[0m\u001b[1;33m)\u001b[0m\u001b[1;33m.\u001b[0m\u001b[0mdecode\u001b[0m\u001b[1;33m(\u001b[0m\u001b[1;34m'ascii'\u001b[0m\u001b[1;33m)\u001b[0m\u001b[1;33m\u001b[0m\u001b[1;33m\u001b[0m\u001b[0m\n\u001b[0;32m   1294\u001b[0m         \u001b[1;32mexcept\u001b[0m \u001b[0mTypeError\u001b[0m\u001b[1;33m:\u001b[0m\u001b[1;33m\u001b[0m\u001b[1;33m\u001b[0m\u001b[0m\n\u001b[1;32m-> 1295\u001b[1;33m             raise FileNotFoundError(\n\u001b[0m\u001b[0;32m   1296\u001b[0m                 \"No such file or directory: '%s'\" % (self.data))\n\u001b[0;32m   1297\u001b[0m         \u001b[0mmd\u001b[0m \u001b[1;33m=\u001b[0m \u001b[1;33m{\u001b[0m\u001b[1;33m}\u001b[0m\u001b[1;33m\u001b[0m\u001b[1;33m\u001b[0m\u001b[0m\n",
      "\u001b[1;31mFileNotFoundError\u001b[0m: No such file or directory: 'Imagem/lending.jpg'"
     ]
    },
    {
     "ename": "FileNotFoundError",
     "evalue": "No such file or directory: 'Imagem/lending.jpg'",
     "output_type": "error",
     "traceback": [
      "\u001b[1;31m---------------------------------------------------------------------------\u001b[0m",
      "\u001b[1;31mTypeError\u001b[0m                                 Traceback (most recent call last)",
      "\u001b[1;32m~\\miniconda3\\lib\\site-packages\\IPython\\core\\display.py\u001b[0m in \u001b[0;36m_data_and_metadata\u001b[1;34m(self, always_both)\u001b[0m\n\u001b[0;32m   1292\u001b[0m         \u001b[1;32mtry\u001b[0m\u001b[1;33m:\u001b[0m\u001b[1;33m\u001b[0m\u001b[1;33m\u001b[0m\u001b[0m\n\u001b[1;32m-> 1293\u001b[1;33m             \u001b[0mb64_data\u001b[0m \u001b[1;33m=\u001b[0m \u001b[0mb2a_base64\u001b[0m\u001b[1;33m(\u001b[0m\u001b[0mself\u001b[0m\u001b[1;33m.\u001b[0m\u001b[0mdata\u001b[0m\u001b[1;33m)\u001b[0m\u001b[1;33m.\u001b[0m\u001b[0mdecode\u001b[0m\u001b[1;33m(\u001b[0m\u001b[1;34m'ascii'\u001b[0m\u001b[1;33m)\u001b[0m\u001b[1;33m\u001b[0m\u001b[1;33m\u001b[0m\u001b[0m\n\u001b[0m\u001b[0;32m   1294\u001b[0m         \u001b[1;32mexcept\u001b[0m \u001b[0mTypeError\u001b[0m\u001b[1;33m:\u001b[0m\u001b[1;33m\u001b[0m\u001b[1;33m\u001b[0m\u001b[0m\n",
      "\u001b[1;31mTypeError\u001b[0m: a bytes-like object is required, not 'str'",
      "\nDuring handling of the above exception, another exception occurred:\n",
      "\u001b[1;31mFileNotFoundError\u001b[0m                         Traceback (most recent call last)",
      "\u001b[1;32m~\\miniconda3\\lib\\site-packages\\IPython\\core\\formatters.py\u001b[0m in \u001b[0;36m__call__\u001b[1;34m(self, obj)\u001b[0m\n\u001b[0;32m    343\u001b[0m             \u001b[0mmethod\u001b[0m \u001b[1;33m=\u001b[0m \u001b[0mget_real_method\u001b[0m\u001b[1;33m(\u001b[0m\u001b[0mobj\u001b[0m\u001b[1;33m,\u001b[0m \u001b[0mself\u001b[0m\u001b[1;33m.\u001b[0m\u001b[0mprint_method\u001b[0m\u001b[1;33m)\u001b[0m\u001b[1;33m\u001b[0m\u001b[1;33m\u001b[0m\u001b[0m\n\u001b[0;32m    344\u001b[0m             \u001b[1;32mif\u001b[0m \u001b[0mmethod\u001b[0m \u001b[1;32mis\u001b[0m \u001b[1;32mnot\u001b[0m \u001b[1;32mNone\u001b[0m\u001b[1;33m:\u001b[0m\u001b[1;33m\u001b[0m\u001b[1;33m\u001b[0m\u001b[0m\n\u001b[1;32m--> 345\u001b[1;33m                 \u001b[1;32mreturn\u001b[0m \u001b[0mmethod\u001b[0m\u001b[1;33m(\u001b[0m\u001b[1;33m)\u001b[0m\u001b[1;33m\u001b[0m\u001b[1;33m\u001b[0m\u001b[0m\n\u001b[0m\u001b[0;32m    346\u001b[0m             \u001b[1;32mreturn\u001b[0m \u001b[1;32mNone\u001b[0m\u001b[1;33m\u001b[0m\u001b[1;33m\u001b[0m\u001b[0m\n\u001b[0;32m    347\u001b[0m         \u001b[1;32melse\u001b[0m\u001b[1;33m:\u001b[0m\u001b[1;33m\u001b[0m\u001b[1;33m\u001b[0m\u001b[0m\n",
      "\u001b[1;32m~\\miniconda3\\lib\\site-packages\\IPython\\core\\display.py\u001b[0m in \u001b[0;36m_repr_png_\u001b[1;34m(self)\u001b[0m\n\u001b[0;32m   1311\u001b[0m     \u001b[1;32mdef\u001b[0m \u001b[0m_repr_png_\u001b[0m\u001b[1;33m(\u001b[0m\u001b[0mself\u001b[0m\u001b[1;33m)\u001b[0m\u001b[1;33m:\u001b[0m\u001b[1;33m\u001b[0m\u001b[1;33m\u001b[0m\u001b[0m\n\u001b[0;32m   1312\u001b[0m         \u001b[1;32mif\u001b[0m \u001b[0mself\u001b[0m\u001b[1;33m.\u001b[0m\u001b[0membed\u001b[0m \u001b[1;32mand\u001b[0m \u001b[0mself\u001b[0m\u001b[1;33m.\u001b[0m\u001b[0mformat\u001b[0m \u001b[1;33m==\u001b[0m \u001b[0mself\u001b[0m\u001b[1;33m.\u001b[0m\u001b[0m_FMT_PNG\u001b[0m\u001b[1;33m:\u001b[0m\u001b[1;33m\u001b[0m\u001b[1;33m\u001b[0m\u001b[0m\n\u001b[1;32m-> 1313\u001b[1;33m             \u001b[1;32mreturn\u001b[0m \u001b[0mself\u001b[0m\u001b[1;33m.\u001b[0m\u001b[0m_data_and_metadata\u001b[0m\u001b[1;33m(\u001b[0m\u001b[1;33m)\u001b[0m\u001b[1;33m\u001b[0m\u001b[1;33m\u001b[0m\u001b[0m\n\u001b[0m\u001b[0;32m   1314\u001b[0m \u001b[1;33m\u001b[0m\u001b[0m\n\u001b[0;32m   1315\u001b[0m     \u001b[1;32mdef\u001b[0m \u001b[0m_repr_jpeg_\u001b[0m\u001b[1;33m(\u001b[0m\u001b[0mself\u001b[0m\u001b[1;33m)\u001b[0m\u001b[1;33m:\u001b[0m\u001b[1;33m\u001b[0m\u001b[1;33m\u001b[0m\u001b[0m\n",
      "\u001b[1;32m~\\miniconda3\\lib\\site-packages\\IPython\\core\\display.py\u001b[0m in \u001b[0;36m_data_and_metadata\u001b[1;34m(self, always_both)\u001b[0m\n\u001b[0;32m   1293\u001b[0m             \u001b[0mb64_data\u001b[0m \u001b[1;33m=\u001b[0m \u001b[0mb2a_base64\u001b[0m\u001b[1;33m(\u001b[0m\u001b[0mself\u001b[0m\u001b[1;33m.\u001b[0m\u001b[0mdata\u001b[0m\u001b[1;33m)\u001b[0m\u001b[1;33m.\u001b[0m\u001b[0mdecode\u001b[0m\u001b[1;33m(\u001b[0m\u001b[1;34m'ascii'\u001b[0m\u001b[1;33m)\u001b[0m\u001b[1;33m\u001b[0m\u001b[1;33m\u001b[0m\u001b[0m\n\u001b[0;32m   1294\u001b[0m         \u001b[1;32mexcept\u001b[0m \u001b[0mTypeError\u001b[0m\u001b[1;33m:\u001b[0m\u001b[1;33m\u001b[0m\u001b[1;33m\u001b[0m\u001b[0m\n\u001b[1;32m-> 1295\u001b[1;33m             raise FileNotFoundError(\n\u001b[0m\u001b[0;32m   1296\u001b[0m                 \"No such file or directory: '%s'\" % (self.data))\n\u001b[0;32m   1297\u001b[0m         \u001b[0mmd\u001b[0m \u001b[1;33m=\u001b[0m \u001b[1;33m{\u001b[0m\u001b[1;33m}\u001b[0m\u001b[1;33m\u001b[0m\u001b[1;33m\u001b[0m\u001b[0m\n",
      "\u001b[1;31mFileNotFoundError\u001b[0m: No such file or directory: 'Imagem/lending.jpg'"
     ]
    },
    {
     "data": {
      "text/plain": [
       "<IPython.core.display.Image object>"
      ]
     },
     "execution_count": 91,
     "metadata": {},
     "output_type": "execute_result"
    }
   ],
   "source": [
    "Image(\"Imagem/lending.jpg\", width=400, embed=True)"
   ]
  },
  {
   "cell_type": "code",
   "execution_count": 3,
   "metadata": {},
   "outputs": [
    {
     "name": "stdout",
     "output_type": "stream",
     "text": [
      "Para a visualização dos códigos, use o botão abaixo\n"
     ]
    },
    {
     "data": {
      "text/html": [
       "\n",
       "<script>\n",
       "function mudarNome()\n",
       "{\n",
       "     if(document.getElementById(\"button\").value == \"Hide\")\n",
       "     {\n",
       "        document.getElementById(\"button\").value = \"Code\";\n",
       "        $('div.input').hide();\n",
       "     } \n",
       "     else\n",
       "     {\n",
       "          document.getElementById(\"button\").value = \"Hide\";\n",
       "          $('div.input').show();\n",
       "     }\n",
       "}\n",
       "</script>\n",
       "\n",
       "<body>\n",
       "    <input type=\"button\" id=\"button\" onclick=\"mudarNome();\" value=\"Hide\" />\n",
       "</body>"
      ],
      "text/plain": [
       "<IPython.core.display.HTML object>"
      ]
     },
     "execution_count": 3,
     "metadata": {},
     "output_type": "execute_result"
    }
   ],
   "source": [
    "# Esconder o codigo\n",
    "print(\"Para a visualização dos códigos, use o botão abaixo\")\n",
    "HTML('''\n",
    "<script>\n",
    "function mudarNome()\n",
    "{\n",
    "     if(document.getElementById(\"button\").value == \"Hide\")\n",
    "     {\n",
    "        document.getElementById(\"button\").value = \"Code\";\n",
    "        $('div.input').hide();\n",
    "     } \n",
    "     else\n",
    "     {\n",
    "          document.getElementById(\"button\").value = \"Hide\";\n",
    "          $('div.input').show();\n",
    "     }\n",
    "}\n",
    "</script>\n",
    "\n",
    "<body>\n",
    "    <input type=\"button\" id=\"button\" onclick=\"mudarNome();\" value=\"Hide\" />\n",
    "</body>''')"
   ]
  },
  {
   "cell_type": "markdown",
   "metadata": {},
   "source": [
    "### LendingClub\n",
    "\n",
    "LendingClub é uma empresa americana de empréstimos ponto a ponto, ou seja, desde o empréstimo até o investimento, com sede em San Francisco, Califórnia. Foi o primeiro credor ponto a ponto a registrar suas ofertas como títulos na *Securities and Exchange Commission* (SEC) e a oferecer operações de empréstimos em um mercado secundário. O LendingClub é a maior plataforma de empréstimos ponto a ponto do mundo. A empresa alega que US\\\\$ 15,98 bilhões em empréstimos foram originados por meio de sua plataforma até 31 de dezembro de 2015.\n",
    "\n",
    "A LendingClub permite que os mutuários criem empréstimos pessoais não garantidos entre US\\\\$ 1.000 e US\\\\$ 40.000. O período de empréstimo padrão é de três anos. Os investidores podem pesquisar e navegar pelas listagens de empréstimos do site LendingClub e selecionar empréstimos nos quais desejam investir com base nas informações fornecidas sobre o mutuário, montante do empréstimo, grau do empréstimo e finalidade do empréstimo. Os investidores ganham dinheiro com juros. O LendingClub ganha dinheiro cobrando dos devedores uma taxa de fonte e dos investidores uma taxa de serviço.\n",
    "\n",
    "A LendingClub também faz empréstimos tradicionais diretos ao consumidor, incluindo transações de refinanciamento de automóveis, por meio do WebBank, um banco industrial estatal com seguro FDIC e sede em Salt Lake City, Utah. Os empréstimos não são financiados pelos investidores, mas são atribuídos a outras instituições financeiras.\n",
    "\n",
    "A empresa levantou US\\\\$ 1 bilhão no que se tornou o **maior IPO de tecnologia de 2014 nos Estados Unidos**. Embora visto como pioneiro no setor de *fintech* é uma das maiores empresas do gênero.\n",
    "\n",
    "\n",
    "### Destaques\n",
    "\n",
    "Em 2011 e 2012, a empresa foi nomeada como uma das *AlwaysOn Global* 250. A LendingClub é vencedora do Prêmio Pioneiro em Tecnologia do Fórum Econômico Mundial de 2012. Foi reconhecida pela Forbes como uma das 20 empresas mais promissoras da América em 2011 e 2012, e pela Fast Company como uma das dez empresas financeiras mais inovadoras do mundo. Foi nomeado um dos Disruptor 50 pela CNBC em maio de 2013 e 2014, como um inovador disruptivo nos serviços financeiros da próxima geração. Em 2014, a LendingClub foi reconhecido pela Inc. como uma das 500 empresas privadas de mais rápido crescimento nos Estados Unidos na posição #248. Renaud Laplanche, fundador e CEO da empresa, também recebeu o *Economist Innovation Award* em 2014 pela categoria de produtos de consumo.\n",
    "\n",
    "\n",
    "### Dataset\n",
    "\n",
    "O dataset contêm dados completos do empréstimo para todos os empréstimos emitidos no período 2013-2018, incluindo o *status* atual do empréstimo (*Current*, *Late* e *Default*) e as informações mais recentes sobre pagamento. O arquivo que contém dados do empréstimo por meio do \"presente\" contém dados completos do empréstimo para todos os empréstimos emitidos no trimestre calendário anterior concluído. Os recursos adicionais incluem pontuação de crédito, número de consultas financeiras, endereço incluindo CEP, estado e cobranças, entre outros. O arquivo é uma matriz de cerca de 248196 observações e 145 variáveis. Um dicionário de dados é fornecido em um arquivo separado."
   ]
  },
  {
   "cell_type": "markdown",
   "metadata": {},
   "source": [
    "### Apresentação do Dataset\n",
    "\n",
    "Abaixo,as 5 primeiras linhas com parte das 145 colunas do dataset."
   ]
  },
  {
   "cell_type": "code",
   "execution_count": 4,
   "metadata": {},
   "outputs": [
    {
     "data": {
      "text/html": [
       "<div>\n",
       "<style scoped>\n",
       "    .dataframe tbody tr th:only-of-type {\n",
       "        vertical-align: middle;\n",
       "    }\n",
       "\n",
       "    .dataframe tbody tr th {\n",
       "        vertical-align: top;\n",
       "    }\n",
       "\n",
       "    .dataframe thead th {\n",
       "        text-align: right;\n",
       "    }\n",
       "</style>\n",
       "<table border=\"1\" class=\"dataframe\">\n",
       "  <thead>\n",
       "    <tr style=\"text-align: right;\">\n",
       "      <th></th>\n",
       "      <th>id</th>\n",
       "      <th>member_id</th>\n",
       "      <th>loan_amnt</th>\n",
       "      <th>funded_amnt</th>\n",
       "      <th>funded_amnt_inv</th>\n",
       "      <th>term</th>\n",
       "      <th>int_rate</th>\n",
       "      <th>installment</th>\n",
       "      <th>grade</th>\n",
       "      <th>sub_grade</th>\n",
       "      <th>...</th>\n",
       "      <th>hardship_payoff_balance_amount</th>\n",
       "      <th>hardship_last_payment_amount</th>\n",
       "      <th>disbursement_method</th>\n",
       "      <th>debt_settlement_flag</th>\n",
       "      <th>debt_settlement_flag_date</th>\n",
       "      <th>settlement_status</th>\n",
       "      <th>settlement_date</th>\n",
       "      <th>settlement_amount</th>\n",
       "      <th>settlement_percentage</th>\n",
       "      <th>settlement_term</th>\n",
       "    </tr>\n",
       "  </thead>\n",
       "  <tbody>\n",
       "    <tr>\n",
       "      <th>0</th>\n",
       "      <td>NaN</td>\n",
       "      <td>NaN</td>\n",
       "      <td>20975</td>\n",
       "      <td>20975</td>\n",
       "      <td>20975</td>\n",
       "      <td>36 months</td>\n",
       "      <td>8.19</td>\n",
       "      <td>659.13</td>\n",
       "      <td>A</td>\n",
       "      <td>A4</td>\n",
       "      <td>...</td>\n",
       "      <td>NaN</td>\n",
       "      <td>NaN</td>\n",
       "      <td>Cash</td>\n",
       "      <td>N</td>\n",
       "      <td>NaN</td>\n",
       "      <td>NaN</td>\n",
       "      <td>NaN</td>\n",
       "      <td>NaN</td>\n",
       "      <td>NaN</td>\n",
       "      <td>NaN</td>\n",
       "    </tr>\n",
       "    <tr>\n",
       "      <th>1</th>\n",
       "      <td>NaN</td>\n",
       "      <td>NaN</td>\n",
       "      <td>20000</td>\n",
       "      <td>20000</td>\n",
       "      <td>20000</td>\n",
       "      <td>36 months</td>\n",
       "      <td>11.80</td>\n",
       "      <td>662.38</td>\n",
       "      <td>B</td>\n",
       "      <td>B4</td>\n",
       "      <td>...</td>\n",
       "      <td>NaN</td>\n",
       "      <td>NaN</td>\n",
       "      <td>Cash</td>\n",
       "      <td>N</td>\n",
       "      <td>NaN</td>\n",
       "      <td>NaN</td>\n",
       "      <td>NaN</td>\n",
       "      <td>NaN</td>\n",
       "      <td>NaN</td>\n",
       "      <td>NaN</td>\n",
       "    </tr>\n",
       "    <tr>\n",
       "      <th>2</th>\n",
       "      <td>NaN</td>\n",
       "      <td>NaN</td>\n",
       "      <td>9100</td>\n",
       "      <td>9100</td>\n",
       "      <td>9100</td>\n",
       "      <td>36 months</td>\n",
       "      <td>26.31</td>\n",
       "      <td>368.15</td>\n",
       "      <td>E</td>\n",
       "      <td>E4</td>\n",
       "      <td>...</td>\n",
       "      <td>NaN</td>\n",
       "      <td>NaN</td>\n",
       "      <td>Cash</td>\n",
       "      <td>N</td>\n",
       "      <td>NaN</td>\n",
       "      <td>NaN</td>\n",
       "      <td>NaN</td>\n",
       "      <td>NaN</td>\n",
       "      <td>NaN</td>\n",
       "      <td>NaN</td>\n",
       "    </tr>\n",
       "    <tr>\n",
       "      <th>3</th>\n",
       "      <td>NaN</td>\n",
       "      <td>NaN</td>\n",
       "      <td>3525</td>\n",
       "      <td>3525</td>\n",
       "      <td>3525</td>\n",
       "      <td>36 months</td>\n",
       "      <td>25.34</td>\n",
       "      <td>140.79</td>\n",
       "      <td>E</td>\n",
       "      <td>E3</td>\n",
       "      <td>...</td>\n",
       "      <td>NaN</td>\n",
       "      <td>NaN</td>\n",
       "      <td>Cash</td>\n",
       "      <td>N</td>\n",
       "      <td>NaN</td>\n",
       "      <td>NaN</td>\n",
       "      <td>NaN</td>\n",
       "      <td>NaN</td>\n",
       "      <td>NaN</td>\n",
       "      <td>NaN</td>\n",
       "    </tr>\n",
       "    <tr>\n",
       "      <th>4</th>\n",
       "      <td>NaN</td>\n",
       "      <td>NaN</td>\n",
       "      <td>11500</td>\n",
       "      <td>11500</td>\n",
       "      <td>11500</td>\n",
       "      <td>36 months</td>\n",
       "      <td>13.56</td>\n",
       "      <td>390.59</td>\n",
       "      <td>C</td>\n",
       "      <td>C1</td>\n",
       "      <td>...</td>\n",
       "      <td>NaN</td>\n",
       "      <td>NaN</td>\n",
       "      <td>Cash</td>\n",
       "      <td>N</td>\n",
       "      <td>NaN</td>\n",
       "      <td>NaN</td>\n",
       "      <td>NaN</td>\n",
       "      <td>NaN</td>\n",
       "      <td>NaN</td>\n",
       "      <td>NaN</td>\n",
       "    </tr>\n",
       "    <tr>\n",
       "      <th>...</th>\n",
       "      <td>...</td>\n",
       "      <td>...</td>\n",
       "      <td>...</td>\n",
       "      <td>...</td>\n",
       "      <td>...</td>\n",
       "      <td>...</td>\n",
       "      <td>...</td>\n",
       "      <td>...</td>\n",
       "      <td>...</td>\n",
       "      <td>...</td>\n",
       "      <td>...</td>\n",
       "      <td>...</td>\n",
       "      <td>...</td>\n",
       "      <td>...</td>\n",
       "      <td>...</td>\n",
       "      <td>...</td>\n",
       "      <td>...</td>\n",
       "      <td>...</td>\n",
       "      <td>...</td>\n",
       "      <td>...</td>\n",
       "      <td>...</td>\n",
       "    </tr>\n",
       "    <tr>\n",
       "      <th>248191</th>\n",
       "      <td>NaN</td>\n",
       "      <td>NaN</td>\n",
       "      <td>2500</td>\n",
       "      <td>2500</td>\n",
       "      <td>2500</td>\n",
       "      <td>36 months</td>\n",
       "      <td>13.56</td>\n",
       "      <td>84.92</td>\n",
       "      <td>C</td>\n",
       "      <td>C1</td>\n",
       "      <td>...</td>\n",
       "      <td>NaN</td>\n",
       "      <td>NaN</td>\n",
       "      <td>Cash</td>\n",
       "      <td>N</td>\n",
       "      <td>NaN</td>\n",
       "      <td>NaN</td>\n",
       "      <td>NaN</td>\n",
       "      <td>NaN</td>\n",
       "      <td>NaN</td>\n",
       "      <td>NaN</td>\n",
       "    </tr>\n",
       "    <tr>\n",
       "      <th>248192</th>\n",
       "      <td>NaN</td>\n",
       "      <td>NaN</td>\n",
       "      <td>2500</td>\n",
       "      <td>2500</td>\n",
       "      <td>2500</td>\n",
       "      <td>36 months</td>\n",
       "      <td>13.56</td>\n",
       "      <td>84.92</td>\n",
       "      <td>C</td>\n",
       "      <td>C1</td>\n",
       "      <td>...</td>\n",
       "      <td>NaN</td>\n",
       "      <td>NaN</td>\n",
       "      <td>Cash</td>\n",
       "      <td>N</td>\n",
       "      <td>NaN</td>\n",
       "      <td>NaN</td>\n",
       "      <td>NaN</td>\n",
       "      <td>NaN</td>\n",
       "      <td>NaN</td>\n",
       "      <td>NaN</td>\n",
       "    </tr>\n",
       "    <tr>\n",
       "      <th>248193</th>\n",
       "      <td>NaN</td>\n",
       "      <td>NaN</td>\n",
       "      <td>2500</td>\n",
       "      <td>2500</td>\n",
       "      <td>2500</td>\n",
       "      <td>36 months</td>\n",
       "      <td>13.56</td>\n",
       "      <td>84.92</td>\n",
       "      <td>C</td>\n",
       "      <td>C1</td>\n",
       "      <td>...</td>\n",
       "      <td>NaN</td>\n",
       "      <td>NaN</td>\n",
       "      <td>Cash</td>\n",
       "      <td>N</td>\n",
       "      <td>NaN</td>\n",
       "      <td>NaN</td>\n",
       "      <td>NaN</td>\n",
       "      <td>NaN</td>\n",
       "      <td>NaN</td>\n",
       "      <td>NaN</td>\n",
       "    </tr>\n",
       "    <tr>\n",
       "      <th>248194</th>\n",
       "      <td>NaN</td>\n",
       "      <td>NaN</td>\n",
       "      <td>2500</td>\n",
       "      <td>2500</td>\n",
       "      <td>2500</td>\n",
       "      <td>36 months</td>\n",
       "      <td>13.56</td>\n",
       "      <td>84.92</td>\n",
       "      <td>C</td>\n",
       "      <td>C1</td>\n",
       "      <td>...</td>\n",
       "      <td>NaN</td>\n",
       "      <td>NaN</td>\n",
       "      <td>Cash</td>\n",
       "      <td>N</td>\n",
       "      <td>NaN</td>\n",
       "      <td>NaN</td>\n",
       "      <td>NaN</td>\n",
       "      <td>NaN</td>\n",
       "      <td>NaN</td>\n",
       "      <td>NaN</td>\n",
       "    </tr>\n",
       "    <tr>\n",
       "      <th>248195</th>\n",
       "      <td>NaN</td>\n",
       "      <td>NaN</td>\n",
       "      <td>2500</td>\n",
       "      <td>2500</td>\n",
       "      <td>2500</td>\n",
       "      <td>36 months</td>\n",
       "      <td>13.56</td>\n",
       "      <td>84.92</td>\n",
       "      <td>C</td>\n",
       "      <td>C1</td>\n",
       "      <td>...</td>\n",
       "      <td>NaN</td>\n",
       "      <td>NaN</td>\n",
       "      <td>Cash</td>\n",
       "      <td>N</td>\n",
       "      <td>NaN</td>\n",
       "      <td>NaN</td>\n",
       "      <td>NaN</td>\n",
       "      <td>NaN</td>\n",
       "      <td>NaN</td>\n",
       "      <td>NaN</td>\n",
       "    </tr>\n",
       "  </tbody>\n",
       "</table>\n",
       "<p>248196 rows × 145 columns</p>\n",
       "</div>"
      ],
      "text/plain": [
       "        id  member_id  loan_amnt  funded_amnt  funded_amnt_inv       term  \\\n",
       "0      NaN        NaN      20975        20975            20975  36 months   \n",
       "1      NaN        NaN      20000        20000            20000  36 months   \n",
       "2      NaN        NaN       9100         9100             9100  36 months   \n",
       "3      NaN        NaN       3525         3525             3525  36 months   \n",
       "4      NaN        NaN      11500        11500            11500  36 months   \n",
       "...     ..        ...        ...          ...              ...        ...   \n",
       "248191 NaN        NaN       2500         2500             2500  36 months   \n",
       "248192 NaN        NaN       2500         2500             2500  36 months   \n",
       "248193 NaN        NaN       2500         2500             2500  36 months   \n",
       "248194 NaN        NaN       2500         2500             2500  36 months   \n",
       "248195 NaN        NaN       2500         2500             2500  36 months   \n",
       "\n",
       "        int_rate  installment grade sub_grade  ...  \\\n",
       "0           8.19       659.13     A        A4  ...   \n",
       "1          11.80       662.38     B        B4  ...   \n",
       "2          26.31       368.15     E        E4  ...   \n",
       "3          25.34       140.79     E        E3  ...   \n",
       "4          13.56       390.59     C        C1  ...   \n",
       "...          ...          ...   ...       ...  ...   \n",
       "248191     13.56        84.92     C        C1  ...   \n",
       "248192     13.56        84.92     C        C1  ...   \n",
       "248193     13.56        84.92     C        C1  ...   \n",
       "248194     13.56        84.92     C        C1  ...   \n",
       "248195     13.56        84.92     C        C1  ...   \n",
       "\n",
       "       hardship_payoff_balance_amount hardship_last_payment_amount  \\\n",
       "0                                 NaN                          NaN   \n",
       "1                                 NaN                          NaN   \n",
       "2                                 NaN                          NaN   \n",
       "3                                 NaN                          NaN   \n",
       "4                                 NaN                          NaN   \n",
       "...                               ...                          ...   \n",
       "248191                            NaN                          NaN   \n",
       "248192                            NaN                          NaN   \n",
       "248193                            NaN                          NaN   \n",
       "248194                            NaN                          NaN   \n",
       "248195                            NaN                          NaN   \n",
       "\n",
       "       disbursement_method  debt_settlement_flag debt_settlement_flag_date  \\\n",
       "0                     Cash                     N                       NaN   \n",
       "1                     Cash                     N                       NaN   \n",
       "2                     Cash                     N                       NaN   \n",
       "3                     Cash                     N                       NaN   \n",
       "4                     Cash                     N                       NaN   \n",
       "...                    ...                   ...                       ...   \n",
       "248191                Cash                     N                       NaN   \n",
       "248192                Cash                     N                       NaN   \n",
       "248193                Cash                     N                       NaN   \n",
       "248194                Cash                     N                       NaN   \n",
       "248195                Cash                     N                       NaN   \n",
       "\n",
       "       settlement_status settlement_date settlement_amount  \\\n",
       "0                    NaN             NaN               NaN   \n",
       "1                    NaN             NaN               NaN   \n",
       "2                    NaN             NaN               NaN   \n",
       "3                    NaN             NaN               NaN   \n",
       "4                    NaN             NaN               NaN   \n",
       "...                  ...             ...               ...   \n",
       "248191               NaN             NaN               NaN   \n",
       "248192               NaN             NaN               NaN   \n",
       "248193               NaN             NaN               NaN   \n",
       "248194               NaN             NaN               NaN   \n",
       "248195               NaN             NaN               NaN   \n",
       "\n",
       "        settlement_percentage settlement_term  \n",
       "0                         NaN             NaN  \n",
       "1                         NaN             NaN  \n",
       "2                         NaN             NaN  \n",
       "3                         NaN             NaN  \n",
       "4                         NaN             NaN  \n",
       "...                       ...             ...  \n",
       "248191                    NaN             NaN  \n",
       "248192                    NaN             NaN  \n",
       "248193                    NaN             NaN  \n",
       "248194                    NaN             NaN  \n",
       "248195                    NaN             NaN  \n",
       "\n",
       "[248196 rows x 145 columns]"
      ]
     },
     "execution_count": 4,
     "metadata": {},
     "output_type": "execute_result"
    }
   ],
   "source": [
    "filepath = 'loan_data.csv'\n",
    "raw_data = pd.read_csv(filepath,low_memory=False)\n",
    "\n",
    "raw_data"
   ]
  },
  {
   "cell_type": "markdown",
   "metadata": {},
   "source": [
    "### Objetivo\n",
    "\n",
    "O objetivo é analisar os dados dos clientes (onde são alocados os empréstimos), para termerminar **qual cliente terá atraso** no pagamento do empréstimo. Dessa forma, a variável *target* aqui é a ***loan_status***, a qual possue as seguintes classificações:\n",
    "\n",
    "- *Current*, com 222531 indivíduos;\n",
    "- *Late (31-120 days)* com 21897 indivíduos;\n",
    "- *Late (16-30 days)* com 3737 indivíduos;\n",
    "- *Default* com 31 indivíduos.\n",
    "\n",
    "Esses *status* serão reclassificados, de forma que, *Current* será igualado ao valor zero (0) e os demais serão igualados à um (1). "
   ]
  },
  {
   "cell_type": "code",
   "execution_count": 5,
   "metadata": {
    "scrolled": true
   },
   "outputs": [
    {
     "data": {
      "text/plain": [
       "Current               222531\n",
       "Late (31-120 days)     21897\n",
       "Late (16-30 days)       3737\n",
       "Default                   31\n",
       "Name: loan_status, dtype: int64"
      ]
     },
     "execution_count": 5,
     "metadata": {},
     "output_type": "execute_result"
    }
   ],
   "source": [
    "raw_data['loan_status'].value_counts()"
   ]
  },
  {
   "cell_type": "code",
   "execution_count": 6,
   "metadata": {},
   "outputs": [
    {
     "name": "stdout",
     "output_type": "stream",
     "text": [
      "<class 'pandas.core.frame.DataFrame'>\n",
      "RangeIndex: 248196 entries, 0 to 248195\n",
      "Columns: 145 entries, id to settlement_term\n",
      "dtypes: float64(66), int64(43), object(36)\n",
      "memory usage: 274.6+ MB\n"
     ]
    }
   ],
   "source": [
    "raw_data.info()"
   ]
  },
  {
   "cell_type": "markdown",
   "metadata": {},
   "source": [
    "### Visualizações e *Insights* do Dataset"
   ]
  },
  {
   "cell_type": "code",
   "execution_count": 7,
   "metadata": {},
   "outputs": [],
   "source": [
    "variaveis = raw_data.columns.sortlevel()[0]"
   ]
  },
  {
   "cell_type": "code",
   "execution_count": 8,
   "metadata": {},
   "outputs": [
    {
     "data": {
      "text/plain": [
       "array(['acc_now_delinq', 'acc_open_past_24mths', 'addr_state', 'all_util',\n",
       "       'annual_inc', 'annual_inc_joint', 'application_type',\n",
       "       'avg_cur_bal', 'bc_open_to_buy', 'bc_util',\n",
       "       'chargeoff_within_12_mths', 'collection_recovery_fee',\n",
       "       'collections_12_mths_ex_med', 'debt_settlement_flag',\n",
       "       'debt_settlement_flag_date', 'deferral_term', 'delinq_2yrs',\n",
       "       'delinq_amnt', 'desc', 'disbursement_method', 'dti', 'dti_joint',\n",
       "       'earliest_cr_line', 'emp_length', 'emp_title', 'funded_amnt',\n",
       "       'funded_amnt_inv', 'grade', 'hardship_amount', 'hardship_dpd',\n",
       "       'hardship_end_date', 'hardship_flag',\n",
       "       'hardship_last_payment_amount', 'hardship_length',\n",
       "       'hardship_loan_status', 'hardship_payoff_balance_amount',\n",
       "       'hardship_reason', 'hardship_start_date', 'hardship_status',\n",
       "       'hardship_type', 'home_ownership', 'id', 'il_util',\n",
       "       'initial_list_status', 'inq_fi', 'inq_last_12m', 'inq_last_6mths',\n",
       "       'installment', 'int_rate', 'issue_d', 'last_credit_pull_d',\n",
       "       'last_pymnt_amnt', 'last_pymnt_d', 'loan_amnt', 'loan_status',\n",
       "       'max_bal_bc', 'member_id', 'mo_sin_old_il_acct',\n",
       "       'mo_sin_old_rev_tl_op', 'mo_sin_rcnt_rev_tl_op', 'mo_sin_rcnt_tl',\n",
       "       'mort_acc', 'mths_since_last_delinq',\n",
       "       'mths_since_last_major_derog', 'mths_since_last_record',\n",
       "       'mths_since_rcnt_il', 'mths_since_recent_bc',\n",
       "       'mths_since_recent_bc_dlq', 'mths_since_recent_inq',\n",
       "       'mths_since_recent_revol_delinq', 'next_pymnt_d',\n",
       "       'num_accts_ever_120_pd', 'num_actv_bc_tl', 'num_actv_rev_tl',\n",
       "       'num_bc_sats', 'num_bc_tl', 'num_il_tl', 'num_op_rev_tl',\n",
       "       'num_rev_accts', 'num_rev_tl_bal_gt_0', 'num_sats',\n",
       "       'num_tl_120dpd_2m', 'num_tl_30dpd', 'num_tl_90g_dpd_24m',\n",
       "       'num_tl_op_past_12m', 'open_acc', 'open_acc_6m', 'open_act_il',\n",
       "       'open_il_12m', 'open_il_24m', 'open_rv_12m', 'open_rv_24m',\n",
       "       'orig_projected_additional_accrued_interest', 'out_prncp',\n",
       "       'out_prncp_inv', 'payment_plan_start_date', 'pct_tl_nvr_dlq',\n",
       "       'percent_bc_gt_75', 'policy_code', 'pub_rec',\n",
       "       'pub_rec_bankruptcies', 'purpose', 'pymnt_plan', 'recoveries',\n",
       "       'revol_bal', 'revol_bal_joint', 'revol_util',\n",
       "       'sec_app_chargeoff_within_12_mths',\n",
       "       'sec_app_collections_12_mths_ex_med', 'sec_app_earliest_cr_line',\n",
       "       'sec_app_inq_last_6mths', 'sec_app_mort_acc',\n",
       "       'sec_app_mths_since_last_major_derog', 'sec_app_num_rev_accts',\n",
       "       'sec_app_open_acc', 'sec_app_open_act_il', 'sec_app_revol_util',\n",
       "       'settlement_amount', 'settlement_date', 'settlement_percentage',\n",
       "       'settlement_status', 'settlement_term', 'sub_grade', 'tax_liens',\n",
       "       'term', 'title', 'tot_coll_amt', 'tot_cur_bal', 'tot_hi_cred_lim',\n",
       "       'total_acc', 'total_bal_ex_mort', 'total_bal_il', 'total_bc_limit',\n",
       "       'total_cu_tl', 'total_il_high_credit_limit', 'total_pymnt',\n",
       "       'total_pymnt_inv', 'total_rec_int', 'total_rec_late_fee',\n",
       "       'total_rec_prncp', 'total_rev_hi_lim', 'url',\n",
       "       'verification_status', 'verification_status_joint', 'zip_code'],\n",
       "      dtype=object)"
      ]
     },
     "execution_count": 8,
     "metadata": {},
     "output_type": "execute_result"
    }
   ],
   "source": [
    "variaveis.values"
   ]
  },
  {
   "cell_type": "markdown",
   "metadata": {},
   "source": [
    "Verificando a distribuição de montantes por mutuários (os que precisam do empréstimo) e os investidores. No gráficos são mostrados os **Financiamentos dos Empréstimos**, assim como o **Montante Financiado**, os quais possuem uma mesma distribuição de valores, o que leva a crer que os que precisarem de financiamento provavelmente conseguirão, dada a oferta. Há também o **Total Aplicado pelos Investidores**, que possue uma quantidade maior do que os demais anteriores citados, demonstrando um mercado \"aquecido\"."
   ]
  },
  {
   "cell_type": "code",
   "execution_count": 9,
   "metadata": {},
   "outputs": [
    {
     "name": "stderr",
     "output_type": "stream",
     "text": [
      "C:\\Users\\Fernando Nast\\miniconda3\\lib\\site-packages\\seaborn\\distributions.py:2551: FutureWarning:\n",
      "\n",
      "`distplot` is a deprecated function and will be removed in a future version. Please adapt your code to use either `displot` (a figure-level function with similar flexibility) or `histplot` (an axes-level function for histograms).\n",
      "\n",
      "C:\\Users\\Fernando Nast\\miniconda3\\lib\\site-packages\\seaborn\\distributions.py:2551: FutureWarning:\n",
      "\n",
      "`distplot` is a deprecated function and will be removed in a future version. Please adapt your code to use either `displot` (a figure-level function with similar flexibility) or `histplot` (an axes-level function for histograms).\n",
      "\n",
      "C:\\Users\\Fernando Nast\\miniconda3\\lib\\site-packages\\seaborn\\distributions.py:2551: FutureWarning:\n",
      "\n",
      "`distplot` is a deprecated function and will be removed in a future version. Please adapt your code to use either `displot` (a figure-level function with similar flexibility) or `histplot` (an axes-level function for histograms).\n",
      "\n",
      "C:\\Users\\Fernando Nast\\miniconda3\\lib\\site-packages\\seaborn\\distributions.py:2551: FutureWarning:\n",
      "\n",
      "`distplot` is a deprecated function and will be removed in a future version. Please adapt your code to use either `displot` (a figure-level function with similar flexibility) or `histplot` (an axes-level function for histograms).\n",
      "\n",
      "C:\\Users\\Fernando Nast\\miniconda3\\lib\\site-packages\\seaborn\\distributions.py:2551: FutureWarning:\n",
      "\n",
      "`distplot` is a deprecated function and will be removed in a future version. Please adapt your code to use either `displot` (a figure-level function with similar flexibility) or `histplot` (an axes-level function for histograms).\n",
      "\n",
      "C:\\Users\\Fernando Nast\\miniconda3\\lib\\site-packages\\seaborn\\distributions.py:2551: FutureWarning:\n",
      "\n",
      "`distplot` is a deprecated function and will be removed in a future version. Please adapt your code to use either `displot` (a figure-level function with similar flexibility) or `histplot` (an axes-level function for histograms).\n",
      "\n"
     ]
    },
    {
     "data": {
      "text/plain": [
       "(0.0, 5000.0)"
      ]
     },
     "execution_count": 9,
     "metadata": {},
     "output_type": "execute_result"
    },
    {
     "data": {
      "image/png": "[encoded data removed]",
      "text/plain": [
       "<Figure size 1152x720 with 6 Axes>"
      ]
     },
     "metadata": {
      "needs_background": "light"
     },
     "output_type": "display_data"
    }
   ],
   "source": [
    "fig, ax = plt.subplots(2, 3, figsize=(16,10))\n",
    "\n",
    "############################################################# LINHA 1\n",
    "sns.distplot(raw_data[\"loan_amnt\"],ax=ax[0,0],color=\"red\")\n",
    "ax[0,0].set_title(\"Financiamento do Empréstimo\", fontsize=14)\n",
    "ax[0,0].grid(which='both',linestyle='--')\n",
    "t = 'Média = %.2f\\nMediana = %.2f' % (raw_data[\"loan_amnt\"].mean(), raw_data[\"loan_amnt\"].median())\n",
    "ax[0,0].text(40000,0.0045, t, horizontalalignment='right', verticalalignment='top')\n",
    "\n",
    "sns.distplot(raw_data[\"funded_amnt\"], ax=ax[0,1], color=\"blue\")\n",
    "ax[0,1].set_title(\"Montante Financiado\", fontsize=14)\n",
    "ax[0,1].grid(which='both',linestyle='--')\n",
    "t2 = 'Média = %.2f\\nMediana = %.2f' % (raw_data[\"funded_amnt\"].mean(), raw_data[\"funded_amnt\"].median())\n",
    "ax[0,1].text(40000,0.0045, t2, horizontalalignment='right', verticalalignment='top')\n",
    "\n",
    "sns.distplot(raw_data[\"funded_amnt_inv\"], ax=ax[0,2], color=\"green\")\n",
    "ax[0,2].set_title(\"Total aplicado pelos Investidores\", fontsize=14)\n",
    "ax[0,2].grid(which='both',linestyle='--')\n",
    "t3 = 'Média = %.2f\\nMediana = %.2f' % (raw_data[\"funded_amnt_inv\"].mean(), raw_data[\"funded_amnt_inv\"].median())\n",
    "ax[0,2].text(40000,0.0045, t3, horizontalalignment='right', verticalalignment='top')\n",
    "\n",
    "ax[0,0].set_ylim(ax[0,2].set_ylim())\n",
    "ax[0,1].set_ylim(ax[0,2].set_ylim())\n",
    "\n",
    "############################################################# LINHA 2\n",
    "sns.distplot(raw_data[\"loan_amnt\"],ax=ax[1,0], color=\"red\")\n",
    "ax[1,0].grid(which='both',linestyle='--')\n",
    "\n",
    "sns.distplot(raw_data[\"funded_amnt\"], ax=ax[1,1], color=\"blue\")\n",
    "ax[1,1].grid(which='both',linestyle='--')\n",
    "\n",
    "sns.distplot(raw_data[\"funded_amnt_inv\"], ax=ax[1,2], color=\"green\")\n",
    "ax[1,2].grid(which='both',linestyle='--')\n",
    "\n",
    "ax[1,0].set_ylim(ax[1,2].set_ylim())\n",
    "ax[1,1].set_ylim(ax[1,2].set_ylim())\n",
    "\n",
    "ax[1,0].set_xlim(0,5000)\n",
    "ax[1,1].set_xlim(0,5000)\n",
    "ax[1,2].set_xlim(0,5000)"
   ]
  },
  {
   "cell_type": "markdown",
   "metadata": {},
   "source": [
    "Dados sobre o financiamento ao longo de 5 anos, nos mostram, em contraponto ao exposto anteriormente, uma possível queda de insvestimentos para esse tipo de mercado, considerando que depois de 2015, o **Montante Médio** foi decaindo, até se encontrar em seu menor patamar, ao longo desses anos, em 2018.\n",
    "\n",
    "A quantidade de empréstimo em 2018 foi de, aproximadamente, 92,82\\% do total de todos os 5 anos, o que explica a concentração do montante, anteriormente, em 2.500,00 e no gráfico abaixo a diminuição da média montante."
   ]
  },
  {
   "cell_type": "code",
   "execution_count": 10,
   "metadata": {},
   "outputs": [],
   "source": [
    "df_anos = raw_data.copy()\n",
    "dt_series = pd.to_datetime(df_anos['issue_d'])\n",
    "df_anos['year'] = dt_series.dt.year"
   ]
  },
  {
   "cell_type": "code",
   "execution_count": 11,
   "metadata": {},
   "outputs": [
    {
     "name": "stderr",
     "output_type": "stream",
     "text": [
      "C:\\Users\\Fernando Nast\\miniconda3\\lib\\site-packages\\seaborn\\_decorators.py:36: FutureWarning:\n",
      "\n",
      "Pass the following variables as keyword args: x, y. From version 0.12, the only valid positional argument will be `data`, and passing other arguments without an explicit keyword will result in an error or misinterpretation.\n",
      "\n"
     ]
    },
    {
     "data": {
      "text/plain": [
       "Text(0, 0.5, 'Montante Médio')"
      ]
     },
     "execution_count": 11,
     "metadata": {},
     "output_type": "execute_result"
    },
    {
     "data": {
      "image/png": "[encoded data removed]",
      "text/plain": [
       "<Figure size 864x576 with 1 Axes>"
      ]
     },
     "metadata": {
      "needs_background": "light"
     },
     "output_type": "display_data"
    }
   ],
   "source": [
    "plt.figure(figsize=(12,8))\n",
    "sns.barplot('year', 'loan_amnt', data=df_anos, palette='tab10')\n",
    "plt.title('Financiamento dos Empréstimos', fontsize=16)\n",
    "plt.xlabel('Ano', fontsize=14)\n",
    "plt.ylabel('Montante Médio', fontsize=14)"
   ]
  },
  {
   "cell_type": "code",
   "execution_count": 12,
   "metadata": {},
   "outputs": [
    {
     "data": {
      "text/plain": [
       "year\n",
       "2013        10\n",
       "2014       434\n",
       "2015      1808\n",
       "2016      5773\n",
       "2017      9799\n",
       "2018    230372\n",
       "Name: loan_amnt, dtype: int64"
      ]
     },
     "execution_count": 12,
     "metadata": {},
     "output_type": "execute_result"
    }
   ],
   "source": [
    "df_anos.groupby('year').loan_amnt.count()"
   ]
  },
  {
   "cell_type": "code",
   "execution_count": 13,
   "metadata": {},
   "outputs": [
    {
     "data": {
      "text/plain": [
       "array(['PA', 'NC', 'IN', 'GA', 'MT', 'VA', 'TX', 'NV', 'NY', 'FL', 'CA',\n",
       "       'UT', 'WA', 'IL', 'MO', 'MS', 'HI', 'NH', 'MI', 'CT', 'WI', 'TN',\n",
       "       'ND', 'AL', 'CO', 'MD', 'NJ', 'AR', 'MN', 'KS', 'OH', 'KY', 'AZ',\n",
       "       'NM', 'MA', 'VT', 'NE', 'OR', 'WV', 'SC', 'ID', 'RI', 'DC', 'DE',\n",
       "       'LA', 'OK', 'AK', 'ME', 'SD', 'WY'], dtype=object)"
      ]
     },
     "execution_count": 13,
     "metadata": {},
     "output_type": "execute_result"
    }
   ],
   "source": [
    "df_anos['addr_state'].unique()"
   ]
  },
  {
   "cell_type": "code",
   "execution_count": 14,
   "metadata": {},
   "outputs": [],
   "source": [
    "oeste = ['CA', 'OR', 'UT','WA', 'CO', 'NV', 'AK', 'MT', 'HI', 'WY', 'ID']\n",
    "sudoeste = ['AZ', 'TX', 'NM', 'OK']\n",
    "sudeste = ['GA', 'NC', 'VA', 'FL', 'KY', 'SC', 'LA', 'AL', 'WV', 'DC', 'AR', 'DE', 'MS', 'TN' ]\n",
    "centro_oeste = ['IL', 'MO', 'MN', 'OH', 'WI', 'KS', 'MI', 'SD', 'IA', 'NE', 'IN', 'ND']\n",
    "nordeste = ['CT', 'NY', 'PA', 'NJ', 'RI','MA', 'MD', 'VT', 'NH', 'ME']\n",
    "\n",
    "def finding_regions(state):\n",
    "    if state in oeste:\n",
    "        return 'Oeste'\n",
    "    elif state in sudoeste:\n",
    "        return 'Sudoeste'\n",
    "    elif state in sudeste:\n",
    "        return 'Sudeste'\n",
    "    elif state in centro_oeste:\n",
    "        return 'Centro_oeste'\n",
    "    elif state in nordeste:\n",
    "        return 'Nordeste'\n",
    "    \n",
    "df_anos['regiao'] = df_anos['addr_state'].apply(finding_regions)"
   ]
  },
  {
   "cell_type": "code",
   "execution_count": 15,
   "metadata": {},
   "outputs": [
    {
     "data": {
      "text/plain": [
       "0   2018-12-01\n",
       "1   2018-12-01\n",
       "2   2018-12-01\n",
       "3   2018-12-01\n",
       "4   2018-12-01\n",
       "Name: complete_date, dtype: datetime64[ns]"
      ]
     },
     "execution_count": 15,
     "metadata": {},
     "output_type": "execute_result"
    }
   ],
   "source": [
    "df_anos['complete_date'] = pd.to_datetime(df_anos['issue_d'])\n",
    "df_anos['complete_date'].head()"
   ]
  },
  {
   "cell_type": "code",
   "execution_count": 16,
   "metadata": {},
   "outputs": [
    {
     "data": {
      "text/html": [
       "<div>\n",
       "<style scoped>\n",
       "    .dataframe tbody tr th:only-of-type {\n",
       "        vertical-align: middle;\n",
       "    }\n",
       "\n",
       "    .dataframe tbody tr th {\n",
       "        vertical-align: top;\n",
       "    }\n",
       "\n",
       "    .dataframe thead th {\n",
       "        text-align: right;\n",
       "    }\n",
       "</style>\n",
       "<table border=\"1\" class=\"dataframe\">\n",
       "  <thead>\n",
       "    <tr style=\"text-align: right;\">\n",
       "      <th></th>\n",
       "      <th>complete_date</th>\n",
       "      <th>regiao</th>\n",
       "      <th>id</th>\n",
       "      <th>member_id</th>\n",
       "      <th>loan_amnt</th>\n",
       "      <th>funded_amnt</th>\n",
       "      <th>funded_amnt_inv</th>\n",
       "      <th>int_rate</th>\n",
       "      <th>installment</th>\n",
       "      <th>annual_inc</th>\n",
       "      <th>...</th>\n",
       "      <th>hardship_amount</th>\n",
       "      <th>hardship_length</th>\n",
       "      <th>hardship_dpd</th>\n",
       "      <th>orig_projected_additional_accrued_interest</th>\n",
       "      <th>hardship_payoff_balance_amount</th>\n",
       "      <th>hardship_last_payment_amount</th>\n",
       "      <th>settlement_amount</th>\n",
       "      <th>settlement_percentage</th>\n",
       "      <th>settlement_term</th>\n",
       "      <th>year</th>\n",
       "    </tr>\n",
       "  </thead>\n",
       "  <tbody>\n",
       "    <tr>\n",
       "      <th>0</th>\n",
       "      <td>2013-08-01</td>\n",
       "      <td>Nordeste</td>\n",
       "      <td>0.0</td>\n",
       "      <td>0.0</td>\n",
       "      <td>14125</td>\n",
       "      <td>14125</td>\n",
       "      <td>14125</td>\n",
       "      <td>17.56</td>\n",
       "      <td>355.31</td>\n",
       "      <td>56000.0</td>\n",
       "      <td>...</td>\n",
       "      <td>44.14</td>\n",
       "      <td>3.0</td>\n",
       "      <td>26.0</td>\n",
       "      <td>132.42</td>\n",
       "      <td>3102.64</td>\n",
       "      <td>101.81</td>\n",
       "      <td>0.0</td>\n",
       "      <td>0.00</td>\n",
       "      <td>0.0</td>\n",
       "      <td>2013</td>\n",
       "    </tr>\n",
       "    <tr>\n",
       "      <th>1</th>\n",
       "      <td>2013-12-01</td>\n",
       "      <td>Centro_oeste</td>\n",
       "      <td>0.0</td>\n",
       "      <td>0.0</td>\n",
       "      <td>38000</td>\n",
       "      <td>38000</td>\n",
       "      <td>38000</td>\n",
       "      <td>31.87</td>\n",
       "      <td>942.21</td>\n",
       "      <td>260000.0</td>\n",
       "      <td>...</td>\n",
       "      <td>0.00</td>\n",
       "      <td>0.0</td>\n",
       "      <td>0.0</td>\n",
       "      <td>0.00</td>\n",
       "      <td>0.00</td>\n",
       "      <td>0.00</td>\n",
       "      <td>711.0</td>\n",
       "      <td>45.03</td>\n",
       "      <td>15.0</td>\n",
       "      <td>4026</td>\n",
       "    </tr>\n",
       "    <tr>\n",
       "      <th>2</th>\n",
       "      <td>2013-12-01</td>\n",
       "      <td>Nordeste</td>\n",
       "      <td>0.0</td>\n",
       "      <td>0.0</td>\n",
       "      <td>28500</td>\n",
       "      <td>28500</td>\n",
       "      <td>28450</td>\n",
       "      <td>38.79</td>\n",
       "      <td>729.68</td>\n",
       "      <td>132000.0</td>\n",
       "      <td>...</td>\n",
       "      <td>0.00</td>\n",
       "      <td>0.0</td>\n",
       "      <td>0.0</td>\n",
       "      <td>0.00</td>\n",
       "      <td>0.00</td>\n",
       "      <td>0.00</td>\n",
       "      <td>0.0</td>\n",
       "      <td>0.00</td>\n",
       "      <td>0.0</td>\n",
       "      <td>4026</td>\n",
       "    </tr>\n",
       "    <tr>\n",
       "      <th>3</th>\n",
       "      <td>2013-12-01</td>\n",
       "      <td>Oeste</td>\n",
       "      <td>0.0</td>\n",
       "      <td>0.0</td>\n",
       "      <td>10000</td>\n",
       "      <td>10000</td>\n",
       "      <td>10000</td>\n",
       "      <td>24.50</td>\n",
       "      <td>290.59</td>\n",
       "      <td>90000.0</td>\n",
       "      <td>...</td>\n",
       "      <td>0.00</td>\n",
       "      <td>0.0</td>\n",
       "      <td>0.0</td>\n",
       "      <td>0.00</td>\n",
       "      <td>0.00</td>\n",
       "      <td>0.00</td>\n",
       "      <td>0.0</td>\n",
       "      <td>0.00</td>\n",
       "      <td>0.0</td>\n",
       "      <td>2013</td>\n",
       "    </tr>\n",
       "    <tr>\n",
       "      <th>4</th>\n",
       "      <td>2013-12-01</td>\n",
       "      <td>Sudeste</td>\n",
       "      <td>0.0</td>\n",
       "      <td>0.0</td>\n",
       "      <td>65850</td>\n",
       "      <td>65850</td>\n",
       "      <td>65775</td>\n",
       "      <td>83.78</td>\n",
       "      <td>1813.21</td>\n",
       "      <td>249000.0</td>\n",
       "      <td>...</td>\n",
       "      <td>0.00</td>\n",
       "      <td>0.0</td>\n",
       "      <td>0.0</td>\n",
       "      <td>0.00</td>\n",
       "      <td>0.00</td>\n",
       "      <td>0.00</td>\n",
       "      <td>0.0</td>\n",
       "      <td>0.00</td>\n",
       "      <td>0.0</td>\n",
       "      <td>8052</td>\n",
       "    </tr>\n",
       "  </tbody>\n",
       "</table>\n",
       "<p>5 rows × 112 columns</p>\n",
       "</div>"
      ],
      "text/plain": [
       "  complete_date        regiao   id  member_id  loan_amnt  funded_amnt  \\\n",
       "0    2013-08-01      Nordeste  0.0        0.0      14125        14125   \n",
       "1    2013-12-01  Centro_oeste  0.0        0.0      38000        38000   \n",
       "2    2013-12-01      Nordeste  0.0        0.0      28500        28500   \n",
       "3    2013-12-01         Oeste  0.0        0.0      10000        10000   \n",
       "4    2013-12-01       Sudeste  0.0        0.0      65850        65850   \n",
       "\n",
       "   funded_amnt_inv  int_rate  installment  annual_inc  ...  hardship_amount  \\\n",
       "0            14125     17.56       355.31     56000.0  ...            44.14   \n",
       "1            38000     31.87       942.21    260000.0  ...             0.00   \n",
       "2            28450     38.79       729.68    132000.0  ...             0.00   \n",
       "3            10000     24.50       290.59     90000.0  ...             0.00   \n",
       "4            65775     83.78      1813.21    249000.0  ...             0.00   \n",
       "\n",
       "   hardship_length  hardship_dpd  orig_projected_additional_accrued_interest  \\\n",
       "0              3.0          26.0                                      132.42   \n",
       "1              0.0           0.0                                        0.00   \n",
       "2              0.0           0.0                                        0.00   \n",
       "3              0.0           0.0                                        0.00   \n",
       "4              0.0           0.0                                        0.00   \n",
       "\n",
       "   hardship_payoff_balance_amount  hardship_last_payment_amount  \\\n",
       "0                         3102.64                        101.81   \n",
       "1                            0.00                          0.00   \n",
       "2                            0.00                          0.00   \n",
       "3                            0.00                          0.00   \n",
       "4                            0.00                          0.00   \n",
       "\n",
       "   settlement_amount  settlement_percentage  settlement_term  year  \n",
       "0                0.0                   0.00              0.0  2013  \n",
       "1              711.0                  45.03             15.0  4026  \n",
       "2                0.0                   0.00              0.0  4026  \n",
       "3                0.0                   0.00              0.0  2013  \n",
       "4                0.0                   0.00              0.0  8052  \n",
       "\n",
       "[5 rows x 112 columns]"
      ]
     },
     "execution_count": 16,
     "metadata": {},
     "output_type": "execute_result"
    }
   ],
   "source": [
    "grupo_dates = df_anos.groupby(['complete_date', 'regiao'], as_index=False).sum()\n",
    "grupo_dates.head()"
   ]
  },
  {
   "cell_type": "code",
   "execution_count": 17,
   "metadata": {},
   "outputs": [
    {
     "data": {
      "text/plain": [
       "0    2013-08\n",
       "1    2013-12\n",
       "2    2013-12\n",
       "3    2013-12\n",
       "4    2013-12\n",
       "Name: issue_d, dtype: object"
      ]
     },
     "execution_count": 17,
     "metadata": {},
     "output_type": "execute_result"
    }
   ],
   "source": [
    "grupo_dates['issue_d'] = [mes.to_period('M') for mes in grupo_dates['complete_date']]\n",
    "grupo_dates['issue_d'].head()"
   ]
  },
  {
   "cell_type": "code",
   "execution_count": 18,
   "metadata": {},
   "outputs": [
    {
     "data": {
      "text/html": [
       "<div>\n",
       "<style scoped>\n",
       "    .dataframe tbody tr th:only-of-type {\n",
       "        vertical-align: middle;\n",
       "    }\n",
       "\n",
       "    .dataframe tbody tr th {\n",
       "        vertical-align: top;\n",
       "    }\n",
       "\n",
       "    .dataframe thead th {\n",
       "        text-align: right;\n",
       "    }\n",
       "</style>\n",
       "<table border=\"1\" class=\"dataframe\">\n",
       "  <thead>\n",
       "    <tr style=\"text-align: right;\">\n",
       "      <th></th>\n",
       "      <th>issue_d</th>\n",
       "      <th>regiao</th>\n",
       "      <th>id</th>\n",
       "      <th>member_id</th>\n",
       "      <th>loan_amnt</th>\n",
       "      <th>funded_amnt</th>\n",
       "      <th>funded_amnt_inv</th>\n",
       "      <th>int_rate</th>\n",
       "      <th>installment</th>\n",
       "      <th>annual_inc</th>\n",
       "      <th>...</th>\n",
       "      <th>hardship_amount</th>\n",
       "      <th>hardship_length</th>\n",
       "      <th>hardship_dpd</th>\n",
       "      <th>orig_projected_additional_accrued_interest</th>\n",
       "      <th>hardship_payoff_balance_amount</th>\n",
       "      <th>hardship_last_payment_amount</th>\n",
       "      <th>settlement_amount</th>\n",
       "      <th>settlement_percentage</th>\n",
       "      <th>settlement_term</th>\n",
       "      <th>year</th>\n",
       "    </tr>\n",
       "  </thead>\n",
       "  <tbody>\n",
       "    <tr>\n",
       "      <th>0</th>\n",
       "      <td>2013-08</td>\n",
       "      <td>Nordeste</td>\n",
       "      <td>0.0</td>\n",
       "      <td>0.0</td>\n",
       "      <td>14125</td>\n",
       "      <td>14125</td>\n",
       "      <td>14125</td>\n",
       "      <td>17.56</td>\n",
       "      <td>355.31</td>\n",
       "      <td>56000.0</td>\n",
       "      <td>...</td>\n",
       "      <td>44.14</td>\n",
       "      <td>3.0</td>\n",
       "      <td>26.0</td>\n",
       "      <td>132.42</td>\n",
       "      <td>3102.64</td>\n",
       "      <td>101.81</td>\n",
       "      <td>0.0</td>\n",
       "      <td>0.00</td>\n",
       "      <td>0.0</td>\n",
       "      <td>2013</td>\n",
       "    </tr>\n",
       "    <tr>\n",
       "      <th>1</th>\n",
       "      <td>2013-12</td>\n",
       "      <td>Centro_oeste</td>\n",
       "      <td>0.0</td>\n",
       "      <td>0.0</td>\n",
       "      <td>38000</td>\n",
       "      <td>38000</td>\n",
       "      <td>38000</td>\n",
       "      <td>31.87</td>\n",
       "      <td>942.21</td>\n",
       "      <td>260000.0</td>\n",
       "      <td>...</td>\n",
       "      <td>0.00</td>\n",
       "      <td>0.0</td>\n",
       "      <td>0.0</td>\n",
       "      <td>0.00</td>\n",
       "      <td>0.00</td>\n",
       "      <td>0.00</td>\n",
       "      <td>711.0</td>\n",
       "      <td>45.03</td>\n",
       "      <td>15.0</td>\n",
       "      <td>4026</td>\n",
       "    </tr>\n",
       "    <tr>\n",
       "      <th>2</th>\n",
       "      <td>2013-12</td>\n",
       "      <td>Nordeste</td>\n",
       "      <td>0.0</td>\n",
       "      <td>0.0</td>\n",
       "      <td>28500</td>\n",
       "      <td>28500</td>\n",
       "      <td>28450</td>\n",
       "      <td>38.79</td>\n",
       "      <td>729.68</td>\n",
       "      <td>132000.0</td>\n",
       "      <td>...</td>\n",
       "      <td>0.00</td>\n",
       "      <td>0.0</td>\n",
       "      <td>0.0</td>\n",
       "      <td>0.00</td>\n",
       "      <td>0.00</td>\n",
       "      <td>0.00</td>\n",
       "      <td>0.0</td>\n",
       "      <td>0.00</td>\n",
       "      <td>0.0</td>\n",
       "      <td>4026</td>\n",
       "    </tr>\n",
       "    <tr>\n",
       "      <th>3</th>\n",
       "      <td>2013-12</td>\n",
       "      <td>Oeste</td>\n",
       "      <td>0.0</td>\n",
       "      <td>0.0</td>\n",
       "      <td>10000</td>\n",
       "      <td>10000</td>\n",
       "      <td>10000</td>\n",
       "      <td>24.50</td>\n",
       "      <td>290.59</td>\n",
       "      <td>90000.0</td>\n",
       "      <td>...</td>\n",
       "      <td>0.00</td>\n",
       "      <td>0.0</td>\n",
       "      <td>0.0</td>\n",
       "      <td>0.00</td>\n",
       "      <td>0.00</td>\n",
       "      <td>0.00</td>\n",
       "      <td>0.0</td>\n",
       "      <td>0.00</td>\n",
       "      <td>0.0</td>\n",
       "      <td>2013</td>\n",
       "    </tr>\n",
       "    <tr>\n",
       "      <th>4</th>\n",
       "      <td>2013-12</td>\n",
       "      <td>Sudeste</td>\n",
       "      <td>0.0</td>\n",
       "      <td>0.0</td>\n",
       "      <td>65850</td>\n",
       "      <td>65850</td>\n",
       "      <td>65775</td>\n",
       "      <td>83.78</td>\n",
       "      <td>1813.21</td>\n",
       "      <td>249000.0</td>\n",
       "      <td>...</td>\n",
       "      <td>0.00</td>\n",
       "      <td>0.0</td>\n",
       "      <td>0.0</td>\n",
       "      <td>0.00</td>\n",
       "      <td>0.00</td>\n",
       "      <td>0.00</td>\n",
       "      <td>0.0</td>\n",
       "      <td>0.00</td>\n",
       "      <td>0.0</td>\n",
       "      <td>8052</td>\n",
       "    </tr>\n",
       "  </tbody>\n",
       "</table>\n",
       "<p>5 rows × 112 columns</p>\n",
       "</div>"
      ],
      "text/plain": [
       "   issue_d        regiao   id  member_id  loan_amnt  funded_amnt  \\\n",
       "0  2013-08      Nordeste  0.0        0.0      14125        14125   \n",
       "1  2013-12  Centro_oeste  0.0        0.0      38000        38000   \n",
       "2  2013-12      Nordeste  0.0        0.0      28500        28500   \n",
       "3  2013-12         Oeste  0.0        0.0      10000        10000   \n",
       "4  2013-12       Sudeste  0.0        0.0      65850        65850   \n",
       "\n",
       "   funded_amnt_inv  int_rate  installment  annual_inc  ...  hardship_amount  \\\n",
       "0            14125     17.56       355.31     56000.0  ...            44.14   \n",
       "1            38000     31.87       942.21    260000.0  ...             0.00   \n",
       "2            28450     38.79       729.68    132000.0  ...             0.00   \n",
       "3            10000     24.50       290.59     90000.0  ...             0.00   \n",
       "4            65775     83.78      1813.21    249000.0  ...             0.00   \n",
       "\n",
       "   hardship_length  hardship_dpd  orig_projected_additional_accrued_interest  \\\n",
       "0              3.0          26.0                                      132.42   \n",
       "1              0.0           0.0                                        0.00   \n",
       "2              0.0           0.0                                        0.00   \n",
       "3              0.0           0.0                                        0.00   \n",
       "4              0.0           0.0                                        0.00   \n",
       "\n",
       "   hardship_payoff_balance_amount  hardship_last_payment_amount  \\\n",
       "0                         3102.64                        101.81   \n",
       "1                            0.00                          0.00   \n",
       "2                            0.00                          0.00   \n",
       "3                            0.00                          0.00   \n",
       "4                            0.00                          0.00   \n",
       "\n",
       "   settlement_amount  settlement_percentage  settlement_term  year  \n",
       "0                0.0                   0.00              0.0  2013  \n",
       "1              711.0                  45.03             15.0  4026  \n",
       "2                0.0                   0.00              0.0  4026  \n",
       "3                0.0                   0.00              0.0  2013  \n",
       "4                0.0                   0.00              0.0  8052  \n",
       "\n",
       "[5 rows x 112 columns]"
      ]
     },
     "execution_count": 18,
     "metadata": {},
     "output_type": "execute_result"
    }
   ],
   "source": [
    "grupo_dates = grupo_dates.groupby(['issue_d', 'regiao'], as_index=False).sum()\n",
    "grupo_dates.head()"
   ]
  },
  {
   "cell_type": "code",
   "execution_count": 19,
   "metadata": {},
   "outputs": [],
   "source": [
    "# grupo_dates['loan_amnt'] = grupo_dates['loan_amnt']/1000\n",
    "# grupo_dates['loan_amnt'].head()"
   ]
  },
  {
   "cell_type": "code",
   "execution_count": 20,
   "metadata": {},
   "outputs": [
    {
     "data": {
      "text/html": [
       "<div>\n",
       "<style scoped>\n",
       "    .dataframe tbody tr th:only-of-type {\n",
       "        vertical-align: middle;\n",
       "    }\n",
       "\n",
       "    .dataframe tbody tr th {\n",
       "        vertical-align: top;\n",
       "    }\n",
       "\n",
       "    .dataframe thead th {\n",
       "        text-align: right;\n",
       "    }\n",
       "</style>\n",
       "<table border=\"1\" class=\"dataframe\">\n",
       "  <thead>\n",
       "    <tr style=\"text-align: right;\">\n",
       "      <th></th>\n",
       "      <th>issue_d</th>\n",
       "      <th>regiao</th>\n",
       "      <th>loan_amnt</th>\n",
       "    </tr>\n",
       "  </thead>\n",
       "  <tbody>\n",
       "    <tr>\n",
       "      <th>0</th>\n",
       "      <td>2013-08</td>\n",
       "      <td>Nordeste</td>\n",
       "      <td>14125</td>\n",
       "    </tr>\n",
       "    <tr>\n",
       "      <th>1</th>\n",
       "      <td>2013-12</td>\n",
       "      <td>Centro_oeste</td>\n",
       "      <td>38000</td>\n",
       "    </tr>\n",
       "    <tr>\n",
       "      <th>2</th>\n",
       "      <td>2013-12</td>\n",
       "      <td>Nordeste</td>\n",
       "      <td>28500</td>\n",
       "    </tr>\n",
       "    <tr>\n",
       "      <th>3</th>\n",
       "      <td>2013-12</td>\n",
       "      <td>Oeste</td>\n",
       "      <td>10000</td>\n",
       "    </tr>\n",
       "    <tr>\n",
       "      <th>4</th>\n",
       "      <td>2013-12</td>\n",
       "      <td>Sudeste</td>\n",
       "      <td>65850</td>\n",
       "    </tr>\n",
       "  </tbody>\n",
       "</table>\n",
       "</div>"
      ],
      "text/plain": [
       "   issue_d        regiao  loan_amnt\n",
       "0  2013-08      Nordeste      14125\n",
       "1  2013-12  Centro_oeste      38000\n",
       "2  2013-12      Nordeste      28500\n",
       "3  2013-12         Oeste      10000\n",
       "4  2013-12       Sudeste      65850"
      ]
     },
     "execution_count": 20,
     "metadata": {},
     "output_type": "execute_result"
    }
   ],
   "source": [
    "df_dates = pd.DataFrame(data=grupo_dates[['issue_d','regiao','loan_amnt']])\n",
    "df_dates.head()"
   ]
  },
  {
   "cell_type": "code",
   "execution_count": 21,
   "metadata": {},
   "outputs": [
    {
     "data": {
      "text/plain": [
       "(580.8, 590.2)"
      ]
     },
     "execution_count": 21,
     "metadata": {},
     "output_type": "execute_result"
    },
    {
     "data": {
      "image/png": "[encoded data removed]",
      "text/plain": [
       "<Figure size 1080x864 with 2 Axes>"
      ]
     },
     "metadata": {
      "needs_background": "light"
     },
     "output_type": "display_data"
    }
   ],
   "source": [
    "fig, ax = plt.subplots(2, 1, figsize=(15,12))\n",
    "\n",
    "emitidos_regiao = df_dates.groupby(['issue_d', 'regiao']).loan_amnt.sum()\n",
    "#emitidos_regiao = emitidos_regiao.drop([['2018-12','Nordeste']],axis=0)  # Provavelmente um outLier, por isso saiu\n",
    "emitidos_regiao.unstack().plot(stacked=False, grid=False, legend=True,ax=ax[0])\n",
    "ax[0].set_title('Empréstimos por Região', fontsize=16)\n",
    "ax[0].set_ylim(-222827.50000000001, 4899377.5000000005)    # valor obtido por teste\n",
    "\n",
    "emitidos_regiao2 = df_dates.groupby(['issue_d', 'regiao']).loan_amnt.sum()\n",
    "emitidos_regiao2.unstack().plot(stacked=False, grid=False, legend=True,ax=ax[1])\n",
    "ax[1].set_xlim(580.8, 590.2)"
   ]
  },
  {
   "cell_type": "code",
   "execution_count": 22,
   "metadata": {},
   "outputs": [
    {
     "data": {
      "text/html": [
       "<div>\n",
       "<style scoped>\n",
       "    .dataframe tbody tr th:only-of-type {\n",
       "        vertical-align: middle;\n",
       "    }\n",
       "\n",
       "    .dataframe tbody tr th {\n",
       "        vertical-align: top;\n",
       "    }\n",
       "\n",
       "    .dataframe thead th {\n",
       "        text-align: right;\n",
       "    }\n",
       "</style>\n",
       "<table border=\"1\" class=\"dataframe\">\n",
       "  <thead>\n",
       "    <tr style=\"text-align: right;\">\n",
       "      <th></th>\n",
       "      <th>issue_d</th>\n",
       "      <th>purpose</th>\n",
       "      <th>loan_amnt</th>\n",
       "    </tr>\n",
       "  </thead>\n",
       "  <tbody>\n",
       "    <tr>\n",
       "      <th>0</th>\n",
       "      <td>2013-08</td>\n",
       "      <td>debt_consolidation</td>\n",
       "      <td>20975</td>\n",
       "    </tr>\n",
       "    <tr>\n",
       "      <th>1</th>\n",
       "      <td>2013-12</td>\n",
       "      <td>vacation</td>\n",
       "      <td>20000</td>\n",
       "    </tr>\n",
       "    <tr>\n",
       "      <th>2</th>\n",
       "      <td>2013-12</td>\n",
       "      <td>other</td>\n",
       "      <td>9100</td>\n",
       "    </tr>\n",
       "    <tr>\n",
       "      <th>3</th>\n",
       "      <td>2013-12</td>\n",
       "      <td>debt_consolidation</td>\n",
       "      <td>3525</td>\n",
       "    </tr>\n",
       "    <tr>\n",
       "      <th>4</th>\n",
       "      <td>2013-12</td>\n",
       "      <td>debt_consolidation</td>\n",
       "      <td>11500</td>\n",
       "    </tr>\n",
       "  </tbody>\n",
       "</table>\n",
       "</div>"
      ],
      "text/plain": [
       "   issue_d             purpose  loan_amnt\n",
       "0  2013-08  debt_consolidation      20975\n",
       "1  2013-12            vacation      20000\n",
       "2  2013-12               other       9100\n",
       "3  2013-12  debt_consolidation       3525\n",
       "4  2013-12  debt_consolidation      11500"
      ]
     },
     "execution_count": 22,
     "metadata": {},
     "output_type": "execute_result"
    }
   ],
   "source": [
    "df_proposito = pd.DataFrame(data=df_anos[['issue_d','purpose','loan_amnt']])\n",
    "df_proposito['issue_d'] = grupo_dates['issue_d']\n",
    "df_proposito.head()"
   ]
  },
  {
   "cell_type": "code",
   "execution_count": 23,
   "metadata": {},
   "outputs": [],
   "source": [
    "# loan_status cross\n",
    "loan_status_cross = pd.crosstab(df_anos['year'], df_anos['purpose']).apply(lambda x: x/x.sum() * 100)\n",
    "number_of_loanstatus = pd.crosstab(df_anos['year'], df_anos['purpose'])\n",
    "\n",
    "\n",
    "# Round our values\n",
    "loan_status_cross['debt_consolidation'] = loan_status_cross['debt_consolidation'].apply(lambda x: round(x, 2))\n",
    "loan_status_cross['credit_card'] = loan_status_cross['credit_card'].apply(lambda x: round(x, 2))\n",
    "loan_status_cross['other'] = loan_status_cross['other'].apply(lambda x: round(x, 2))\n",
    "loan_status_cross['home_improvement'] = loan_status_cross['home_improvement'].apply(lambda x: round(x, 2))\n",
    "loan_status_cross['major_purchase'] = loan_status_cross['major_purchase'].apply(lambda x: round(x, 2))\n",
    "loan_status_cross['small_business'] = loan_status_cross['small_business'].apply(lambda x: round(x, 2))\n",
    "loan_status_cross['medical'] = loan_status_cross['medical'].apply(lambda x: round(x, 2))\n",
    "loan_status_cross['house'] = loan_status_cross['house'].apply(lambda x: round(x, 2))\n",
    "loan_status_cross['car'] = loan_status_cross['car'].apply(lambda x: round(x, 2))\n",
    "loan_status_cross['moving'] = loan_status_cross['moving'].apply(lambda x: round(x, 2))\n",
    "loan_status_cross['vacation'] = loan_status_cross['vacation'].apply(lambda x: round(x, 2))\n",
    "loan_status_cross['renewable_energy'] = loan_status_cross['renewable_energy'].apply(lambda x: round(x, 2))\n",
    "\n",
    "number_of_loanstatus['Total'] = number_of_loanstatus.sum(axis=1) \n",
    "#number_of_loanstatus"
   ]
  },
  {
   "cell_type": "code",
   "execution_count": 24,
   "metadata": {},
   "outputs": [
    {
     "data": {
      "text/html": [
       "<div>\n",
       "<style scoped>\n",
       "    .dataframe tbody tr th:only-of-type {\n",
       "        vertical-align: middle;\n",
       "    }\n",
       "\n",
       "    .dataframe tbody tr th {\n",
       "        vertical-align: top;\n",
       "    }\n",
       "\n",
       "    .dataframe thead th {\n",
       "        text-align: right;\n",
       "    }\n",
       "</style>\n",
       "<table border=\"1\" class=\"dataframe\">\n",
       "  <thead>\n",
       "    <tr style=\"text-align: right;\">\n",
       "      <th>purpose</th>\n",
       "      <th>car</th>\n",
       "      <th>credit_card</th>\n",
       "      <th>debt_consolidation</th>\n",
       "      <th>home_improvement</th>\n",
       "      <th>house</th>\n",
       "      <th>major_purchase</th>\n",
       "      <th>medical</th>\n",
       "      <th>moving</th>\n",
       "      <th>other</th>\n",
       "      <th>renewable_energy</th>\n",
       "      <th>small_business</th>\n",
       "      <th>vacation</th>\n",
       "      <th>Total</th>\n",
       "    </tr>\n",
       "    <tr>\n",
       "      <th>year</th>\n",
       "      <th></th>\n",
       "      <th></th>\n",
       "      <th></th>\n",
       "      <th></th>\n",
       "      <th></th>\n",
       "      <th></th>\n",
       "      <th></th>\n",
       "      <th></th>\n",
       "      <th></th>\n",
       "      <th></th>\n",
       "      <th></th>\n",
       "      <th></th>\n",
       "      <th></th>\n",
       "    </tr>\n",
       "  </thead>\n",
       "  <tbody>\n",
       "    <tr>\n",
       "      <th>2013</th>\n",
       "      <td>0</td>\n",
       "      <td>0</td>\n",
       "      <td>9</td>\n",
       "      <td>0</td>\n",
       "      <td>0</td>\n",
       "      <td>0</td>\n",
       "      <td>0</td>\n",
       "      <td>0</td>\n",
       "      <td>1</td>\n",
       "      <td>0</td>\n",
       "      <td>0</td>\n",
       "      <td>0</td>\n",
       "      <td>10</td>\n",
       "    </tr>\n",
       "    <tr>\n",
       "      <th>2014</th>\n",
       "      <td>0</td>\n",
       "      <td>87</td>\n",
       "      <td>285</td>\n",
       "      <td>28</td>\n",
       "      <td>0</td>\n",
       "      <td>7</td>\n",
       "      <td>5</td>\n",
       "      <td>2</td>\n",
       "      <td>16</td>\n",
       "      <td>0</td>\n",
       "      <td>2</td>\n",
       "      <td>2</td>\n",
       "      <td>434</td>\n",
       "    </tr>\n",
       "    <tr>\n",
       "      <th>2015</th>\n",
       "      <td>15</td>\n",
       "      <td>374</td>\n",
       "      <td>1154</td>\n",
       "      <td>113</td>\n",
       "      <td>8</td>\n",
       "      <td>27</td>\n",
       "      <td>15</td>\n",
       "      <td>5</td>\n",
       "      <td>70</td>\n",
       "      <td>1</td>\n",
       "      <td>22</td>\n",
       "      <td>4</td>\n",
       "      <td>1808</td>\n",
       "    </tr>\n",
       "    <tr>\n",
       "      <th>2016</th>\n",
       "      <td>52</td>\n",
       "      <td>1087</td>\n",
       "      <td>3463</td>\n",
       "      <td>376</td>\n",
       "      <td>41</td>\n",
       "      <td>137</td>\n",
       "      <td>66</td>\n",
       "      <td>44</td>\n",
       "      <td>376</td>\n",
       "      <td>2</td>\n",
       "      <td>85</td>\n",
       "      <td>44</td>\n",
       "      <td>5773</td>\n",
       "    </tr>\n",
       "    <tr>\n",
       "      <th>2017</th>\n",
       "      <td>94</td>\n",
       "      <td>1812</td>\n",
       "      <td>5734</td>\n",
       "      <td>642</td>\n",
       "      <td>73</td>\n",
       "      <td>258</td>\n",
       "      <td>143</td>\n",
       "      <td>77</td>\n",
       "      <td>717</td>\n",
       "      <td>7</td>\n",
       "      <td>152</td>\n",
       "      <td>90</td>\n",
       "      <td>9799</td>\n",
       "    </tr>\n",
       "    <tr>\n",
       "      <th>2018</th>\n",
       "      <td>84</td>\n",
       "      <td>1433</td>\n",
       "      <td>226719</td>\n",
       "      <td>542</td>\n",
       "      <td>124</td>\n",
       "      <td>244</td>\n",
       "      <td>144</td>\n",
       "      <td>84</td>\n",
       "      <td>779</td>\n",
       "      <td>7</td>\n",
       "      <td>151</td>\n",
       "      <td>61</td>\n",
       "      <td>230372</td>\n",
       "    </tr>\n",
       "  </tbody>\n",
       "</table>\n",
       "</div>"
      ],
      "text/plain": [
       "purpose  car  credit_card  debt_consolidation  home_improvement  house  \\\n",
       "year                                                                     \n",
       "2013       0            0                   9                 0      0   \n",
       "2014       0           87                 285                28      0   \n",
       "2015      15          374                1154               113      8   \n",
       "2016      52         1087                3463               376     41   \n",
       "2017      94         1812                5734               642     73   \n",
       "2018      84         1433              226719               542    124   \n",
       "\n",
       "purpose  major_purchase  medical  moving  other  renewable_energy  \\\n",
       "year                                                                \n",
       "2013                  0        0       0      1                 0   \n",
       "2014                  7        5       2     16                 0   \n",
       "2015                 27       15       5     70                 1   \n",
       "2016                137       66      44    376                 2   \n",
       "2017                258      143      77    717                 7   \n",
       "2018                244      144      84    779                 7   \n",
       "\n",
       "purpose  small_business  vacation   Total  \n",
       "year                                       \n",
       "2013                  0         0      10  \n",
       "2014                  2         2     434  \n",
       "2015                 22         4    1808  \n",
       "2016                 85        44    5773  \n",
       "2017                152        90    9799  \n",
       "2018                151        61  230372  "
      ]
     },
     "execution_count": 24,
     "metadata": {},
     "output_type": "execute_result"
    }
   ],
   "source": [
    "number_of_loanstatus"
   ]
  },
  {
   "cell_type": "code",
   "execution_count": 25,
   "metadata": {},
   "outputs": [
    {
     "data": {
      "application/vnd.plotly.v1+json": {
       "config": {
        "linkText": "Export to plot.ly",
        "plotlyServerURL": "https://plot.ly",
        "showLink": false
       },
       "data": [
        {
         "marker": {
          "color": "rgb(192, 148, 246)"
         },
         "name": "Debito Consolidado",
         "text": "%",
         "type": "bar",
         "x": [
          2013,
          2014,
          2015,
          2016,
          2017,
          2018
         ],
         "y": [
          0,
          0.12,
          0.49,
          1.46,
          2.42,
          95.52
         ]
        },
        {
         "marker": {
          "color": "rgb(176, 26, 26)"
         },
         "name": "Cartao de Credito",
         "text": "%",
         "type": "bar",
         "x": [
          2013,
          2014,
          2015,
          2016,
          2017,
          2018
         ],
         "y": [
          0,
          1.82,
          7.8,
          22.68,
          37.81,
          29.9
         ]
        },
        {
         "marker": {
          "color": "rgb(229, 121, 36)"
         },
         "name": "Outros",
         "text": "%",
         "type": "bar",
         "x": [
          2013,
          2014,
          2015,
          2016,
          2017,
          2018
         ],
         "y": [
          0.05,
          0.82,
          3.57,
          19.19,
          36.6,
          39.77
         ]
        },
        {
         "marker": {
          "color": "rgb(147, 147, 147)"
         },
         "name": "Reformas do Lar",
         "text": "%",
         "type": "bar",
         "x": [
          2013,
          2014,
          2015,
          2016,
          2017,
          2018
         ],
         "y": [
          0,
          1.65,
          6.64,
          22.1,
          37.74,
          31.86
         ]
        },
        {
         "name": "Major Purchase",
         "text": "%",
         "type": "bar",
         "x": [
          2013,
          2014,
          2015,
          2016,
          2017,
          2018
         ],
         "y": [
          0,
          1.04,
          4.01,
          20.36,
          38.34,
          36.26
         ]
        },
        {
         "name": "Pequenos Negocios",
         "text": "%",
         "type": "bar",
         "x": [
          2013,
          2014,
          2015,
          2016,
          2017,
          2018
         ],
         "y": [
          0,
          0.49,
          5.34,
          20.63,
          36.89,
          36.65
         ]
        },
        {
         "name": "Saude",
         "text": "%",
         "type": "bar",
         "x": [
          2013,
          2014,
          2015,
          2016,
          2017,
          2018
         ],
         "y": [
          0,
          1.34,
          4.02,
          17.69,
          38.34,
          38.61
         ]
        },
        {
         "name": "Imovel",
         "text": "%",
         "type": "bar",
         "x": [
          2013,
          2014,
          2015,
          2016,
          2017,
          2018
         ],
         "y": [
          0,
          0,
          3.25,
          16.67,
          29.67,
          50.41
         ]
        },
        {
         "name": "Carro",
         "text": "%",
         "type": "bar",
         "x": [
          2013,
          2014,
          2015,
          2016,
          2017,
          2018
         ],
         "y": [
          0,
          0,
          6.12,
          21.22,
          38.37,
          34.29
         ]
        },
        {
         "name": "Mudança",
         "text": "%",
         "type": "bar",
         "x": [
          2013,
          2014,
          2015,
          2016,
          2017,
          2018
         ],
         "y": [
          0,
          0.94,
          2.36,
          20.75,
          36.32,
          39.62
         ]
        },
        {
         "name": "Ferias",
         "text": "%",
         "type": "bar",
         "x": [
          2013,
          2014,
          2015,
          2016,
          2017,
          2018
         ],
         "y": [
          0,
          1,
          1.99,
          21.89,
          44.78,
          30.35
         ]
        },
        {
         "name": "Energia Renovavel",
         "text": "%",
         "type": "bar",
         "x": [
          2013,
          2014,
          2015,
          2016,
          2017,
          2018
         ],
         "y": [
          0,
          0,
          5.88,
          11.76,
          41.18,
          41.18
         ]
        }
       ],
       "layout": {
        "barmode": "stack",
        "template": {
         "data": {
          "bar": [
           {
            "error_x": {
             "color": "#2a3f5f"
            },
            "error_y": {
             "color": "#2a3f5f"
            },
            "marker": {
             "line": {
              "color": "#E5ECF6",
              "width": 0.5
             }
            },
            "type": "bar"
           }
          ],
          "barpolar": [
           {
            "marker": {
             "line": {
              "color": "#E5ECF6",
              "width": 0.5
             }
            },
            "type": "barpolar"
           }
          ],
          "carpet": [
           {
            "aaxis": {
             "endlinecolor": "#2a3f5f",
             "gridcolor": "white",
             "linecolor": "white",
             "minorgridcolor": "white",
             "startlinecolor": "#2a3f5f"
            },
            "baxis": {
             "endlinecolor": "#2a3f5f",
             "gridcolor": "white",
             "linecolor": "white",
             "minorgridcolor": "white",
             "startlinecolor": "#2a3f5f"
            },
            "type": "carpet"
           }
          ],
          "choropleth": [
           {
            "colorbar": {
             "outlinewidth": 0,
             "ticks": ""
            },
            "type": "choropleth"
           }
          ],
          "contour": [
           {
            "colorbar": {
             "outlinewidth": 0,
             "ticks": ""
            },
            "colorscale": [
             [
              0,
              "#0d0887"
             ],
             [
              0.1111111111111111,
              "#46039f"
             ],
             [
              0.2222222222222222,
              "#7201a8"
             ],
             [
              0.3333333333333333,
              "#9c179e"
             ],
             [
              0.4444444444444444,
              "#bd3786"
             ],
             [
              0.5555555555555556,
              "#d8576b"
             ],
             [
              0.6666666666666666,
              "#ed7953"
             ],
             [
              0.7777777777777778,
              "#fb9f3a"
             ],
             [
              0.8888888888888888,
              "#fdca26"
             ],
             [
              1,
              "#f0f921"
             ]
            ],
            "type": "contour"
           }
          ],
          "contourcarpet": [
           {
            "colorbar": {
             "outlinewidth": 0,
             "ticks": ""
            },
            "type": "contourcarpet"
           }
          ],
          "heatmap": [
           {
            "colorbar": {
             "outlinewidth": 0,
             "ticks": ""
            },
            "colorscale": [
             [
              0,
              "#0d0887"
             ],
             [
              0.1111111111111111,
              "#46039f"
             ],
             [
              0.2222222222222222,
              "#7201a8"
             ],
             [
              0.3333333333333333,
              "#9c179e"
             ],
             [
              0.4444444444444444,
              "#bd3786"
             ],
             [
              0.5555555555555556,
              "#d8576b"
             ],
             [
              0.6666666666666666,
              "#ed7953"
             ],
             [
              0.7777777777777778,
              "#fb9f3a"
             ],
             [
              0.8888888888888888,
              "#fdca26"
             ],
             [
              1,
              "#f0f921"
             ]
            ],
            "type": "heatmap"
           }
          ],
          "heatmapgl": [
           {
            "colorbar": {
             "outlinewidth": 0,
             "ticks": ""
            },
            "colorscale": [
             [
              0,
              "#0d0887"
             ],
             [
              0.1111111111111111,
              "#46039f"
             ],
             [
              0.2222222222222222,
              "#7201a8"
             ],
             [
              0.3333333333333333,
              "#9c179e"
             ],
             [
              0.4444444444444444,
              "#bd3786"
             ],
             [
              0.5555555555555556,
              "#d8576b"
             ],
             [
              0.6666666666666666,
              "#ed7953"
             ],
             [
              0.7777777777777778,
              "#fb9f3a"
             ],
             [
              0.8888888888888888,
              "#fdca26"
             ],
             [
              1,
              "#f0f921"
             ]
            ],
            "type": "heatmapgl"
           }
          ],
          "histogram": [
           {
            "marker": {
             "colorbar": {
              "outlinewidth": 0,
              "ticks": ""
             }
            },
            "type": "histogram"
           }
          ],
          "histogram2d": [
           {
            "colorbar": {
             "outlinewidth": 0,
             "ticks": ""
            },
            "colorscale": [
             [
              0,
              "#0d0887"
             ],
             [
              0.1111111111111111,
              "#46039f"
             ],
             [
              0.2222222222222222,
              "#7201a8"
             ],
             [
              0.3333333333333333,
              "#9c179e"
             ],
             [
              0.4444444444444444,
              "#bd3786"
             ],
             [
              0.5555555555555556,
              "#d8576b"
             ],
             [
              0.6666666666666666,
              "#ed7953"
             ],
             [
              0.7777777777777778,
              "#fb9f3a"
             ],
             [
              0.8888888888888888,
              "#fdca26"
             ],
             [
              1,
              "#f0f921"
             ]
            ],
            "type": "histogram2d"
           }
          ],
          "histogram2dcontour": [
           {
            "colorbar": {
             "outlinewidth": 0,
             "ticks": ""
            },
            "colorscale": [
             [
              0,
              "#0d0887"
             ],
             [
              0.1111111111111111,
              "#46039f"
             ],
             [
              0.2222222222222222,
              "#7201a8"
             ],
             [
              0.3333333333333333,
              "#9c179e"
             ],
             [
              0.4444444444444444,
              "#bd3786"
             ],
             [
              0.5555555555555556,
              "#d8576b"
             ],
             [
              0.6666666666666666,
              "#ed7953"
             ],
             [
              0.7777777777777778,
              "#fb9f3a"
             ],
             [
              0.8888888888888888,
              "#fdca26"
             ],
             [
              1,
              "#f0f921"
             ]
            ],
            "type": "histogram2dcontour"
           }
          ],
          "mesh3d": [
           {
            "colorbar": {
             "outlinewidth": 0,
             "ticks": ""
            },
            "type": "mesh3d"
           }
          ],
          "parcoords": [
           {
            "line": {
             "colorbar": {
              "outlinewidth": 0,
              "ticks": ""
             }
            },
            "type": "parcoords"
           }
          ],
          "pie": [
           {
            "automargin": true,
            "type": "pie"
           }
          ],
          "scatter": [
           {
            "marker": {
             "colorbar": {
              "outlinewidth": 0,
              "ticks": ""
             }
            },
            "type": "scatter"
           }
          ],
          "scatter3d": [
           {
            "line": {
             "colorbar": {
              "outlinewidth": 0,
              "ticks": ""
             }
            },
            "marker": {
             "colorbar": {
              "outlinewidth": 0,
              "ticks": ""
             }
            },
            "type": "scatter3d"
           }
          ],
          "scattercarpet": [
           {
            "marker": {
             "colorbar": {
              "outlinewidth": 0,
              "ticks": ""
             }
            },
            "type": "scattercarpet"
           }
          ],
          "scattergeo": [
           {
            "marker": {
             "colorbar": {
              "outlinewidth": 0,
              "ticks": ""
             }
            },
            "type": "scattergeo"
           }
          ],
          "scattergl": [
           {
            "marker": {
             "colorbar": {
              "outlinewidth": 0,
              "ticks": ""
             }
            },
            "type": "scattergl"
           }
          ],
          "scattermapbox": [
           {
            "marker": {
             "colorbar": {
              "outlinewidth": 0,
              "ticks": ""
             }
            },
            "type": "scattermapbox"
           }
          ],
          "scatterpolar": [
           {
            "marker": {
             "colorbar": {
              "outlinewidth": 0,
              "ticks": ""
             }
            },
            "type": "scatterpolar"
           }
          ],
          "scatterpolargl": [
           {
            "marker": {
             "colorbar": {
              "outlinewidth": 0,
              "ticks": ""
             }
            },
            "type": "scatterpolargl"
           }
          ],
          "scatterternary": [
           {
            "marker": {
             "colorbar": {
              "outlinewidth": 0,
              "ticks": ""
             }
            },
            "type": "scatterternary"
           }
          ],
          "surface": [
           {
            "colorbar": {
             "outlinewidth": 0,
             "ticks": ""
            },
            "colorscale": [
             [
              0,
              "#0d0887"
             ],
             [
              0.1111111111111111,
              "#46039f"
             ],
             [
              0.2222222222222222,
              "#7201a8"
             ],
             [
              0.3333333333333333,
              "#9c179e"
             ],
             [
              0.4444444444444444,
              "#bd3786"
             ],
             [
              0.5555555555555556,
              "#d8576b"
             ],
             [
              0.6666666666666666,
              "#ed7953"
             ],
             [
              0.7777777777777778,
              "#fb9f3a"
             ],
             [
              0.8888888888888888,
              "#fdca26"
             ],
             [
              1,
              "#f0f921"
             ]
            ],
            "type": "surface"
           }
          ],
          "table": [
           {
            "cells": {
             "fill": {
              "color": "#EBF0F8"
             },
             "line": {
              "color": "white"
             }
            },
            "header": {
             "fill": {
              "color": "#C8D4E3"
             },
             "line": {
              "color": "white"
             }
            },
            "type": "table"
           }
          ]
         },
         "layout": {
          "annotationdefaults": {
           "arrowcolor": "#2a3f5f",
           "arrowhead": 0,
           "arrowwidth": 1
          },
          "coloraxis": {
           "colorbar": {
            "outlinewidth": 0,
            "ticks": ""
           }
          },
          "colorscale": {
           "diverging": [
            [
             0,
             "#8e0152"
            ],
            [
             0.1,
             "#c51b7d"
            ],
            [
             0.2,
             "#de77ae"
            ],
            [
             0.3,
             "#f1b6da"
            ],
            [
             0.4,
             "#fde0ef"
            ],
            [
             0.5,
             "#f7f7f7"
            ],
            [
             0.6,
             "#e6f5d0"
            ],
            [
             0.7,
             "#b8e186"
            ],
            [
             0.8,
             "#7fbc41"
            ],
            [
             0.9,
             "#4d9221"
            ],
            [
             1,
             "#276419"
            ]
           ],
           "sequential": [
            [
             0,
             "#0d0887"
            ],
            [
             0.1111111111111111,
             "#46039f"
            ],
            [
             0.2222222222222222,
             "#7201a8"
            ],
            [
             0.3333333333333333,
             "#9c179e"
            ],
            [
             0.4444444444444444,
             "#bd3786"
            ],
            [
             0.5555555555555556,
             "#d8576b"
            ],
            [
             0.6666666666666666,
             "#ed7953"
            ],
            [
             0.7777777777777778,
             "#fb9f3a"
            ],
            [
             0.8888888888888888,
             "#fdca26"
            ],
            [
             1,
             "#f0f921"
            ]
           ],
           "sequentialminus": [
            [
             0,
             "#0d0887"
            ],
            [
             0.1111111111111111,
             "#46039f"
            ],
            [
             0.2222222222222222,
             "#7201a8"
            ],
            [
             0.3333333333333333,
             "#9c179e"
            ],
            [
             0.4444444444444444,
             "#bd3786"
            ],
            [
             0.5555555555555556,
             "#d8576b"
            ],
            [
             0.6666666666666666,
             "#ed7953"
            ],
            [
             0.7777777777777778,
             "#fb9f3a"
            ],
            [
             0.8888888888888888,
             "#fdca26"
            ],
            [
             1,
             "#f0f921"
            ]
           ]
          },
          "colorway": [
           "#636efa",
           "#EF553B",
           "#00cc96",
           "#ab63fa",
           "#FFA15A",
           "#19d3f3",
           "#FF6692",
           "#B6E880",
           "#FF97FF",
           "#FECB52"
          ],
          "font": {
           "color": "#2a3f5f"
          },
          "geo": {
           "bgcolor": "white",
           "lakecolor": "white",
           "landcolor": "#E5ECF6",
           "showlakes": true,
           "showland": true,
           "subunitcolor": "white"
          },
          "hoverlabel": {
           "align": "left"
          },
          "hovermode": "closest",
          "mapbox": {
           "style": "light"
          },
          "paper_bgcolor": "white",
          "plot_bgcolor": "#E5ECF6",
          "polar": {
           "angularaxis": {
            "gridcolor": "white",
            "linecolor": "white",
            "ticks": ""
           },
           "bgcolor": "#E5ECF6",
           "radialaxis": {
            "gridcolor": "white",
            "linecolor": "white",
            "ticks": ""
           }
          },
          "scene": {
           "xaxis": {
            "backgroundcolor": "#E5ECF6",
            "gridcolor": "white",
            "gridwidth": 2,
            "linecolor": "white",
            "showbackground": true,
            "ticks": "",
            "zerolinecolor": "white"
           },
           "yaxis": {
            "backgroundcolor": "#E5ECF6",
            "gridcolor": "white",
            "gridwidth": 2,
            "linecolor": "white",
            "showbackground": true,
            "ticks": "",
            "zerolinecolor": "white"
           },
           "zaxis": {
            "backgroundcolor": "#E5ECF6",
            "gridcolor": "white",
            "gridwidth": 2,
            "linecolor": "white",
            "showbackground": true,
            "ticks": "",
            "zerolinecolor": "white"
           }
          },
          "shapedefaults": {
           "line": {
            "color": "#2a3f5f"
           }
          },
          "ternary": {
           "aaxis": {
            "gridcolor": "white",
            "linecolor": "white",
            "ticks": ""
           },
           "baxis": {
            "gridcolor": "white",
            "linecolor": "white",
            "ticks": ""
           },
           "bgcolor": "#E5ECF6",
           "caxis": {
            "gridcolor": "white",
            "linecolor": "white",
            "ticks": ""
           }
          },
          "title": {
           "x": 0.05
          },
          "xaxis": {
           "automargin": true,
           "gridcolor": "white",
           "linecolor": "white",
           "ticks": "",
           "title": {
            "standoff": 15
           },
           "zerolinecolor": "white",
           "zerolinewidth": 2
          },
          "yaxis": {
           "automargin": true,
           "gridcolor": "white",
           "linecolor": "white",
           "ticks": "",
           "title": {
            "standoff": 15
           },
           "zerolinecolor": "white",
           "zerolinewidth": 2
          }
         }
        },
        "title": {
         "text": "Tipo de Empréstimo por Ano"
        },
        "xaxis": {
         "title": {
          "text": "Empréstimos"
         }
        }
       }
      },
      "text/html": [
       "<div>                            <div id=\"594783f5-4ae4-48ae-9b69-4da218aa5399\" class=\"plotly-graph-div\" style=\"height:525px; width:100%;\"></div>            <script type=\"text/javascript\">                require([\"plotly\"], function(Plotly) {                    window.PLOTLYENV=window.PLOTLYENV || {};                                    if (document.getElementById(\"594783f5-4ae4-48ae-9b69-4da218aa5399\")) {                    Plotly.newPlot(                        \"594783f5-4ae4-48ae-9b69-4da218aa5399\",                        [{\"marker\": {\"color\": \"rgb(192, 148, 246)\"}, \"name\": \"Debito Consolidado\", \"text\": \"%\", \"type\": \"bar\", \"x\": [2013, 2014, 2015, 2016, 2017, 2018], \"y\": [0.0, 0.12, 0.49, 1.46, 2.42, 95.52]}, {\"marker\": {\"color\": \"rgb(176, 26, 26)\"}, \"name\": \"Cartao de Credito\", \"text\": \"%\", \"type\": \"bar\", \"x\": [2013, 2014, 2015, 2016, 2017, 2018], \"y\": [0.0, 1.82, 7.8, 22.68, 37.81, 29.9]}, {\"marker\": {\"color\": \"rgb(229, 121, 36)\"}, \"name\": \"Outros\", \"text\": \"%\", \"type\": \"bar\", \"x\": [2013, 2014, 2015, 2016, 2017, 2018], \"y\": [0.05, 0.82, 3.57, 19.19, 36.6, 39.77]}, {\"marker\": {\"color\": \"rgb(147, 147, 147)\"}, \"name\": \"Reformas do Lar\", \"text\": \"%\", \"type\": \"bar\", \"x\": [2013, 2014, 2015, 2016, 2017, 2018], \"y\": [0.0, 1.65, 6.64, 22.1, 37.74, 31.86]}, {\"name\": \"Major Purchase\", \"text\": \"%\", \"type\": \"bar\", \"x\": [2013, 2014, 2015, 2016, 2017, 2018], \"y\": [0.0, 1.04, 4.01, 20.36, 38.34, 36.26]}, {\"name\": \"Pequenos Negocios\", \"text\": \"%\", \"type\": \"bar\", \"x\": [2013, 2014, 2015, 2016, 2017, 2018], \"y\": [0.0, 0.49, 5.34, 20.63, 36.89, 36.65]}, {\"name\": \"Saude\", \"text\": \"%\", \"type\": \"bar\", \"x\": [2013, 2014, 2015, 2016, 2017, 2018], \"y\": [0.0, 1.34, 4.02, 17.69, 38.34, 38.61]}, {\"name\": \"Imovel\", \"text\": \"%\", \"type\": \"bar\", \"x\": [2013, 2014, 2015, 2016, 2017, 2018], \"y\": [0.0, 0.0, 3.25, 16.67, 29.67, 50.41]}, {\"name\": \"Carro\", \"text\": \"%\", \"type\": \"bar\", \"x\": [2013, 2014, 2015, 2016, 2017, 2018], \"y\": [0.0, 0.0, 6.12, 21.22, 38.37, 34.29]}, {\"name\": \"Mudan\\u00e7a\", \"text\": \"%\", \"type\": \"bar\", \"x\": [2013, 2014, 2015, 2016, 2017, 2018], \"y\": [0.0, 0.94, 2.36, 20.75, 36.32, 39.62]}, {\"name\": \"Ferias\", \"text\": \"%\", \"type\": \"bar\", \"x\": [2013, 2014, 2015, 2016, 2017, 2018], \"y\": [0.0, 1.0, 1.99, 21.89, 44.78, 30.35]}, {\"name\": \"Energia Renovavel\", \"text\": \"%\", \"type\": \"bar\", \"x\": [2013, 2014, 2015, 2016, 2017, 2018], \"y\": [0.0, 0.0, 5.88, 11.76, 41.18, 41.18]}],                        {\"barmode\": \"stack\", \"template\": {\"data\": {\"bar\": [{\"error_x\": {\"color\": \"#2a3f5f\"}, \"error_y\": {\"color\": \"#2a3f5f\"}, \"marker\": {\"line\": {\"color\": \"#E5ECF6\", \"width\": 0.5}}, \"type\": \"bar\"}], \"barpolar\": [{\"marker\": {\"line\": {\"color\": \"#E5ECF6\", \"width\": 0.5}}, \"type\": \"barpolar\"}], \"carpet\": [{\"aaxis\": {\"endlinecolor\": \"#2a3f5f\", \"gridcolor\": \"white\", \"linecolor\": \"white\", \"minorgridcolor\": \"white\", \"startlinecolor\": \"#2a3f5f\"}, \"baxis\": {\"endlinecolor\": \"#2a3f5f\", \"gridcolor\": \"white\", \"linecolor\": \"white\", \"minorgridcolor\": \"white\", \"startlinecolor\": \"#2a3f5f\"}, \"type\": \"carpet\"}], \"choropleth\": [{\"colorbar\": {\"outlinewidth\": 0, \"ticks\": \"\"}, \"type\": \"choropleth\"}], \"contour\": [{\"colorbar\": {\"outlinewidth\": 0, \"ticks\": \"\"}, \"colorscale\": [[0.0, \"#0d0887\"], [0.1111111111111111, \"#46039f\"], [0.2222222222222222, \"#7201a8\"], [0.3333333333333333, \"#9c179e\"], [0.4444444444444444, \"#bd3786\"], [0.5555555555555556, \"#d8576b\"], [0.6666666666666666, \"#ed7953\"], [0.7777777777777778, \"#fb9f3a\"], [0.8888888888888888, \"#fdca26\"], [1.0, \"#f0f921\"]], \"type\": \"contour\"}], \"contourcarpet\": [{\"colorbar\": {\"outlinewidth\": 0, \"ticks\": \"\"}, \"type\": \"contourcarpet\"}], \"heatmap\": [{\"colorbar\": {\"outlinewidth\": 0, \"ticks\": \"\"}, \"colorscale\": [[0.0, \"#0d0887\"], [0.1111111111111111, \"#46039f\"], [0.2222222222222222, \"#7201a8\"], [0.3333333333333333, \"#9c179e\"], [0.4444444444444444, \"#bd3786\"], [0.5555555555555556, \"#d8576b\"], [0.6666666666666666, \"#ed7953\"], [0.7777777777777778, \"#fb9f3a\"], [0.8888888888888888, \"#fdca26\"], [1.0, \"#f0f921\"]], \"type\": \"heatmap\"}], \"heatmapgl\": [{\"colorbar\": {\"outlinewidth\": 0, \"ticks\": \"\"}, \"colorscale\": [[0.0, \"#0d0887\"], [0.1111111111111111, \"#46039f\"], [0.2222222222222222, \"#7201a8\"], [0.3333333333333333, \"#9c179e\"], [0.4444444444444444, \"#bd3786\"], [0.5555555555555556, \"#d8576b\"], [0.6666666666666666, \"#ed7953\"], [0.7777777777777778, \"#fb9f3a\"], [0.8888888888888888, \"#fdca26\"], [1.0, \"#f0f921\"]], \"type\": \"heatmapgl\"}], \"histogram\": [{\"marker\": {\"colorbar\": {\"outlinewidth\": 0, \"ticks\": \"\"}}, \"type\": \"histogram\"}], \"histogram2d\": [{\"colorbar\": {\"outlinewidth\": 0, \"ticks\": \"\"}, \"colorscale\": [[0.0, \"#0d0887\"], [0.1111111111111111, \"#46039f\"], [0.2222222222222222, \"#7201a8\"], [0.3333333333333333, \"#9c179e\"], [0.4444444444444444, \"#bd3786\"], [0.5555555555555556, \"#d8576b\"], [0.6666666666666666, \"#ed7953\"], [0.7777777777777778, \"#fb9f3a\"], [0.8888888888888888, \"#fdca26\"], [1.0, \"#f0f921\"]], \"type\": \"histogram2d\"}], \"histogram2dcontour\": [{\"colorbar\": {\"outlinewidth\": 0, \"ticks\": \"\"}, \"colorscale\": [[0.0, \"#0d0887\"], [0.1111111111111111, \"#46039f\"], [0.2222222222222222, \"#7201a8\"], [0.3333333333333333, \"#9c179e\"], [0.4444444444444444, \"#bd3786\"], [0.5555555555555556, \"#d8576b\"], [0.6666666666666666, \"#ed7953\"], [0.7777777777777778, \"#fb9f3a\"], [0.8888888888888888, \"#fdca26\"], [1.0, \"#f0f921\"]], \"type\": \"histogram2dcontour\"}], \"mesh3d\": [{\"colorbar\": {\"outlinewidth\": 0, \"ticks\": \"\"}, \"type\": \"mesh3d\"}], \"parcoords\": [{\"line\": {\"colorbar\": {\"outlinewidth\": 0, \"ticks\": \"\"}}, \"type\": \"parcoords\"}], \"pie\": [{\"automargin\": true, \"type\": \"pie\"}], \"scatter\": [{\"marker\": {\"colorbar\": {\"outlinewidth\": 0, \"ticks\": \"\"}}, \"type\": \"scatter\"}], \"scatter3d\": [{\"line\": {\"colorbar\": {\"outlinewidth\": 0, \"ticks\": \"\"}}, \"marker\": {\"colorbar\": {\"outlinewidth\": 0, \"ticks\": \"\"}}, \"type\": \"scatter3d\"}], \"scattercarpet\": [{\"marker\": {\"colorbar\": {\"outlinewidth\": 0, \"ticks\": \"\"}}, \"type\": \"scattercarpet\"}], \"scattergeo\": [{\"marker\": {\"colorbar\": {\"outlinewidth\": 0, \"ticks\": \"\"}}, \"type\": \"scattergeo\"}], \"scattergl\": [{\"marker\": {\"colorbar\": {\"outlinewidth\": 0, \"ticks\": \"\"}}, \"type\": \"scattergl\"}], \"scattermapbox\": [{\"marker\": {\"colorbar\": {\"outlinewidth\": 0, \"ticks\": \"\"}}, \"type\": \"scattermapbox\"}], \"scatterpolar\": [{\"marker\": {\"colorbar\": {\"outlinewidth\": 0, \"ticks\": \"\"}}, \"type\": \"scatterpolar\"}], \"scatterpolargl\": [{\"marker\": {\"colorbar\": {\"outlinewidth\": 0, \"ticks\": \"\"}}, \"type\": \"scatterpolargl\"}], \"scatterternary\": [{\"marker\": {\"colorbar\": {\"outlinewidth\": 0, \"ticks\": \"\"}}, \"type\": \"scatterternary\"}], \"surface\": [{\"colorbar\": {\"outlinewidth\": 0, \"ticks\": \"\"}, \"colorscale\": [[0.0, \"#0d0887\"], [0.1111111111111111, \"#46039f\"], [0.2222222222222222, \"#7201a8\"], [0.3333333333333333, \"#9c179e\"], [0.4444444444444444, \"#bd3786\"], [0.5555555555555556, \"#d8576b\"], [0.6666666666666666, \"#ed7953\"], [0.7777777777777778, \"#fb9f3a\"], [0.8888888888888888, \"#fdca26\"], [1.0, \"#f0f921\"]], \"type\": \"surface\"}], \"table\": [{\"cells\": {\"fill\": {\"color\": \"#EBF0F8\"}, \"line\": {\"color\": \"white\"}}, \"header\": {\"fill\": {\"color\": \"#C8D4E3\"}, \"line\": {\"color\": \"white\"}}, \"type\": \"table\"}]}, \"layout\": {\"annotationdefaults\": {\"arrowcolor\": \"#2a3f5f\", \"arrowhead\": 0, \"arrowwidth\": 1}, \"coloraxis\": {\"colorbar\": {\"outlinewidth\": 0, \"ticks\": \"\"}}, \"colorscale\": {\"diverging\": [[0, \"#8e0152\"], [0.1, \"#c51b7d\"], [0.2, \"#de77ae\"], [0.3, \"#f1b6da\"], [0.4, \"#fde0ef\"], [0.5, \"#f7f7f7\"], [0.6, \"#e6f5d0\"], [0.7, \"#b8e186\"], [0.8, \"#7fbc41\"], [0.9, \"#4d9221\"], [1, \"#276419\"]], \"sequential\": [[0.0, \"#0d0887\"], [0.1111111111111111, \"#46039f\"], [0.2222222222222222, \"#7201a8\"], [0.3333333333333333, \"#9c179e\"], [0.4444444444444444, \"#bd3786\"], [0.5555555555555556, \"#d8576b\"], [0.6666666666666666, \"#ed7953\"], [0.7777777777777778, \"#fb9f3a\"], [0.8888888888888888, \"#fdca26\"], [1.0, \"#f0f921\"]], \"sequentialminus\": [[0.0, \"#0d0887\"], [0.1111111111111111, \"#46039f\"], [0.2222222222222222, \"#7201a8\"], [0.3333333333333333, \"#9c179e\"], [0.4444444444444444, \"#bd3786\"], [0.5555555555555556, \"#d8576b\"], [0.6666666666666666, \"#ed7953\"], [0.7777777777777778, \"#fb9f3a\"], [0.8888888888888888, \"#fdca26\"], [1.0, \"#f0f921\"]]}, \"colorway\": [\"#636efa\", \"#EF553B\", \"#00cc96\", \"#ab63fa\", \"#FFA15A\", \"#19d3f3\", \"#FF6692\", \"#B6E880\", \"#FF97FF\", \"#FECB52\"], \"font\": {\"color\": \"#2a3f5f\"}, \"geo\": {\"bgcolor\": \"white\", \"lakecolor\": \"white\", \"landcolor\": \"#E5ECF6\", \"showlakes\": true, \"showland\": true, \"subunitcolor\": \"white\"}, \"hoverlabel\": {\"align\": \"left\"}, \"hovermode\": \"closest\", \"mapbox\": {\"style\": \"light\"}, \"paper_bgcolor\": \"white\", \"plot_bgcolor\": \"#E5ECF6\", \"polar\": {\"angularaxis\": {\"gridcolor\": \"white\", \"linecolor\": \"white\", \"ticks\": \"\"}, \"bgcolor\": \"#E5ECF6\", \"radialaxis\": {\"gridcolor\": \"white\", \"linecolor\": \"white\", \"ticks\": \"\"}}, \"scene\": {\"xaxis\": {\"backgroundcolor\": \"#E5ECF6\", \"gridcolor\": \"white\", \"gridwidth\": 2, \"linecolor\": \"white\", \"showbackground\": true, \"ticks\": \"\", \"zerolinecolor\": \"white\"}, \"yaxis\": {\"backgroundcolor\": \"#E5ECF6\", \"gridcolor\": \"white\", \"gridwidth\": 2, \"linecolor\": \"white\", \"showbackground\": true, \"ticks\": \"\", \"zerolinecolor\": \"white\"}, \"zaxis\": {\"backgroundcolor\": \"#E5ECF6\", \"gridcolor\": \"white\", \"gridwidth\": 2, \"linecolor\": \"white\", \"showbackground\": true, \"ticks\": \"\", \"zerolinecolor\": \"white\"}}, \"shapedefaults\": {\"line\": {\"color\": \"#2a3f5f\"}}, \"ternary\": {\"aaxis\": {\"gridcolor\": \"white\", \"linecolor\": \"white\", \"ticks\": \"\"}, \"baxis\": {\"gridcolor\": \"white\", \"linecolor\": \"white\", \"ticks\": \"\"}, \"bgcolor\": \"#E5ECF6\", \"caxis\": {\"gridcolor\": \"white\", \"linecolor\": \"white\", \"ticks\": \"\"}}, \"title\": {\"x\": 0.05}, \"xaxis\": {\"automargin\": true, \"gridcolor\": \"white\", \"linecolor\": \"white\", \"ticks\": \"\", \"title\": {\"standoff\": 15}, \"zerolinecolor\": \"white\", \"zerolinewidth\": 2}, \"yaxis\": {\"automargin\": true, \"gridcolor\": \"white\", \"linecolor\": \"white\", \"ticks\": \"\", \"title\": {\"standoff\": 15}, \"zerolinecolor\": \"white\", \"zerolinewidth\": 2}}}, \"title\": {\"text\": \"Tipo de Empr\\u00e9stimo por Ano\"}, \"xaxis\": {\"title\": {\"text\": \"Empr\\u00e9stimos\"}}},                        {\"responsive\": true}                    ).then(function(){\n",
       "                            \n",
       "var gd = document.getElementById('594783f5-4ae4-48ae-9b69-4da218aa5399');\n",
       "var x = new MutationObserver(function (mutations, observer) {{\n",
       "        var display = window.getComputedStyle(gd).display;\n",
       "        if (!display || display === 'none') {{\n",
       "            console.log([gd, 'removed!']);\n",
       "            Plotly.purge(gd);\n",
       "            observer.disconnect();\n",
       "        }}\n",
       "}});\n",
       "\n",
       "// Listen for the removal of the full notebook cells\n",
       "var notebookContainer = gd.closest('#notebook-container');\n",
       "if (notebookContainer) {{\n",
       "    x.observe(notebookContainer, {childList: true});\n",
       "}}\n",
       "\n",
       "// Listen for the clearing of the current output cell\n",
       "var outputEl = gd.closest('.output');\n",
       "if (outputEl) {{\n",
       "    x.observe(outputEl, {childList: true});\n",
       "}}\n",
       "\n",
       "                        })                };                });            </script>        </div>"
      ]
     },
     "metadata": {},
     "output_type": "display_data"
    }
   ],
   "source": [
    "debt_consolidation = loan_status_cross['debt_consolidation'].values.tolist()\n",
    "credit_card        = loan_status_cross['credit_card'].values.tolist()\n",
    "other              = loan_status_cross['other'].values.tolist()\n",
    "home_improvement   = loan_status_cross['home_improvement'].values.tolist()\n",
    "major_purchase     = loan_status_cross['major_purchase'] .values.tolist()\n",
    "small_business     = loan_status_cross['small_business'].values.tolist()\n",
    "medical            = loan_status_cross['medical'].values.tolist()\n",
    "house              = loan_status_cross['house'].values.tolist()\n",
    "car                = loan_status_cross['car'].values.tolist()\n",
    "moving             = loan_status_cross['moving'].values.tolist()\n",
    "vacation           = loan_status_cross['vacation'] .values.tolist()\n",
    "renewable_energy   = loan_status_cross['renewable_energy'].values.tolist()\n",
    "\n",
    "\n",
    "\n",
    "debt = go.Bar(\n",
    "    x=number_of_loanstatus.index,#df_anos['year'].value_counts().index,#df_anos['year'].unique(),\n",
    "    y= debt_consolidation,\n",
    "    name='Debito Consolidado',\n",
    "    marker=dict(\n",
    "        color='rgb(192, 148, 246)'\n",
    "    ),\n",
    "    text = '%'\n",
    ")\n",
    "\n",
    "credit = go.Bar(\n",
    "    x=number_of_loanstatus.index,\n",
    "    y=credit_card,\n",
    "    name='Cartao de Credito',\n",
    "    marker=dict(\n",
    "        color='rgb(176, 26, 26)'\n",
    "    ),\n",
    "    text = '%'\n",
    ")\n",
    "\n",
    "other = go.Bar(\n",
    "    x=number_of_loanstatus.index,\n",
    "    y= other,\n",
    "    name='Outros',\n",
    "    marker = dict(\n",
    "        color='rgb(229, 121, 36)'\n",
    "    ),\n",
    "    text = '%'\n",
    ")\n",
    "\n",
    "home = go.Bar(\n",
    "    x=number_of_loanstatus.index,\n",
    "    y= home_improvement,\n",
    "    name='Reformas do Lar',\n",
    "    marker = dict(\n",
    "        color='rgb(147, 147, 147)'\n",
    "    ),\n",
    "    text = '%'\n",
    ")\n",
    "\n",
    "major = go.Bar(\n",
    "    x=number_of_loanstatus.index,\n",
    "    y= major_purchase,\n",
    "    name='Major Purchase', \n",
    "#     marker = dict(\n",
    "#         color='rgb(246, 157, 135)'\n",
    "#     ),\n",
    "    text = '%'\n",
    ")\n",
    "\n",
    "small = go.Bar(\n",
    "    x=number_of_loanstatus.index,\n",
    "    y= small_business,\n",
    "    name='Pequenos Negocios',\n",
    "#     marker = dict(\n",
    "#         color = 'rgb(238, 76, 73)'\n",
    "#         ),\n",
    "    text = '%'\n",
    ")\n",
    "medical = go.Bar(\n",
    "    x=number_of_loanstatus.index,\n",
    "    y= medical,\n",
    "    name='Saude',\n",
    "#     marker=dict(\n",
    "#         color='rgb(192, 148, 246)'\n",
    "#     ),\n",
    "    text = '%'\n",
    ")\n",
    "\n",
    "house = go.Bar(\n",
    "    x=number_of_loanstatus.index,\n",
    "    y=house,\n",
    "    name='Imovel',\n",
    "#     marker=dict(\n",
    "#         color='rgb(176, 26, 26)'\n",
    "#     ),\n",
    "    text = '%'\n",
    ")\n",
    "\n",
    "car = go.Bar(\n",
    "    x=number_of_loanstatus.index,\n",
    "    y= car,\n",
    "    name='Carro',\n",
    "#     marker = dict(\n",
    "#         color='rgb(229, 121, 36)'\n",
    "#     ),\n",
    "    text = '%'\n",
    ")\n",
    "\n",
    "moving = go.Bar(\n",
    "    x=number_of_loanstatus.index,\n",
    "    y= moving,\n",
    "    name='Mudança',\n",
    "#     marker = dict(\n",
    "#         color='rgb(147, 147, 147)'\n",
    "#     ),\n",
    "    text = '%'\n",
    ")\n",
    "\n",
    "vacation = go.Bar(\n",
    "    x=number_of_loanstatus.index,\n",
    "    y= vacation,\n",
    "    name='Ferias', \n",
    "#     marker = dict(\n",
    "#         color='rgb(246, 157, 135)'\n",
    "#     ),\n",
    "    text = '%'\n",
    ")\n",
    "\n",
    "renewable = go.Bar(\n",
    "    x=number_of_loanstatus.index,\n",
    "    y= renewable_energy,\n",
    "    name='Energia Renovavel',\n",
    "#     marker = dict(\n",
    "#         color = 'rgb(238, 76, 73)'\n",
    "#         ),\n",
    "     text = '%'\n",
    ")\n",
    "\n",
    "data = [debt, credit, other, home, major, small, medical, house, car, moving, vacation, renewable]\n",
    "layout = go.Layout(\n",
    "    barmode='stack',\n",
    "    title = 'Tipo de Empréstimo por Ano',\n",
    "    xaxis=dict(title='Empréstimos')\n",
    ")\n",
    "\n",
    "fig = go.Figure(data=data, layout=layout)\n",
    "iplot(fig, filename='stacked-bar')"
   ]
  },
  {
   "cell_type": "code",
   "execution_count": 32,
   "metadata": {},
   "outputs": [],
   "source": [
    "by_loan_amount = df_anos.groupby(['regiao','addr_state'], as_index=False).loan_amnt.sum()\n",
    "by_interest_rate = df_anos.groupby(['regiao', 'addr_state'], as_index=False).int_rate.mean()\n",
    "by_income = df_anos.groupby(['regiao', 'addr_state'], as_index=False).annual_inc.mean()\n",
    "\n",
    "# Take the values to a list for visualization purposes.\n",
    "states = by_loan_amount['addr_state'].values.tolist()\n",
    "average_loan_amounts = by_loan_amount['loan_amnt'].values.tolist()\n",
    "average_interest_rates = by_interest_rate['int_rate'].values.tolist()\n",
    "average_annual_income = by_income['annual_inc'].values.tolist()\n",
    "\n",
    "\n",
    "from collections import OrderedDict\n",
    "\n",
    "# Figure Number 1 (Perspective for the Business Operations)\n",
    "metrics_data = OrderedDict([('UF_estados', states),\n",
    "                            ('emp_emitidos', average_loan_amounts),\n",
    "                            ('taxa_inter', average_interest_rates),\n",
    "                            ('anual_incom', average_annual_income)])\n",
    "                     \n",
    "\n",
    "metrics_df = pd.DataFrame.from_dict(metrics_data)\n",
    "metrics_df = metrics_df.round(decimals=2)\n",
    "#metrics_df.head()"
   ]
  },
  {
   "cell_type": "code",
   "execution_count": 33,
   "metadata": {},
   "outputs": [
    {
     "data": {
      "text/html": [
       "<div>\n",
       "<style scoped>\n",
       "    .dataframe tbody tr th:only-of-type {\n",
       "        vertical-align: middle;\n",
       "    }\n",
       "\n",
       "    .dataframe tbody tr th {\n",
       "        vertical-align: top;\n",
       "    }\n",
       "\n",
       "    .dataframe thead th {\n",
       "        text-align: right;\n",
       "    }\n",
       "</style>\n",
       "<table border=\"1\" class=\"dataframe\">\n",
       "  <thead>\n",
       "    <tr style=\"text-align: right;\">\n",
       "      <th></th>\n",
       "      <th>UF_estados</th>\n",
       "      <th>emp_emitidos</th>\n",
       "      <th>taxa_inter</th>\n",
       "      <th>anual_incom</th>\n",
       "    </tr>\n",
       "  </thead>\n",
       "  <tbody>\n",
       "    <tr>\n",
       "      <th>17</th>\n",
       "      <td>NY</td>\n",
       "      <td>597390400</td>\n",
       "      <td>13.58</td>\n",
       "      <td>55256.11</td>\n",
       "    </tr>\n",
       "    <tr>\n",
       "      <th>22</th>\n",
       "      <td>CA</td>\n",
       "      <td>59547125</td>\n",
       "      <td>15.26</td>\n",
       "      <td>85096.15</td>\n",
       "    </tr>\n",
       "    <tr>\n",
       "      <th>49</th>\n",
       "      <td>TX</td>\n",
       "      <td>38658150</td>\n",
       "      <td>15.54</td>\n",
       "      <td>78759.40</td>\n",
       "    </tr>\n",
       "    <tr>\n",
       "      <th>36</th>\n",
       "      <td>FL</td>\n",
       "      <td>34635300</td>\n",
       "      <td>15.70</td>\n",
       "      <td>74344.23</td>\n",
       "    </tr>\n",
       "    <tr>\n",
       "      <th>16</th>\n",
       "      <td>NJ</td>\n",
       "      <td>16379300</td>\n",
       "      <td>15.52</td>\n",
       "      <td>91003.39</td>\n",
       "    </tr>\n",
       "  </tbody>\n",
       "</table>\n",
       "</div>"
      ],
      "text/plain": [
       "   UF_estados  emp_emitidos  taxa_inter  anual_incom\n",
       "17         NY     597390400       13.58     55256.11\n",
       "22         CA      59547125       15.26     85096.15\n",
       "49         TX      38658150       15.54     78759.40\n",
       "36         FL      34635300       15.70     74344.23\n",
       "16         NJ      16379300       15.52     91003.39"
      ]
     },
     "execution_count": 33,
     "metadata": {},
     "output_type": "execute_result"
    }
   ],
   "source": [
    "metrics_df.sort_values(by='emp_emitidos',ascending=False).head()"
   ]
  },
  {
   "cell_type": "code",
   "execution_count": 34,
   "metadata": {},
   "outputs": [
    {
     "data": {
      "application/vnd.plotly.v1+json": {
       "config": {
        "linkText": "Export to plot.ly",
        "plotlyServerURL": "https://plot.ly",
        "showLink": false
       },
       "data": [
        {
         "autocolorscale": false,
         "colorbar": {
          "title": {
           "text": "$s USD"
          }
         },
         "colorscale": [
          [
           0,
           "rgb(210, 241, 198)"
          ],
          [
           0.2,
           "rgb(188, 236, 169)"
          ],
          [
           0.4,
           "rgb(171, 235, 145)"
          ],
          [
           0.6,
           "rgb(140, 227, 105)"
          ],
          [
           0.8,
           "rgb(105, 201, 67)"
          ],
          [
           1,
           "rgb(59, 159, 19)"
          ]
         ],
         "locationmode": "USA-states",
         "locations": [
          "IL",
          "IN",
          "KS",
          "MI",
          "MN",
          "MO",
          "ND",
          "NE",
          "OH",
          "SD",
          "WI",
          "CT",
          "MA",
          "MD",
          "ME",
          "NH",
          "NJ",
          "NY",
          "PA",
          "RI",
          "VT",
          "AK",
          "CA",
          "CO",
          "HI",
          "ID",
          "MT",
          "NV",
          "OR",
          "UT",
          "WA",
          "WY",
          "AL",
          "AR",
          "DC",
          "DE",
          "FL",
          "GA",
          "KY",
          "LA",
          "MS",
          "NC",
          "SC",
          "TN",
          "VA",
          "WV",
          "AZ",
          "NM",
          "OK",
          "TX"
         ],
         "marker": {
          "line": {
           "color": "rgb(255,255,255)",
           "width": 2
          }
         },
         "text": [
          "IL<br>Taxa média de juros de empréstimos: 15.89<br>Renda anual média: 80660.31",
          "IN<br>Taxa média de juros de empréstimos: 16.13<br>Renda anual média: 67788.57",
          "KS<br>Taxa média de juros de empréstimos: 16.43<br>Renda anual média: 71147.8",
          "MI<br>Taxa média de juros de empréstimos: 15.65<br>Renda anual média: 72351.37",
          "MN<br>Taxa média de juros de empréstimos: 15.76<br>Renda anual média: 68441.51",
          "MO<br>Taxa média de juros de empréstimos: 15.52<br>Renda anual média: 69782.97",
          "ND<br>Taxa média de juros de empréstimos: 14.63<br>Renda anual média: 72289.83",
          "NE<br>Taxa média de juros de empréstimos: 15.93<br>Renda anual média: 58959.75",
          "OH<br>Taxa média de juros de empréstimos: 15.82<br>Renda anual média: 68709.11",
          "SD<br>Taxa média de juros de empréstimos: 15.46<br>Renda anual média: 59564.95",
          "WI<br>Taxa média de juros de empréstimos: 15.51<br>Renda anual média: 65769.49",
          "CT<br>Taxa média de juros de empréstimos: 15.35<br>Renda anual média: 85917.89",
          "MA<br>Taxa média de juros de empréstimos: 15.68<br>Renda anual média: 78849.5",
          "MD<br>Taxa média de juros de empréstimos: 15.55<br>Renda anual média: 87032.92",
          "ME<br>Taxa média de juros de empréstimos: 16.19<br>Renda anual média: 70429.87",
          "NH<br>Taxa média de juros de empréstimos: 15.94<br>Renda anual média: 87194.55",
          "NJ<br>Taxa média de juros de empréstimos: 15.52<br>Renda anual média: 91003.39",
          "NY<br>Taxa média de juros de empréstimos: 13.58<br>Renda anual média: 55256.11",
          "PA<br>Taxa média de juros de empréstimos: 15.56<br>Renda anual média: 70981.65",
          "RI<br>Taxa média de juros de empréstimos: 16.35<br>Renda anual média: 73656.52",
          "VT<br>Taxa média de juros de empréstimos: 15.75<br>Renda anual média: 64333.16",
          "AK<br>Taxa média de juros de empréstimos: 15.94<br>Renda anual média: 83879.45",
          "CA<br>Taxa média de juros de empréstimos: 15.26<br>Renda anual média: 85096.15",
          "CO<br>Taxa média de juros de empréstimos: 15.09<br>Renda anual média: 77545.66",
          "HI<br>Taxa média de juros de empréstimos: 16.91<br>Renda anual média: 75319.7",
          "ID<br>Taxa média de juros de empréstimos: 16.23<br>Renda anual média: 56756.16",
          "MT<br>Taxa média de juros de empréstimos: 15.84<br>Renda anual média: 63847.29",
          "NV<br>Taxa média de juros de empréstimos: 15.43<br>Renda anual média: 75394.12",
          "OR<br>Taxa média de juros de empréstimos: 15.57<br>Renda anual média: 69600.33",
          "UT<br>Taxa média de juros de empréstimos: 17.0<br>Renda anual média: 68510.56",
          "WA<br>Taxa média de juros de empréstimos: 15.74<br>Renda anual média: 70139.69",
          "WY<br>Taxa média de juros de empréstimos: 16.78<br>Renda anual média: 72044.06",
          "AL<br>Taxa média de juros de empréstimos: 16.19<br>Renda anual média: 67130.38",
          "AR<br>Taxa média de juros de empréstimos: 16.03<br>Renda anual média: 64012.5",
          "DC<br>Taxa média de juros de empréstimos: 14.58<br>Renda anual média: 90009.13",
          "DE<br>Taxa média de juros de empréstimos: 16.57<br>Renda anual média: 60740.55",
          "FL<br>Taxa média de juros de empréstimos: 15.7<br>Renda anual média: 74344.23",
          "GA<br>Taxa média de juros de empréstimos: 16.1<br>Renda anual média: 77736.27",
          "KY<br>Taxa média de juros de empréstimos: 15.65<br>Renda anual média: 60896.34",
          "LA<br>Taxa média de juros de empréstimos: 16.02<br>Renda anual média: 79886.56",
          "MS<br>Taxa média de juros de empréstimos: 16.58<br>Renda anual média: 66943.19",
          "NC<br>Taxa média de juros de empréstimos: 15.74<br>Renda anual média: 70291.57",
          "SC<br>Taxa média de juros de empréstimos: 15.56<br>Renda anual média: 69176.49",
          "TN<br>Taxa média de juros de empréstimos: 15.89<br>Renda anual média: 74339.35",
          "VA<br>Taxa média de juros de empréstimos: 16.11<br>Renda anual média: 83627.02",
          "WV<br>Taxa média de juros de empréstimos: 16.57<br>Renda anual média: 58403.11",
          "AZ<br>Taxa média de juros de empréstimos: 15.32<br>Renda anual média: 70712.74",
          "NM<br>Taxa média de juros de empréstimos: 15.29<br>Renda anual média: 75382.09",
          "OK<br>Taxa média de juros de empréstimos: 16.47<br>Renda anual média: 70699.16",
          "TX<br>Taxa média de juros de empréstimos: 15.54<br>Renda anual média: 78759.4"
         ],
         "type": "choropleth",
         "z": [
          "14416050",
          "6453500",
          "3088425",
          "10303525",
          "6441075",
          "6556125",
          "815600",
          "1693625",
          "10180775",
          "878650",
          "6466825",
          "6882650",
          "9380650",
          "13189850",
          "659350",
          "2303300",
          "16379300",
          "597390400",
          "14232175",
          "1593175",
          "619300",
          "1104300",
          "59547125",
          "7280400",
          "2537200",
          "753150",
          "980750",
          "5492500",
          "3624950",
          "2072525",
          "6848750",
          "572775",
          "5999550",
          "3399075",
          "979875",
          "1032200",
          "34635300",
          "14908600",
          "3533650",
          "5197025",
          "3786375",
          "11559525",
          "4654200",
          "6763675",
          "13041925",
          "868175",
          "9433300",
          "2278150",
          "4831125",
          "38658150"
         ]
        }
       ],
       "layout": {
        "geo": {
         "projection": {
          "type": "albers usa"
         },
         "scope": "usa"
        },
        "template": {
         "data": {
          "bar": [
           {
            "error_x": {
             "color": "#2a3f5f"
            },
            "error_y": {
             "color": "#2a3f5f"
            },
            "marker": {
             "line": {
              "color": "#E5ECF6",
              "width": 0.5
             }
            },
            "type": "bar"
           }
          ],
          "barpolar": [
           {
            "marker": {
             "line": {
              "color": "#E5ECF6",
              "width": 0.5
             }
            },
            "type": "barpolar"
           }
          ],
          "carpet": [
           {
            "aaxis": {
             "endlinecolor": "#2a3f5f",
             "gridcolor": "white",
             "linecolor": "white",
             "minorgridcolor": "white",
             "startlinecolor": "#2a3f5f"
            },
            "baxis": {
             "endlinecolor": "#2a3f5f",
             "gridcolor": "white",
             "linecolor": "white",
             "minorgridcolor": "white",
             "startlinecolor": "#2a3f5f"
            },
            "type": "carpet"
           }
          ],
          "choropleth": [
           {
            "colorbar": {
             "outlinewidth": 0,
             "ticks": ""
            },
            "type": "choropleth"
           }
          ],
          "contour": [
           {
            "colorbar": {
             "outlinewidth": 0,
             "ticks": ""
            },
            "colorscale": [
             [
              0,
              "#0d0887"
             ],
             [
              0.1111111111111111,
              "#46039f"
             ],
             [
              0.2222222222222222,
              "#7201a8"
             ],
             [
              0.3333333333333333,
              "#9c179e"
             ],
             [
              0.4444444444444444,
              "#bd3786"
             ],
             [
              0.5555555555555556,
              "#d8576b"
             ],
             [
              0.6666666666666666,
              "#ed7953"
             ],
             [
              0.7777777777777778,
              "#fb9f3a"
             ],
             [
              0.8888888888888888,
              "#fdca26"
             ],
             [
              1,
              "#f0f921"
             ]
            ],
            "type": "contour"
           }
          ],
          "contourcarpet": [
           {
            "colorbar": {
             "outlinewidth": 0,
             "ticks": ""
            },
            "type": "contourcarpet"
           }
          ],
          "heatmap": [
           {
            "colorbar": {
             "outlinewidth": 0,
             "ticks": ""
            },
            "colorscale": [
             [
              0,
              "#0d0887"
             ],
             [
              0.1111111111111111,
              "#46039f"
             ],
             [
              0.2222222222222222,
              "#7201a8"
             ],
             [
              0.3333333333333333,
              "#9c179e"
             ],
             [
              0.4444444444444444,
              "#bd3786"
             ],
             [
              0.5555555555555556,
              "#d8576b"
             ],
             [
              0.6666666666666666,
              "#ed7953"
             ],
             [
              0.7777777777777778,
              "#fb9f3a"
             ],
             [
              0.8888888888888888,
              "#fdca26"
             ],
             [
              1,
              "#f0f921"
             ]
            ],
            "type": "heatmap"
           }
          ],
          "heatmapgl": [
           {
            "colorbar": {
             "outlinewidth": 0,
             "ticks": ""
            },
            "colorscale": [
             [
              0,
              "#0d0887"
             ],
             [
              0.1111111111111111,
              "#46039f"
             ],
             [
              0.2222222222222222,
              "#7201a8"
             ],
             [
              0.3333333333333333,
              "#9c179e"
             ],
             [
              0.4444444444444444,
              "#bd3786"
             ],
             [
              0.5555555555555556,
              "#d8576b"
             ],
             [
              0.6666666666666666,
              "#ed7953"
             ],
             [
              0.7777777777777778,
              "#fb9f3a"
             ],
             [
              0.8888888888888888,
              "#fdca26"
             ],
             [
              1,
              "#f0f921"
             ]
            ],
            "type": "heatmapgl"
           }
          ],
          "histogram": [
           {
            "marker": {
             "colorbar": {
              "outlinewidth": 0,
              "ticks": ""
             }
            },
            "type": "histogram"
           }
          ],
          "histogram2d": [
           {
            "colorbar": {
             "outlinewidth": 0,
             "ticks": ""
            },
            "colorscale": [
             [
              0,
              "#0d0887"
             ],
             [
              0.1111111111111111,
              "#46039f"
             ],
             [
              0.2222222222222222,
              "#7201a8"
             ],
             [
              0.3333333333333333,
              "#9c179e"
             ],
             [
              0.4444444444444444,
              "#bd3786"
             ],
             [
              0.5555555555555556,
              "#d8576b"
             ],
             [
              0.6666666666666666,
              "#ed7953"
             ],
             [
              0.7777777777777778,
              "#fb9f3a"
             ],
             [
              0.8888888888888888,
              "#fdca26"
             ],
             [
              1,
              "#f0f921"
             ]
            ],
            "type": "histogram2d"
           }
          ],
          "histogram2dcontour": [
           {
            "colorbar": {
             "outlinewidth": 0,
             "ticks": ""
            },
            "colorscale": [
             [
              0,
              "#0d0887"
             ],
             [
              0.1111111111111111,
              "#46039f"
             ],
             [
              0.2222222222222222,
              "#7201a8"
             ],
             [
              0.3333333333333333,
              "#9c179e"
             ],
             [
              0.4444444444444444,
              "#bd3786"
             ],
             [
              0.5555555555555556,
              "#d8576b"
             ],
             [
              0.6666666666666666,
              "#ed7953"
             ],
             [
              0.7777777777777778,
              "#fb9f3a"
             ],
             [
              0.8888888888888888,
              "#fdca26"
             ],
             [
              1,
              "#f0f921"
             ]
            ],
            "type": "histogram2dcontour"
           }
          ],
          "mesh3d": [
           {
            "colorbar": {
             "outlinewidth": 0,
             "ticks": ""
            },
            "type": "mesh3d"
           }
          ],
          "parcoords": [
           {
            "line": {
             "colorbar": {
              "outlinewidth": 0,
              "ticks": ""
             }
            },
            "type": "parcoords"
           }
          ],
          "pie": [
           {
            "automargin": true,
            "type": "pie"
           }
          ],
          "scatter": [
           {
            "marker": {
             "colorbar": {
              "outlinewidth": 0,
              "ticks": ""
             }
            },
            "type": "scatter"
           }
          ],
          "scatter3d": [
           {
            "line": {
             "colorbar": {
              "outlinewidth": 0,
              "ticks": ""
             }
            },
            "marker": {
             "colorbar": {
              "outlinewidth": 0,
              "ticks": ""
             }
            },
            "type": "scatter3d"
           }
          ],
          "scattercarpet": [
           {
            "marker": {
             "colorbar": {
              "outlinewidth": 0,
              "ticks": ""
             }
            },
            "type": "scattercarpet"
           }
          ],
          "scattergeo": [
           {
            "marker": {
             "colorbar": {
              "outlinewidth": 0,
              "ticks": ""
             }
            },
            "type": "scattergeo"
           }
          ],
          "scattergl": [
           {
            "marker": {
             "colorbar": {
              "outlinewidth": 0,
              "ticks": ""
             }
            },
            "type": "scattergl"
           }
          ],
          "scattermapbox": [
           {
            "marker": {
             "colorbar": {
              "outlinewidth": 0,
              "ticks": ""
             }
            },
            "type": "scattermapbox"
           }
          ],
          "scatterpolar": [
           {
            "marker": {
             "colorbar": {
              "outlinewidth": 0,
              "ticks": ""
             }
            },
            "type": "scatterpolar"
           }
          ],
          "scatterpolargl": [
           {
            "marker": {
             "colorbar": {
              "outlinewidth": 0,
              "ticks": ""
             }
            },
            "type": "scatterpolargl"
           }
          ],
          "scatterternary": [
           {
            "marker": {
             "colorbar": {
              "outlinewidth": 0,
              "ticks": ""
             }
            },
            "type": "scatterternary"
           }
          ],
          "surface": [
           {
            "colorbar": {
             "outlinewidth": 0,
             "ticks": ""
            },
            "colorscale": [
             [
              0,
              "#0d0887"
             ],
             [
              0.1111111111111111,
              "#46039f"
             ],
             [
              0.2222222222222222,
              "#7201a8"
             ],
             [
              0.3333333333333333,
              "#9c179e"
             ],
             [
              0.4444444444444444,
              "#bd3786"
             ],
             [
              0.5555555555555556,
              "#d8576b"
             ],
             [
              0.6666666666666666,
              "#ed7953"
             ],
             [
              0.7777777777777778,
              "#fb9f3a"
             ],
             [
              0.8888888888888888,
              "#fdca26"
             ],
             [
              1,
              "#f0f921"
             ]
            ],
            "type": "surface"
           }
          ],
          "table": [
           {
            "cells": {
             "fill": {
              "color": "#EBF0F8"
             },
             "line": {
              "color": "white"
             }
            },
            "header": {
             "fill": {
              "color": "#C8D4E3"
             },
             "line": {
              "color": "white"
             }
            },
            "type": "table"
           }
          ]
         },
         "layout": {
          "annotationdefaults": {
           "arrowcolor": "#2a3f5f",
           "arrowhead": 0,
           "arrowwidth": 1
          },
          "coloraxis": {
           "colorbar": {
            "outlinewidth": 0,
            "ticks": ""
           }
          },
          "colorscale": {
           "diverging": [
            [
             0,
             "#8e0152"
            ],
            [
             0.1,
             "#c51b7d"
            ],
            [
             0.2,
             "#de77ae"
            ],
            [
             0.3,
             "#f1b6da"
            ],
            [
             0.4,
             "#fde0ef"
            ],
            [
             0.5,
             "#f7f7f7"
            ],
            [
             0.6,
             "#e6f5d0"
            ],
            [
             0.7,
             "#b8e186"
            ],
            [
             0.8,
             "#7fbc41"
            ],
            [
             0.9,
             "#4d9221"
            ],
            [
             1,
             "#276419"
            ]
           ],
           "sequential": [
            [
             0,
             "#0d0887"
            ],
            [
             0.1111111111111111,
             "#46039f"
            ],
            [
             0.2222222222222222,
             "#7201a8"
            ],
            [
             0.3333333333333333,
             "#9c179e"
            ],
            [
             0.4444444444444444,
             "#bd3786"
            ],
            [
             0.5555555555555556,
             "#d8576b"
            ],
            [
             0.6666666666666666,
             "#ed7953"
            ],
            [
             0.7777777777777778,
             "#fb9f3a"
            ],
            [
             0.8888888888888888,
             "#fdca26"
            ],
            [
             1,
             "#f0f921"
            ]
           ],
           "sequentialminus": [
            [
             0,
             "#0d0887"
            ],
            [
             0.1111111111111111,
             "#46039f"
            ],
            [
             0.2222222222222222,
             "#7201a8"
            ],
            [
             0.3333333333333333,
             "#9c179e"
            ],
            [
             0.4444444444444444,
             "#bd3786"
            ],
            [
             0.5555555555555556,
             "#d8576b"
            ],
            [
             0.6666666666666666,
             "#ed7953"
            ],
            [
             0.7777777777777778,
             "#fb9f3a"
            ],
            [
             0.8888888888888888,
             "#fdca26"
            ],
            [
             1,
             "#f0f921"
            ]
           ]
          },
          "colorway": [
           "#636efa",
           "#EF553B",
           "#00cc96",
           "#ab63fa",
           "#FFA15A",
           "#19d3f3",
           "#FF6692",
           "#B6E880",
           "#FF97FF",
           "#FECB52"
          ],
          "font": {
           "color": "#2a3f5f"
          },
          "geo": {
           "bgcolor": "white",
           "lakecolor": "white",
           "landcolor": "#E5ECF6",
           "showlakes": true,
           "showland": true,
           "subunitcolor": "white"
          },
          "hoverlabel": {
           "align": "left"
          },
          "hovermode": "closest",
          "mapbox": {
           "style": "light"
          },
          "paper_bgcolor": "white",
          "plot_bgcolor": "#E5ECF6",
          "polar": {
           "angularaxis": {
            "gridcolor": "white",
            "linecolor": "white",
            "ticks": ""
           },
           "bgcolor": "#E5ECF6",
           "radialaxis": {
            "gridcolor": "white",
            "linecolor": "white",
            "ticks": ""
           }
          },
          "scene": {
           "xaxis": {
            "backgroundcolor": "#E5ECF6",
            "gridcolor": "white",
            "gridwidth": 2,
            "linecolor": "white",
            "showbackground": true,
            "ticks": "",
            "zerolinecolor": "white"
           },
           "yaxis": {
            "backgroundcolor": "#E5ECF6",
            "gridcolor": "white",
            "gridwidth": 2,
            "linecolor": "white",
            "showbackground": true,
            "ticks": "",
            "zerolinecolor": "white"
           },
           "zaxis": {
            "backgroundcolor": "#E5ECF6",
            "gridcolor": "white",
            "gridwidth": 2,
            "linecolor": "white",
            "showbackground": true,
            "ticks": "",
            "zerolinecolor": "white"
           }
          },
          "shapedefaults": {
           "line": {
            "color": "#2a3f5f"
           }
          },
          "ternary": {
           "aaxis": {
            "gridcolor": "white",
            "linecolor": "white",
            "ticks": ""
           },
           "baxis": {
            "gridcolor": "white",
            "linecolor": "white",
            "ticks": ""
           },
           "bgcolor": "#E5ECF6",
           "caxis": {
            "gridcolor": "white",
            "linecolor": "white",
            "ticks": ""
           }
          },
          "title": {
           "x": 0.05
          },
          "xaxis": {
           "automargin": true,
           "gridcolor": "white",
           "linecolor": "white",
           "ticks": "",
           "title": {
            "standoff": 15
           },
           "zerolinecolor": "white",
           "zerolinewidth": 2
          },
          "yaxis": {
           "automargin": true,
           "gridcolor": "white",
           "linecolor": "white",
           "ticks": "",
           "title": {
            "standoff": 15
           },
           "zerolinecolor": "white",
           "zerolinewidth": 2
          }
         }
        },
        "title": {
         "text": "Empréstimos concedidos a clubes de empréstimos <br> (Uma perspectiva para as operações comerciais)"
        }
       }
      },
      "text/html": [
       "<div>                            <div id=\"cbbd594c-103a-4696-9cd9-55baeeafe6e9\" class=\"plotly-graph-div\" style=\"height:525px; width:100%;\"></div>            <script type=\"text/javascript\">                require([\"plotly\"], function(Plotly) {                    window.PLOTLYENV=window.PLOTLYENV || {};                                    if (document.getElementById(\"cbbd594c-103a-4696-9cd9-55baeeafe6e9\")) {                    Plotly.newPlot(                        \"cbbd594c-103a-4696-9cd9-55baeeafe6e9\",                        [{\"autocolorscale\": false, \"colorbar\": {\"title\": {\"text\": \"$s USD\"}}, \"colorscale\": [[0.0, \"rgb(210, 241, 198)\"], [0.2, \"rgb(188, 236, 169)\"], [0.4, \"rgb(171, 235, 145)\"], [0.6, \"rgb(140, 227, 105)\"], [0.8, \"rgb(105, 201, 67)\"], [1.0, \"rgb(59, 159, 19)\"]], \"locationmode\": \"USA-states\", \"locations\": [\"IL\", \"IN\", \"KS\", \"MI\", \"MN\", \"MO\", \"ND\", \"NE\", \"OH\", \"SD\", \"WI\", \"CT\", \"MA\", \"MD\", \"ME\", \"NH\", \"NJ\", \"NY\", \"PA\", \"RI\", \"VT\", \"AK\", \"CA\", \"CO\", \"HI\", \"ID\", \"MT\", \"NV\", \"OR\", \"UT\", \"WA\", \"WY\", \"AL\", \"AR\", \"DC\", \"DE\", \"FL\", \"GA\", \"KY\", \"LA\", \"MS\", \"NC\", \"SC\", \"TN\", \"VA\", \"WV\", \"AZ\", \"NM\", \"OK\", \"TX\"], \"marker\": {\"line\": {\"color\": \"rgb(255,255,255)\", \"width\": 2}}, \"text\": [\"IL<br>Taxa m\\u00e9dia de juros de empr\\u00e9stimos: 15.89<br>Renda anual m\\u00e9dia: 80660.31\", \"IN<br>Taxa m\\u00e9dia de juros de empr\\u00e9stimos: 16.13<br>Renda anual m\\u00e9dia: 67788.57\", \"KS<br>Taxa m\\u00e9dia de juros de empr\\u00e9stimos: 16.43<br>Renda anual m\\u00e9dia: 71147.8\", \"MI<br>Taxa m\\u00e9dia de juros de empr\\u00e9stimos: 15.65<br>Renda anual m\\u00e9dia: 72351.37\", \"MN<br>Taxa m\\u00e9dia de juros de empr\\u00e9stimos: 15.76<br>Renda anual m\\u00e9dia: 68441.51\", \"MO<br>Taxa m\\u00e9dia de juros de empr\\u00e9stimos: 15.52<br>Renda anual m\\u00e9dia: 69782.97\", \"ND<br>Taxa m\\u00e9dia de juros de empr\\u00e9stimos: 14.63<br>Renda anual m\\u00e9dia: 72289.83\", \"NE<br>Taxa m\\u00e9dia de juros de empr\\u00e9stimos: 15.93<br>Renda anual m\\u00e9dia: 58959.75\", \"OH<br>Taxa m\\u00e9dia de juros de empr\\u00e9stimos: 15.82<br>Renda anual m\\u00e9dia: 68709.11\", \"SD<br>Taxa m\\u00e9dia de juros de empr\\u00e9stimos: 15.46<br>Renda anual m\\u00e9dia: 59564.95\", \"WI<br>Taxa m\\u00e9dia de juros de empr\\u00e9stimos: 15.51<br>Renda anual m\\u00e9dia: 65769.49\", \"CT<br>Taxa m\\u00e9dia de juros de empr\\u00e9stimos: 15.35<br>Renda anual m\\u00e9dia: 85917.89\", \"MA<br>Taxa m\\u00e9dia de juros de empr\\u00e9stimos: 15.68<br>Renda anual m\\u00e9dia: 78849.5\", \"MD<br>Taxa m\\u00e9dia de juros de empr\\u00e9stimos: 15.55<br>Renda anual m\\u00e9dia: 87032.92\", \"ME<br>Taxa m\\u00e9dia de juros de empr\\u00e9stimos: 16.19<br>Renda anual m\\u00e9dia: 70429.87\", \"NH<br>Taxa m\\u00e9dia de juros de empr\\u00e9stimos: 15.94<br>Renda anual m\\u00e9dia: 87194.55\", \"NJ<br>Taxa m\\u00e9dia de juros de empr\\u00e9stimos: 15.52<br>Renda anual m\\u00e9dia: 91003.39\", \"NY<br>Taxa m\\u00e9dia de juros de empr\\u00e9stimos: 13.58<br>Renda anual m\\u00e9dia: 55256.11\", \"PA<br>Taxa m\\u00e9dia de juros de empr\\u00e9stimos: 15.56<br>Renda anual m\\u00e9dia: 70981.65\", \"RI<br>Taxa m\\u00e9dia de juros de empr\\u00e9stimos: 16.35<br>Renda anual m\\u00e9dia: 73656.52\", \"VT<br>Taxa m\\u00e9dia de juros de empr\\u00e9stimos: 15.75<br>Renda anual m\\u00e9dia: 64333.16\", \"AK<br>Taxa m\\u00e9dia de juros de empr\\u00e9stimos: 15.94<br>Renda anual m\\u00e9dia: 83879.45\", \"CA<br>Taxa m\\u00e9dia de juros de empr\\u00e9stimos: 15.26<br>Renda anual m\\u00e9dia: 85096.15\", \"CO<br>Taxa m\\u00e9dia de juros de empr\\u00e9stimos: 15.09<br>Renda anual m\\u00e9dia: 77545.66\", \"HI<br>Taxa m\\u00e9dia de juros de empr\\u00e9stimos: 16.91<br>Renda anual m\\u00e9dia: 75319.7\", \"ID<br>Taxa m\\u00e9dia de juros de empr\\u00e9stimos: 16.23<br>Renda anual m\\u00e9dia: 56756.16\", \"MT<br>Taxa m\\u00e9dia de juros de empr\\u00e9stimos: 15.84<br>Renda anual m\\u00e9dia: 63847.29\", \"NV<br>Taxa m\\u00e9dia de juros de empr\\u00e9stimos: 15.43<br>Renda anual m\\u00e9dia: 75394.12\", \"OR<br>Taxa m\\u00e9dia de juros de empr\\u00e9stimos: 15.57<br>Renda anual m\\u00e9dia: 69600.33\", \"UT<br>Taxa m\\u00e9dia de juros de empr\\u00e9stimos: 17.0<br>Renda anual m\\u00e9dia: 68510.56\", \"WA<br>Taxa m\\u00e9dia de juros de empr\\u00e9stimos: 15.74<br>Renda anual m\\u00e9dia: 70139.69\", \"WY<br>Taxa m\\u00e9dia de juros de empr\\u00e9stimos: 16.78<br>Renda anual m\\u00e9dia: 72044.06\", \"AL<br>Taxa m\\u00e9dia de juros de empr\\u00e9stimos: 16.19<br>Renda anual m\\u00e9dia: 67130.38\", \"AR<br>Taxa m\\u00e9dia de juros de empr\\u00e9stimos: 16.03<br>Renda anual m\\u00e9dia: 64012.5\", \"DC<br>Taxa m\\u00e9dia de juros de empr\\u00e9stimos: 14.58<br>Renda anual m\\u00e9dia: 90009.13\", \"DE<br>Taxa m\\u00e9dia de juros de empr\\u00e9stimos: 16.57<br>Renda anual m\\u00e9dia: 60740.55\", \"FL<br>Taxa m\\u00e9dia de juros de empr\\u00e9stimos: 15.7<br>Renda anual m\\u00e9dia: 74344.23\", \"GA<br>Taxa m\\u00e9dia de juros de empr\\u00e9stimos: 16.1<br>Renda anual m\\u00e9dia: 77736.27\", \"KY<br>Taxa m\\u00e9dia de juros de empr\\u00e9stimos: 15.65<br>Renda anual m\\u00e9dia: 60896.34\", \"LA<br>Taxa m\\u00e9dia de juros de empr\\u00e9stimos: 16.02<br>Renda anual m\\u00e9dia: 79886.56\", \"MS<br>Taxa m\\u00e9dia de juros de empr\\u00e9stimos: 16.58<br>Renda anual m\\u00e9dia: 66943.19\", \"NC<br>Taxa m\\u00e9dia de juros de empr\\u00e9stimos: 15.74<br>Renda anual m\\u00e9dia: 70291.57\", \"SC<br>Taxa m\\u00e9dia de juros de empr\\u00e9stimos: 15.56<br>Renda anual m\\u00e9dia: 69176.49\", \"TN<br>Taxa m\\u00e9dia de juros de empr\\u00e9stimos: 15.89<br>Renda anual m\\u00e9dia: 74339.35\", \"VA<br>Taxa m\\u00e9dia de juros de empr\\u00e9stimos: 16.11<br>Renda anual m\\u00e9dia: 83627.02\", \"WV<br>Taxa m\\u00e9dia de juros de empr\\u00e9stimos: 16.57<br>Renda anual m\\u00e9dia: 58403.11\", \"AZ<br>Taxa m\\u00e9dia de juros de empr\\u00e9stimos: 15.32<br>Renda anual m\\u00e9dia: 70712.74\", \"NM<br>Taxa m\\u00e9dia de juros de empr\\u00e9stimos: 15.29<br>Renda anual m\\u00e9dia: 75382.09\", \"OK<br>Taxa m\\u00e9dia de juros de empr\\u00e9stimos: 16.47<br>Renda anual m\\u00e9dia: 70699.16\", \"TX<br>Taxa m\\u00e9dia de juros de empr\\u00e9stimos: 15.54<br>Renda anual m\\u00e9dia: 78759.4\"], \"type\": \"choropleth\", \"z\": [\"14416050\", \"6453500\", \"3088425\", \"10303525\", \"6441075\", \"6556125\", \"815600\", \"1693625\", \"10180775\", \"878650\", \"6466825\", \"6882650\", \"9380650\", \"13189850\", \"659350\", \"2303300\", \"16379300\", \"597390400\", \"14232175\", \"1593175\", \"619300\", \"1104300\", \"59547125\", \"7280400\", \"2537200\", \"753150\", \"980750\", \"5492500\", \"3624950\", \"2072525\", \"6848750\", \"572775\", \"5999550\", \"3399075\", \"979875\", \"1032200\", \"34635300\", \"14908600\", \"3533650\", \"5197025\", \"3786375\", \"11559525\", \"4654200\", \"6763675\", \"13041925\", \"868175\", \"9433300\", \"2278150\", \"4831125\", \"38658150\"]}],                        {\"geo\": {\"projection\": {\"type\": \"albers usa\"}, \"scope\": \"usa\"}, \"template\": {\"data\": {\"bar\": [{\"error_x\": {\"color\": \"#2a3f5f\"}, \"error_y\": {\"color\": \"#2a3f5f\"}, \"marker\": {\"line\": {\"color\": \"#E5ECF6\", \"width\": 0.5}}, \"type\": \"bar\"}], \"barpolar\": [{\"marker\": {\"line\": {\"color\": \"#E5ECF6\", \"width\": 0.5}}, \"type\": \"barpolar\"}], \"carpet\": [{\"aaxis\": {\"endlinecolor\": \"#2a3f5f\", \"gridcolor\": \"white\", \"linecolor\": \"white\", \"minorgridcolor\": \"white\", \"startlinecolor\": \"#2a3f5f\"}, \"baxis\": {\"endlinecolor\": \"#2a3f5f\", \"gridcolor\": \"white\", \"linecolor\": \"white\", \"minorgridcolor\": \"white\", \"startlinecolor\": \"#2a3f5f\"}, \"type\": \"carpet\"}], \"choropleth\": [{\"colorbar\": {\"outlinewidth\": 0, \"ticks\": \"\"}, \"type\": \"choropleth\"}], \"contour\": [{\"colorbar\": {\"outlinewidth\": 0, \"ticks\": \"\"}, \"colorscale\": [[0.0, \"#0d0887\"], [0.1111111111111111, \"#46039f\"], [0.2222222222222222, \"#7201a8\"], [0.3333333333333333, \"#9c179e\"], [0.4444444444444444, \"#bd3786\"], [0.5555555555555556, \"#d8576b\"], [0.6666666666666666, \"#ed7953\"], [0.7777777777777778, \"#fb9f3a\"], [0.8888888888888888, \"#fdca26\"], [1.0, \"#f0f921\"]], \"type\": \"contour\"}], \"contourcarpet\": [{\"colorbar\": {\"outlinewidth\": 0, \"ticks\": \"\"}, \"type\": \"contourcarpet\"}], \"heatmap\": [{\"colorbar\": {\"outlinewidth\": 0, \"ticks\": \"\"}, \"colorscale\": [[0.0, \"#0d0887\"], [0.1111111111111111, \"#46039f\"], [0.2222222222222222, \"#7201a8\"], [0.3333333333333333, \"#9c179e\"], [0.4444444444444444, \"#bd3786\"], [0.5555555555555556, \"#d8576b\"], [0.6666666666666666, \"#ed7953\"], [0.7777777777777778, \"#fb9f3a\"], [0.8888888888888888, \"#fdca26\"], [1.0, \"#f0f921\"]], \"type\": \"heatmap\"}], \"heatmapgl\": [{\"colorbar\": {\"outlinewidth\": 0, \"ticks\": \"\"}, \"colorscale\": [[0.0, \"#0d0887\"], [0.1111111111111111, \"#46039f\"], [0.2222222222222222, \"#7201a8\"], [0.3333333333333333, \"#9c179e\"], [0.4444444444444444, \"#bd3786\"], [0.5555555555555556, \"#d8576b\"], [0.6666666666666666, \"#ed7953\"], [0.7777777777777778, \"#fb9f3a\"], [0.8888888888888888, \"#fdca26\"], [1.0, \"#f0f921\"]], \"type\": \"heatmapgl\"}], \"histogram\": [{\"marker\": {\"colorbar\": {\"outlinewidth\": 0, \"ticks\": \"\"}}, \"type\": \"histogram\"}], \"histogram2d\": [{\"colorbar\": {\"outlinewidth\": 0, \"ticks\": \"\"}, \"colorscale\": [[0.0, \"#0d0887\"], [0.1111111111111111, \"#46039f\"], [0.2222222222222222, \"#7201a8\"], [0.3333333333333333, \"#9c179e\"], [0.4444444444444444, \"#bd3786\"], [0.5555555555555556, \"#d8576b\"], [0.6666666666666666, \"#ed7953\"], [0.7777777777777778, \"#fb9f3a\"], [0.8888888888888888, \"#fdca26\"], [1.0, \"#f0f921\"]], \"type\": \"histogram2d\"}], \"histogram2dcontour\": [{\"colorbar\": {\"outlinewidth\": 0, \"ticks\": \"\"}, \"colorscale\": [[0.0, \"#0d0887\"], [0.1111111111111111, \"#46039f\"], [0.2222222222222222, \"#7201a8\"], [0.3333333333333333, \"#9c179e\"], [0.4444444444444444, \"#bd3786\"], [0.5555555555555556, \"#d8576b\"], [0.6666666666666666, \"#ed7953\"], [0.7777777777777778, \"#fb9f3a\"], [0.8888888888888888, \"#fdca26\"], [1.0, \"#f0f921\"]], \"type\": \"histogram2dcontour\"}], \"mesh3d\": [{\"colorbar\": {\"outlinewidth\": 0, \"ticks\": \"\"}, \"type\": \"mesh3d\"}], \"parcoords\": [{\"line\": {\"colorbar\": {\"outlinewidth\": 0, \"ticks\": \"\"}}, \"type\": \"parcoords\"}], \"pie\": [{\"automargin\": true, \"type\": \"pie\"}], \"scatter\": [{\"marker\": {\"colorbar\": {\"outlinewidth\": 0, \"ticks\": \"\"}}, \"type\": \"scatter\"}], \"scatter3d\": [{\"line\": {\"colorbar\": {\"outlinewidth\": 0, \"ticks\": \"\"}}, \"marker\": {\"colorbar\": {\"outlinewidth\": 0, \"ticks\": \"\"}}, \"type\": \"scatter3d\"}], \"scattercarpet\": [{\"marker\": {\"colorbar\": {\"outlinewidth\": 0, \"ticks\": \"\"}}, \"type\": \"scattercarpet\"}], \"scattergeo\": [{\"marker\": {\"colorbar\": {\"outlinewidth\": 0, \"ticks\": \"\"}}, \"type\": \"scattergeo\"}], \"scattergl\": [{\"marker\": {\"colorbar\": {\"outlinewidth\": 0, \"ticks\": \"\"}}, \"type\": \"scattergl\"}], \"scattermapbox\": [{\"marker\": {\"colorbar\": {\"outlinewidth\": 0, \"ticks\": \"\"}}, \"type\": \"scattermapbox\"}], \"scatterpolar\": [{\"marker\": {\"colorbar\": {\"outlinewidth\": 0, \"ticks\": \"\"}}, \"type\": \"scatterpolar\"}], \"scatterpolargl\": [{\"marker\": {\"colorbar\": {\"outlinewidth\": 0, \"ticks\": \"\"}}, \"type\": \"scatterpolargl\"}], \"scatterternary\": [{\"marker\": {\"colorbar\": {\"outlinewidth\": 0, \"ticks\": \"\"}}, \"type\": \"scatterternary\"}], \"surface\": [{\"colorbar\": {\"outlinewidth\": 0, \"ticks\": \"\"}, \"colorscale\": [[0.0, \"#0d0887\"], [0.1111111111111111, \"#46039f\"], [0.2222222222222222, \"#7201a8\"], [0.3333333333333333, \"#9c179e\"], [0.4444444444444444, \"#bd3786\"], [0.5555555555555556, \"#d8576b\"], [0.6666666666666666, \"#ed7953\"], [0.7777777777777778, \"#fb9f3a\"], [0.8888888888888888, \"#fdca26\"], [1.0, \"#f0f921\"]], \"type\": \"surface\"}], \"table\": [{\"cells\": {\"fill\": {\"color\": \"#EBF0F8\"}, \"line\": {\"color\": \"white\"}}, \"header\": {\"fill\": {\"color\": \"#C8D4E3\"}, \"line\": {\"color\": \"white\"}}, \"type\": \"table\"}]}, \"layout\": {\"annotationdefaults\": {\"arrowcolor\": \"#2a3f5f\", \"arrowhead\": 0, \"arrowwidth\": 1}, \"coloraxis\": {\"colorbar\": {\"outlinewidth\": 0, \"ticks\": \"\"}}, \"colorscale\": {\"diverging\": [[0, \"#8e0152\"], [0.1, \"#c51b7d\"], [0.2, \"#de77ae\"], [0.3, \"#f1b6da\"], [0.4, \"#fde0ef\"], [0.5, \"#f7f7f7\"], [0.6, \"#e6f5d0\"], [0.7, \"#b8e186\"], [0.8, \"#7fbc41\"], [0.9, \"#4d9221\"], [1, \"#276419\"]], \"sequential\": [[0.0, \"#0d0887\"], [0.1111111111111111, \"#46039f\"], [0.2222222222222222, \"#7201a8\"], [0.3333333333333333, \"#9c179e\"], [0.4444444444444444, \"#bd3786\"], [0.5555555555555556, \"#d8576b\"], [0.6666666666666666, \"#ed7953\"], [0.7777777777777778, \"#fb9f3a\"], [0.8888888888888888, \"#fdca26\"], [1.0, \"#f0f921\"]], \"sequentialminus\": [[0.0, \"#0d0887\"], [0.1111111111111111, \"#46039f\"], [0.2222222222222222, \"#7201a8\"], [0.3333333333333333, \"#9c179e\"], [0.4444444444444444, \"#bd3786\"], [0.5555555555555556, \"#d8576b\"], [0.6666666666666666, \"#ed7953\"], [0.7777777777777778, \"#fb9f3a\"], [0.8888888888888888, \"#fdca26\"], [1.0, \"#f0f921\"]]}, \"colorway\": [\"#636efa\", \"#EF553B\", \"#00cc96\", \"#ab63fa\", \"#FFA15A\", \"#19d3f3\", \"#FF6692\", \"#B6E880\", \"#FF97FF\", \"#FECB52\"], \"font\": {\"color\": \"#2a3f5f\"}, \"geo\": {\"bgcolor\": \"white\", \"lakecolor\": \"white\", \"landcolor\": \"#E5ECF6\", \"showlakes\": true, \"showland\": true, \"subunitcolor\": \"white\"}, \"hoverlabel\": {\"align\": \"left\"}, \"hovermode\": \"closest\", \"mapbox\": {\"style\": \"light\"}, \"paper_bgcolor\": \"white\", \"plot_bgcolor\": \"#E5ECF6\", \"polar\": {\"angularaxis\": {\"gridcolor\": \"white\", \"linecolor\": \"white\", \"ticks\": \"\"}, \"bgcolor\": \"#E5ECF6\", \"radialaxis\": {\"gridcolor\": \"white\", \"linecolor\": \"white\", \"ticks\": \"\"}}, \"scene\": {\"xaxis\": {\"backgroundcolor\": \"#E5ECF6\", \"gridcolor\": \"white\", \"gridwidth\": 2, \"linecolor\": \"white\", \"showbackground\": true, \"ticks\": \"\", \"zerolinecolor\": \"white\"}, \"yaxis\": {\"backgroundcolor\": \"#E5ECF6\", \"gridcolor\": \"white\", \"gridwidth\": 2, \"linecolor\": \"white\", \"showbackground\": true, \"ticks\": \"\", \"zerolinecolor\": \"white\"}, \"zaxis\": {\"backgroundcolor\": \"#E5ECF6\", \"gridcolor\": \"white\", \"gridwidth\": 2, \"linecolor\": \"white\", \"showbackground\": true, \"ticks\": \"\", \"zerolinecolor\": \"white\"}}, \"shapedefaults\": {\"line\": {\"color\": \"#2a3f5f\"}}, \"ternary\": {\"aaxis\": {\"gridcolor\": \"white\", \"linecolor\": \"white\", \"ticks\": \"\"}, \"baxis\": {\"gridcolor\": \"white\", \"linecolor\": \"white\", \"ticks\": \"\"}, \"bgcolor\": \"#E5ECF6\", \"caxis\": {\"gridcolor\": \"white\", \"linecolor\": \"white\", \"ticks\": \"\"}}, \"title\": {\"x\": 0.05}, \"xaxis\": {\"automargin\": true, \"gridcolor\": \"white\", \"linecolor\": \"white\", \"ticks\": \"\", \"title\": {\"standoff\": 15}, \"zerolinecolor\": \"white\", \"zerolinewidth\": 2}, \"yaxis\": {\"automargin\": true, \"gridcolor\": \"white\", \"linecolor\": \"white\", \"ticks\": \"\", \"title\": {\"standoff\": 15}, \"zerolinecolor\": \"white\", \"zerolinewidth\": 2}}}, \"title\": {\"text\": \"Empr\\u00e9stimos concedidos a clubes de empr\\u00e9stimos <br> (Uma perspectiva para as opera\\u00e7\\u00f5es comerciais)\"}},                        {\"responsive\": true}                    ).then(function(){\n",
       "                            \n",
       "var gd = document.getElementById('cbbd594c-103a-4696-9cd9-55baeeafe6e9');\n",
       "var x = new MutationObserver(function (mutations, observer) {{\n",
       "        var display = window.getComputedStyle(gd).display;\n",
       "        if (!display || display === 'none') {{\n",
       "            console.log([gd, 'removed!']);\n",
       "            Plotly.purge(gd);\n",
       "            observer.disconnect();\n",
       "        }}\n",
       "}});\n",
       "\n",
       "// Listen for the removal of the full notebook cells\n",
       "var notebookContainer = gd.closest('#notebook-container');\n",
       "if (notebookContainer) {{\n",
       "    x.observe(notebookContainer, {childList: true});\n",
       "}}\n",
       "\n",
       "// Listen for the clearing of the current output cell\n",
       "var outputEl = gd.closest('.output');\n",
       "if (outputEl) {{\n",
       "    x.observe(outputEl, {childList: true});\n",
       "}}\n",
       "\n",
       "                        })                };                });            </script>        </div>"
      ]
     },
     "metadata": {},
     "output_type": "display_data"
    }
   ],
   "source": [
    "for col in metrics_df.columns:\n",
    "    metrics_df[col] = metrics_df[col].astype(str)\n",
    "    \n",
    "scl = [[0.0, 'rgb(210, 241, 198)'],[0.2, 'rgb(188, 236, 169)'],[0.4, 'rgb(171, 235, 145)'],\\\n",
    "            [0.6, 'rgb(140, 227, 105)'],[0.8, 'rgb(105, 201, 67)'],[1.0, 'rgb(59, 159, 19)']]\n",
    "\n",
    "metrics_df['text'] = metrics_df['UF_estados'] + '<br>' +\\\n",
    "'Taxa média de juros de empréstimos: ' + metrics_df['taxa_inter'] + '<br>'+\\\n",
    "'Renda anual média: ' + metrics_df['anual_incom'] \n",
    "\n",
    "\n",
    "data = [ dict(\n",
    "        type='choropleth',\n",
    "        colorscale = scl,\n",
    "        autocolorscale = False,\n",
    "        locations = metrics_df['UF_estados'],\n",
    "        z = metrics_df['emp_emitidos'], \n",
    "        locationmode = 'USA-states',\n",
    "        text = metrics_df['text'],\n",
    "        marker = dict(\n",
    "            line = dict (\n",
    "                color = 'rgb(255,255,255)',\n",
    "                width = 2\n",
    "            ) ),\n",
    "        colorbar = dict(\n",
    "            title = \"$s USD\")\n",
    "        ) ]\n",
    "\n",
    "\n",
    "layout = dict(\n",
    "    title = 'Empréstimos concedidos a clubes de empréstimos <br> (Uma perspectiva para as operações comerciais)',\n",
    "    geo = dict(\n",
    "        scope = 'usa',\n",
    "        projection=dict(type='albers usa'),\n",
    "        #showlakes = True,\n",
    "        #lakecolor = 'rgb(255, 255, 255)'   # Aparecer os Lagos\n",
    "    )\n",
    ")\n",
    "\n",
    "fig = dict(data=data, layout=layout)\n",
    "iplot(fig, filename='d3-cloropleth-map')"
   ]
  },
  {
   "cell_type": "markdown",
   "metadata": {},
   "source": [
    "### Vericando valores NaN no Dataset\n",
    "\n",
    "Verificando quais colunas tem valores nulos e quantos são. Com estes valores, foram retiradas as colunas com 50\\% (por volta de 124096) valores não numéricos."
   ]
  },
  {
   "cell_type": "code",
   "execution_count": 35,
   "metadata": {},
   "outputs": [
    {
     "name": "stdout",
     "output_type": "stream",
     "text": [
      "id\n",
      "248196\n",
      "\n",
      "\n",
      "member_id\n",
      "248196\n",
      "\n",
      "\n",
      "url\n",
      "248196\n",
      "\n",
      "\n",
      "desc\n",
      "248175\n",
      "\n",
      "\n",
      "mths_since_last_major_derog\n",
      "240217\n",
      "\n",
      "\n",
      "annual_inc_joint\n",
      "245594\n",
      "\n",
      "\n",
      "dti_joint\n",
      "245594\n",
      "\n",
      "\n",
      "verification_status_joint\n",
      "245622\n",
      "\n",
      "\n",
      "mths_since_recent_bc_dlq\n",
      "241542\n",
      "\n",
      "\n",
      "revol_bal_joint\n",
      "245811\n",
      "\n",
      "\n",
      "sec_app_earliest_cr_line\n",
      "245811\n",
      "\n",
      "\n",
      "sec_app_inq_last_6mths\n",
      "245811\n",
      "\n",
      "\n",
      "sec_app_mort_acc\n",
      "245811\n",
      "\n",
      "\n",
      "sec_app_open_acc\n",
      "245811\n",
      "\n",
      "\n",
      "sec_app_revol_util\n",
      "245868\n",
      "\n",
      "\n",
      "sec_app_open_act_il\n",
      "245811\n",
      "\n",
      "\n",
      "sec_app_num_rev_accts\n",
      "245811\n",
      "\n",
      "\n",
      "sec_app_chargeoff_within_12_mths\n",
      "245811\n",
      "\n",
      "\n",
      "sec_app_collections_12_mths_ex_med\n",
      "245811\n",
      "\n",
      "\n",
      "sec_app_mths_since_last_major_derog\n",
      "247178\n",
      "\n",
      "\n",
      "hardship_type\n",
      "246328\n",
      "\n",
      "\n",
      "hardship_reason\n",
      "246328\n",
      "\n",
      "\n",
      "hardship_status\n",
      "246328\n",
      "\n",
      "\n",
      "deferral_term\n",
      "246328\n",
      "\n",
      "\n",
      "hardship_amount\n",
      "246328\n",
      "\n",
      "\n",
      "hardship_start_date\n",
      "246328\n",
      "\n",
      "\n",
      "hardship_end_date\n",
      "246328\n",
      "\n",
      "\n",
      "payment_plan_start_date\n",
      "246328\n",
      "\n",
      "\n",
      "hardship_length\n",
      "246328\n",
      "\n",
      "\n",
      "hardship_dpd\n",
      "246328\n",
      "\n",
      "\n",
      "hardship_loan_status\n",
      "246328\n",
      "\n",
      "\n",
      "orig_projected_additional_accrued_interest\n",
      "246525\n",
      "\n",
      "\n",
      "hardship_payoff_balance_amount\n",
      "246328\n",
      "\n",
      "\n",
      "hardship_last_payment_amount\n",
      "246328\n",
      "\n",
      "\n",
      "debt_settlement_flag_date\n",
      "247170\n",
      "\n",
      "\n",
      "settlement_status\n",
      "247170\n",
      "\n",
      "\n",
      "settlement_date\n",
      "247170\n",
      "\n",
      "\n",
      "settlement_amount\n",
      "247170\n",
      "\n",
      "\n",
      "settlement_percentage\n",
      "247170\n",
      "\n",
      "\n",
      "settlement_term\n",
      "247170\n",
      "\n",
      "\n",
      "Quantidade de colunas com mais de 240k NaN - 40\n"
     ]
    }
   ],
   "source": [
    "colunas = raw_data.columns\n",
    "\n",
    "count = 0\n",
    "for col in colunas:\n",
    "    if (raw_data[str(col)].isnull().sum()>=240000):\n",
    "        print(str(col))\n",
    "        print(raw_data[str(col)].isnull().sum())\n",
    "        print('\\n')\n",
    "        count=count+1\n",
    "        \n",
    "print('Quantidade de colunas com mais de 240k NaN -',count)"
   ]
  },
  {
   "cell_type": "code",
   "execution_count": 36,
   "metadata": {
    "scrolled": true
   },
   "outputs": [
    {
     "data": {
      "text/html": [
       "<div>\n",
       "<style scoped>\n",
       "    .dataframe tbody tr th:only-of-type {\n",
       "        vertical-align: middle;\n",
       "    }\n",
       "\n",
       "    .dataframe tbody tr th {\n",
       "        vertical-align: top;\n",
       "    }\n",
       "\n",
       "    .dataframe thead th {\n",
       "        text-align: right;\n",
       "    }\n",
       "</style>\n",
       "<table border=\"1\" class=\"dataframe\">\n",
       "  <thead>\n",
       "    <tr style=\"text-align: right;\">\n",
       "      <th></th>\n",
       "      <th>Quantidade</th>\n",
       "      <th>Porcentagem</th>\n",
       "    </tr>\n",
       "  </thead>\n",
       "  <tbody>\n",
       "    <tr>\n",
       "      <th>id</th>\n",
       "      <td>248196</td>\n",
       "      <td>100.000000</td>\n",
       "    </tr>\n",
       "    <tr>\n",
       "      <th>member_id</th>\n",
       "      <td>248196</td>\n",
       "      <td>100.000000</td>\n",
       "    </tr>\n",
       "    <tr>\n",
       "      <th>url</th>\n",
       "      <td>248196</td>\n",
       "      <td>100.000000</td>\n",
       "    </tr>\n",
       "    <tr>\n",
       "      <th>desc</th>\n",
       "      <td>248175</td>\n",
       "      <td>99.991539</td>\n",
       "    </tr>\n",
       "    <tr>\n",
       "      <th>sec_app_mths_since_last_major_derog</th>\n",
       "      <td>247178</td>\n",
       "      <td>99.589840</td>\n",
       "    </tr>\n",
       "    <tr>\n",
       "      <th>settlement_percentage</th>\n",
       "      <td>247170</td>\n",
       "      <td>99.586617</td>\n",
       "    </tr>\n",
       "    <tr>\n",
       "      <th>settlement_amount</th>\n",
       "      <td>247170</td>\n",
       "      <td>99.586617</td>\n",
       "    </tr>\n",
       "    <tr>\n",
       "      <th>settlement_date</th>\n",
       "      <td>247170</td>\n",
       "      <td>99.586617</td>\n",
       "    </tr>\n",
       "    <tr>\n",
       "      <th>settlement_status</th>\n",
       "      <td>247170</td>\n",
       "      <td>99.586617</td>\n",
       "    </tr>\n",
       "    <tr>\n",
       "      <th>debt_settlement_flag_date</th>\n",
       "      <td>247170</td>\n",
       "      <td>99.586617</td>\n",
       "    </tr>\n",
       "    <tr>\n",
       "      <th>settlement_term</th>\n",
       "      <td>247170</td>\n",
       "      <td>99.586617</td>\n",
       "    </tr>\n",
       "    <tr>\n",
       "      <th>orig_projected_additional_accrued_interest</th>\n",
       "      <td>246525</td>\n",
       "      <td>99.326742</td>\n",
       "    </tr>\n",
       "    <tr>\n",
       "      <th>hardship_status</th>\n",
       "      <td>246328</td>\n",
       "      <td>99.247369</td>\n",
       "    </tr>\n",
       "    <tr>\n",
       "      <th>hardship_type</th>\n",
       "      <td>246328</td>\n",
       "      <td>99.247369</td>\n",
       "    </tr>\n",
       "    <tr>\n",
       "      <th>hardship_last_payment_amount</th>\n",
       "      <td>246328</td>\n",
       "      <td>99.247369</td>\n",
       "    </tr>\n",
       "    <tr>\n",
       "      <th>hardship_payoff_balance_amount</th>\n",
       "      <td>246328</td>\n",
       "      <td>99.247369</td>\n",
       "    </tr>\n",
       "    <tr>\n",
       "      <th>hardship_loan_status</th>\n",
       "      <td>246328</td>\n",
       "      <td>99.247369</td>\n",
       "    </tr>\n",
       "    <tr>\n",
       "      <th>hardship_dpd</th>\n",
       "      <td>246328</td>\n",
       "      <td>99.247369</td>\n",
       "    </tr>\n",
       "    <tr>\n",
       "      <th>hardship_length</th>\n",
       "      <td>246328</td>\n",
       "      <td>99.247369</td>\n",
       "    </tr>\n",
       "    <tr>\n",
       "      <th>payment_plan_start_date</th>\n",
       "      <td>246328</td>\n",
       "      <td>99.247369</td>\n",
       "    </tr>\n",
       "    <tr>\n",
       "      <th>hardship_end_date</th>\n",
       "      <td>246328</td>\n",
       "      <td>99.247369</td>\n",
       "    </tr>\n",
       "    <tr>\n",
       "      <th>hardship_start_date</th>\n",
       "      <td>246328</td>\n",
       "      <td>99.247369</td>\n",
       "    </tr>\n",
       "    <tr>\n",
       "      <th>hardship_amount</th>\n",
       "      <td>246328</td>\n",
       "      <td>99.247369</td>\n",
       "    </tr>\n",
       "    <tr>\n",
       "      <th>deferral_term</th>\n",
       "      <td>246328</td>\n",
       "      <td>99.247369</td>\n",
       "    </tr>\n",
       "    <tr>\n",
       "      <th>hardship_reason</th>\n",
       "      <td>246328</td>\n",
       "      <td>99.247369</td>\n",
       "    </tr>\n",
       "    <tr>\n",
       "      <th>sec_app_revol_util</th>\n",
       "      <td>245868</td>\n",
       "      <td>99.062032</td>\n",
       "    </tr>\n",
       "    <tr>\n",
       "      <th>sec_app_chargeoff_within_12_mths</th>\n",
       "      <td>245811</td>\n",
       "      <td>99.039066</td>\n",
       "    </tr>\n",
       "    <tr>\n",
       "      <th>sec_app_earliest_cr_line</th>\n",
       "      <td>245811</td>\n",
       "      <td>99.039066</td>\n",
       "    </tr>\n",
       "    <tr>\n",
       "      <th>revol_bal_joint</th>\n",
       "      <td>245811</td>\n",
       "      <td>99.039066</td>\n",
       "    </tr>\n",
       "    <tr>\n",
       "      <th>sec_app_collections_12_mths_ex_med</th>\n",
       "      <td>245811</td>\n",
       "      <td>99.039066</td>\n",
       "    </tr>\n",
       "    <tr>\n",
       "      <th>sec_app_num_rev_accts</th>\n",
       "      <td>245811</td>\n",
       "      <td>99.039066</td>\n",
       "    </tr>\n",
       "    <tr>\n",
       "      <th>sec_app_open_act_il</th>\n",
       "      <td>245811</td>\n",
       "      <td>99.039066</td>\n",
       "    </tr>\n",
       "    <tr>\n",
       "      <th>sec_app_open_acc</th>\n",
       "      <td>245811</td>\n",
       "      <td>99.039066</td>\n",
       "    </tr>\n",
       "    <tr>\n",
       "      <th>sec_app_mort_acc</th>\n",
       "      <td>245811</td>\n",
       "      <td>99.039066</td>\n",
       "    </tr>\n",
       "    <tr>\n",
       "      <th>sec_app_inq_last_6mths</th>\n",
       "      <td>245811</td>\n",
       "      <td>99.039066</td>\n",
       "    </tr>\n",
       "    <tr>\n",
       "      <th>verification_status_joint</th>\n",
       "      <td>245622</td>\n",
       "      <td>98.962916</td>\n",
       "    </tr>\n",
       "    <tr>\n",
       "      <th>annual_inc_joint</th>\n",
       "      <td>245594</td>\n",
       "      <td>98.951635</td>\n",
       "    </tr>\n",
       "    <tr>\n",
       "      <th>dti_joint</th>\n",
       "      <td>245594</td>\n",
       "      <td>98.951635</td>\n",
       "    </tr>\n",
       "    <tr>\n",
       "      <th>mths_since_recent_bc_dlq</th>\n",
       "      <td>241542</td>\n",
       "      <td>97.319054</td>\n",
       "    </tr>\n",
       "    <tr>\n",
       "      <th>mths_since_last_major_derog</th>\n",
       "      <td>240217</td>\n",
       "      <td>96.785202</td>\n",
       "    </tr>\n",
       "    <tr>\n",
       "      <th>mths_since_recent_revol_delinq</th>\n",
       "      <td>238917</td>\n",
       "      <td>96.261422</td>\n",
       "    </tr>\n",
       "    <tr>\n",
       "      <th>mths_since_last_delinq</th>\n",
       "      <td>234498</td>\n",
       "      <td>94.480975</td>\n",
       "    </tr>\n",
       "    <tr>\n",
       "      <th>mths_since_last_record</th>\n",
       "      <td>20977</td>\n",
       "      <td>8.451788</td>\n",
       "    </tr>\n",
       "    <tr>\n",
       "      <th>il_util</th>\n",
       "      <td>5548</td>\n",
       "      <td>2.235330</td>\n",
       "    </tr>\n",
       "    <tr>\n",
       "      <th>mths_since_rcnt_il</th>\n",
       "      <td>2970</td>\n",
       "      <td>1.196635</td>\n",
       "    </tr>\n",
       "    <tr>\n",
       "      <th>emp_title</th>\n",
       "      <td>2529</td>\n",
       "      <td>1.018953</td>\n",
       "    </tr>\n",
       "  </tbody>\n",
       "</table>\n",
       "</div>"
      ],
      "text/plain": [
       "                                            Quantidade  Porcentagem\n",
       "id                                              248196   100.000000\n",
       "member_id                                       248196   100.000000\n",
       "url                                             248196   100.000000\n",
       "desc                                            248175    99.991539\n",
       "sec_app_mths_since_last_major_derog             247178    99.589840\n",
       "settlement_percentage                           247170    99.586617\n",
       "settlement_amount                               247170    99.586617\n",
       "settlement_date                                 247170    99.586617\n",
       "settlement_status                               247170    99.586617\n",
       "debt_settlement_flag_date                       247170    99.586617\n",
       "settlement_term                                 247170    99.586617\n",
       "orig_projected_additional_accrued_interest      246525    99.326742\n",
       "hardship_status                                 246328    99.247369\n",
       "hardship_type                                   246328    99.247369\n",
       "hardship_last_payment_amount                    246328    99.247369\n",
       "hardship_payoff_balance_amount                  246328    99.247369\n",
       "hardship_loan_status                            246328    99.247369\n",
       "hardship_dpd                                    246328    99.247369\n",
       "hardship_length                                 246328    99.247369\n",
       "payment_plan_start_date                         246328    99.247369\n",
       "hardship_end_date                               246328    99.247369\n",
       "hardship_start_date                             246328    99.247369\n",
       "hardship_amount                                 246328    99.247369\n",
       "deferral_term                                   246328    99.247369\n",
       "hardship_reason                                 246328    99.247369\n",
       "sec_app_revol_util                              245868    99.062032\n",
       "sec_app_chargeoff_within_12_mths                245811    99.039066\n",
       "sec_app_earliest_cr_line                        245811    99.039066\n",
       "revol_bal_joint                                 245811    99.039066\n",
       "sec_app_collections_12_mths_ex_med              245811    99.039066\n",
       "sec_app_num_rev_accts                           245811    99.039066\n",
       "sec_app_open_act_il                             245811    99.039066\n",
       "sec_app_open_acc                                245811    99.039066\n",
       "sec_app_mort_acc                                245811    99.039066\n",
       "sec_app_inq_last_6mths                          245811    99.039066\n",
       "verification_status_joint                       245622    98.962916\n",
       "annual_inc_joint                                245594    98.951635\n",
       "dti_joint                                       245594    98.951635\n",
       "mths_since_recent_bc_dlq                        241542    97.319054\n",
       "mths_since_last_major_derog                     240217    96.785202\n",
       "mths_since_recent_revol_delinq                  238917    96.261422\n",
       "mths_since_last_delinq                          234498    94.480975\n",
       "mths_since_last_record                           20977     8.451788\n",
       "il_util                                           5548     2.235330\n",
       "mths_since_rcnt_il                                2970     1.196635\n",
       "emp_title                                         2529     1.018953"
      ]
     },
     "execution_count": 36,
     "metadata": {},
     "output_type": "execute_result"
    }
   ],
   "source": [
    "df_null = pd.DataFrame({'Quantidade': raw_data.isnull().sum(), 'Porcentagem': 100*raw_data.isnull().sum()/len(raw_data)})\n",
    "\n",
    "# gerando apenas com valores acima de 0\n",
    "df_null[df_null['Porcentagem'] > 1].sort_values('Porcentagem',ascending=False)"
   ]
  },
  {
   "cell_type": "markdown",
   "metadata": {},
   "source": [
    "Com base nas colunas que possuem muitos valores nulos (NaN), a celula a seguir retira as colunas que possuem, **pelo menos a metade** dos valores NaN, o que retirou 42 colunas. "
   ]
  },
  {
   "cell_type": "code",
   "execution_count": 37,
   "metadata": {},
   "outputs": [],
   "source": [
    "df_no_null = raw_data.dropna(axis=1,thresh=(0.5*len(raw_data)))"
   ]
  },
  {
   "cell_type": "code",
   "execution_count": 38,
   "metadata": {},
   "outputs": [
    {
     "name": "stdout",
     "output_type": "stream",
     "text": [
      "<class 'pandas.core.frame.DataFrame'>\n",
      "RangeIndex: 248196 entries, 0 to 248195\n",
      "Columns: 103 entries, loan_amnt to debt_settlement_flag\n",
      "dtypes: float64(37), int64(43), object(23)\n",
      "memory usage: 195.0+ MB\n"
     ]
    }
   ],
   "source": [
    "df_no_null.info()"
   ]
  },
  {
   "cell_type": "markdown",
   "metadata": {},
   "source": [
    "A celula a seguir construirá a coluna Target, ou seja, vai agrupar os valores de **\"loan_status\"**, que são *late* e *Default* como 1's e *Current* como 0. "
   ]
  },
  {
   "cell_type": "code",
   "execution_count": 39,
   "metadata": {},
   "outputs": [],
   "source": [
    "loan_status_data = df_no_null.copy()\n",
    "\n",
    "def troca_valores(row):\n",
    "    if((row['loan_status']=='Default')|(row['loan_status']=='Late (31-120 days)')|(row['loan_status']=='Late (16-30 days)')):\n",
    "        return 1\n",
    "    else:\n",
    "        return 0\n",
    "    \n",
    "loan_status_data['loan_status'] = loan_status_data.apply(troca_valores,axis=1)"
   ]
  },
  {
   "cell_type": "code",
   "execution_count": 40,
   "metadata": {},
   "outputs": [
    {
     "data": {
      "text/plain": [
       "0    222531\n",
       "1     25665\n",
       "Name: loan_status, dtype: int64"
      ]
     },
     "execution_count": 40,
     "metadata": {},
     "output_type": "execute_result"
    }
   ],
   "source": [
    "loan_status_data['loan_status'].value_counts()"
   ]
  },
  {
   "cell_type": "code",
   "execution_count": 41,
   "metadata": {},
   "outputs": [
    {
     "data": {
      "text/plain": [
       "array(['loan_amnt', 'funded_amnt', 'funded_amnt_inv', 'term', 'int_rate',\n",
       "       'installment', 'grade', 'sub_grade', 'emp_title', 'emp_length',\n",
       "       'home_ownership', 'annual_inc', 'verification_status', 'issue_d',\n",
       "       'loan_status', 'pymnt_plan', 'purpose', 'title', 'zip_code',\n",
       "       'addr_state', 'dti', 'delinq_2yrs', 'earliest_cr_line',\n",
       "       'inq_last_6mths', 'mths_since_last_record', 'open_acc', 'pub_rec',\n",
       "       'revol_bal', 'revol_util', 'total_acc', 'initial_list_status',\n",
       "       'out_prncp', 'out_prncp_inv', 'total_pymnt', 'total_pymnt_inv',\n",
       "       'total_rec_prncp', 'total_rec_int', 'total_rec_late_fee',\n",
       "       'recoveries', 'collection_recovery_fee', 'last_pymnt_d',\n",
       "       'last_pymnt_amnt', 'next_pymnt_d', 'last_credit_pull_d',\n",
       "       'collections_12_mths_ex_med', 'policy_code', 'application_type',\n",
       "       'acc_now_delinq', 'tot_coll_amt', 'tot_cur_bal', 'open_acc_6m',\n",
       "       'open_act_il', 'open_il_12m', 'open_il_24m', 'mths_since_rcnt_il',\n",
       "       'total_bal_il', 'il_util', 'open_rv_12m', 'open_rv_24m',\n",
       "       'max_bal_bc', 'all_util', 'total_rev_hi_lim', 'inq_fi',\n",
       "       'total_cu_tl', 'inq_last_12m', 'acc_open_past_24mths',\n",
       "       'avg_cur_bal', 'bc_open_to_buy', 'bc_util',\n",
       "       'chargeoff_within_12_mths', 'delinq_amnt', 'mo_sin_old_il_acct',\n",
       "       'mo_sin_old_rev_tl_op', 'mo_sin_rcnt_rev_tl_op', 'mo_sin_rcnt_tl',\n",
       "       'mort_acc', 'mths_since_recent_bc', 'mths_since_recent_inq',\n",
       "       'num_accts_ever_120_pd', 'num_actv_bc_tl', 'num_actv_rev_tl',\n",
       "       'num_bc_sats', 'num_bc_tl', 'num_il_tl', 'num_op_rev_tl',\n",
       "       'num_rev_accts', 'num_rev_tl_bal_gt_0', 'num_sats',\n",
       "       'num_tl_120dpd_2m', 'num_tl_30dpd', 'num_tl_90g_dpd_24m',\n",
       "       'num_tl_op_past_12m', 'pct_tl_nvr_dlq', 'percent_bc_gt_75',\n",
       "       'pub_rec_bankruptcies', 'tax_liens', 'tot_hi_cred_lim',\n",
       "       'total_bal_ex_mort', 'total_bc_limit',\n",
       "       'total_il_high_credit_limit', 'hardship_flag',\n",
       "       'disbursement_method', 'debt_settlement_flag'], dtype=object)"
      ]
     },
     "execution_count": 41,
     "metadata": {},
     "output_type": "execute_result"
    }
   ],
   "source": [
    "loan_status_data.columns.values"
   ]
  },
  {
   "cell_type": "code",
   "execution_count": 42,
   "metadata": {},
   "outputs": [],
   "source": [
    "loan_status_data = loan_status_data[['loan_status','loan_amnt', 'funded_amnt', 'funded_amnt_inv', 'term', 'int_rate',\n",
    "       'installment', 'grade', 'sub_grade', 'emp_title', 'emp_length',\n",
    "       'home_ownership', 'annual_inc', 'verification_status', 'issue_d', \n",
    "       'pymnt_plan', 'purpose', 'title', 'zip_code',\n",
    "       'addr_state', 'dti', 'delinq_2yrs', 'earliest_cr_line',\n",
    "       'inq_last_6mths', 'mths_since_last_record', 'open_acc', 'pub_rec',\n",
    "       'revol_bal', 'revol_util', 'total_acc', 'initial_list_status',\n",
    "       'out_prncp', 'out_prncp_inv', 'total_pymnt', 'total_pymnt_inv',\n",
    "       'total_rec_prncp', 'total_rec_int', 'total_rec_late_fee',\n",
    "       'recoveries', 'collection_recovery_fee', 'last_pymnt_d',\n",
    "       'last_pymnt_amnt', 'next_pymnt_d', 'last_credit_pull_d',\n",
    "       'collections_12_mths_ex_med', 'policy_code', 'application_type',\n",
    "       'acc_now_delinq', 'tot_coll_amt', 'tot_cur_bal', 'open_acc_6m',\n",
    "       'open_act_il', 'open_il_12m', 'open_il_24m', 'mths_since_rcnt_il',\n",
    "       'total_bal_il', 'il_util', 'open_rv_12m', 'open_rv_24m',\n",
    "       'max_bal_bc', 'all_util', 'total_rev_hi_lim', 'inq_fi',\n",
    "       'total_cu_tl', 'inq_last_12m', 'acc_open_past_24mths',\n",
    "       'avg_cur_bal', 'bc_open_to_buy', 'bc_util',\n",
    "       'chargeoff_within_12_mths', 'delinq_amnt', 'mo_sin_old_il_acct',\n",
    "       'mo_sin_old_rev_tl_op', 'mo_sin_rcnt_rev_tl_op', 'mo_sin_rcnt_tl',\n",
    "       'mort_acc', 'mths_since_recent_bc', 'mths_since_recent_inq',\n",
    "       'num_accts_ever_120_pd', 'num_actv_bc_tl', 'num_actv_rev_tl',\n",
    "       'num_bc_sats', 'num_bc_tl', 'num_il_tl', 'num_op_rev_tl',\n",
    "       'num_rev_accts', 'num_rev_tl_bal_gt_0', 'num_sats',\n",
    "       'num_tl_120dpd_2m', 'num_tl_30dpd', 'num_tl_90g_dpd_24m',\n",
    "       'num_tl_op_past_12m', 'pct_tl_nvr_dlq', 'percent_bc_gt_75',\n",
    "       'pub_rec_bankruptcies', 'tax_liens', 'tot_hi_cred_lim',\n",
    "       'total_bal_ex_mort', 'total_bc_limit',\n",
    "       'total_il_high_credit_limit', 'hardship_flag',\n",
    "       'disbursement_method', 'debt_settlement_flag']]"
   ]
  },
  {
   "cell_type": "markdown",
   "metadata": {},
   "source": [
    "Depois de ter organizado **\"loan_status_data\"** de forma que a primeira coluna seja o nosso alvo (*loan_status*), a seguir será verificado a correlação das variáveis."
   ]
  },
  {
   "cell_type": "code",
   "execution_count": 43,
   "metadata": {},
   "outputs": [],
   "source": [
    "correl = loan_status_data.corr()"
   ]
  },
  {
   "cell_type": "code",
   "execution_count": 44,
   "metadata": {},
   "outputs": [
    {
     "name": "stdout",
     "output_type": "stream",
     "text": [
      "<class 'pandas.core.frame.DataFrame'>\n",
      "Index: 81 entries, loan_status to total_il_high_credit_limit\n",
      "Data columns (total 81 columns):\n",
      " #   Column                      Non-Null Count  Dtype  \n",
      "---  ------                      --------------  -----  \n",
      " 0   loan_status                 78 non-null     float64\n",
      " 1   loan_amnt                   78 non-null     float64\n",
      " 2   funded_amnt                 78 non-null     float64\n",
      " 3   funded_amnt_inv             78 non-null     float64\n",
      " 4   int_rate                    78 non-null     float64\n",
      " 5   installment                 78 non-null     float64\n",
      " 6   annual_inc                  78 non-null     float64\n",
      " 7   dti                         78 non-null     float64\n",
      " 8   delinq_2yrs                 78 non-null     float64\n",
      " 9   inq_last_6mths              78 non-null     float64\n",
      " 10  mths_since_last_record      78 non-null     float64\n",
      " 11  open_acc                    78 non-null     float64\n",
      " 12  pub_rec                     78 non-null     float64\n",
      " 13  revol_bal                   78 non-null     float64\n",
      " 14  revol_util                  78 non-null     float64\n",
      " 15  total_acc                   78 non-null     float64\n",
      " 16  out_prncp                   78 non-null     float64\n",
      " 17  out_prncp_inv               78 non-null     float64\n",
      " 18  total_pymnt                 78 non-null     float64\n",
      " 19  total_pymnt_inv             78 non-null     float64\n",
      " 20  total_rec_prncp             78 non-null     float64\n",
      " 21  total_rec_int               78 non-null     float64\n",
      " 22  total_rec_late_fee          78 non-null     float64\n",
      " 23  recoveries                  0 non-null      float64\n",
      " 24  collection_recovery_fee     0 non-null      float64\n",
      " 25  last_pymnt_amnt             78 non-null     float64\n",
      " 26  collections_12_mths_ex_med  78 non-null     float64\n",
      " 27  policy_code                 0 non-null      float64\n",
      " 28  acc_now_delinq              78 non-null     float64\n",
      " 29  tot_coll_amt                78 non-null     float64\n",
      " 30  tot_cur_bal                 78 non-null     float64\n",
      " 31  open_acc_6m                 78 non-null     float64\n",
      " 32  open_act_il                 78 non-null     float64\n",
      " 33  open_il_12m                 78 non-null     float64\n",
      " 34  open_il_24m                 78 non-null     float64\n",
      " 35  mths_since_rcnt_il          78 non-null     float64\n",
      " 36  total_bal_il                78 non-null     float64\n",
      " 37  il_util                     78 non-null     float64\n",
      " 38  open_rv_12m                 78 non-null     float64\n",
      " 39  open_rv_24m                 78 non-null     float64\n",
      " 40  max_bal_bc                  78 non-null     float64\n",
      " 41  all_util                    78 non-null     float64\n",
      " 42  total_rev_hi_lim            78 non-null     float64\n",
      " 43  inq_fi                      78 non-null     float64\n",
      " 44  total_cu_tl                 78 non-null     float64\n",
      " 45  inq_last_12m                78 non-null     float64\n",
      " 46  acc_open_past_24mths        78 non-null     float64\n",
      " 47  avg_cur_bal                 78 non-null     float64\n",
      " 48  bc_open_to_buy              78 non-null     float64\n",
      " 49  bc_util                     78 non-null     float64\n",
      " 50  chargeoff_within_12_mths    78 non-null     float64\n",
      " 51  delinq_amnt                 78 non-null     float64\n",
      " 52  mo_sin_old_il_acct          78 non-null     float64\n",
      " 53  mo_sin_old_rev_tl_op        78 non-null     float64\n",
      " 54  mo_sin_rcnt_rev_tl_op       78 non-null     float64\n",
      " 55  mo_sin_rcnt_tl              78 non-null     float64\n",
      " 56  mort_acc                    78 non-null     float64\n",
      " 57  mths_since_recent_bc        78 non-null     float64\n",
      " 58  mths_since_recent_inq       78 non-null     float64\n",
      " 59  num_accts_ever_120_pd       78 non-null     float64\n",
      " 60  num_actv_bc_tl              78 non-null     float64\n",
      " 61  num_actv_rev_tl             78 non-null     float64\n",
      " 62  num_bc_sats                 78 non-null     float64\n",
      " 63  num_bc_tl                   78 non-null     float64\n",
      " 64  num_il_tl                   78 non-null     float64\n",
      " 65  num_op_rev_tl               78 non-null     float64\n",
      " 66  num_rev_accts               78 non-null     float64\n",
      " 67  num_rev_tl_bal_gt_0         78 non-null     float64\n",
      " 68  num_sats                    78 non-null     float64\n",
      " 69  num_tl_120dpd_2m            78 non-null     float64\n",
      " 70  num_tl_30dpd                78 non-null     float64\n",
      " 71  num_tl_90g_dpd_24m          78 non-null     float64\n",
      " 72  num_tl_op_past_12m          78 non-null     float64\n",
      " 73  pct_tl_nvr_dlq              78 non-null     float64\n",
      " 74  percent_bc_gt_75            78 non-null     float64\n",
      " 75  pub_rec_bankruptcies        78 non-null     float64\n",
      " 76  tax_liens                   78 non-null     float64\n",
      " 77  tot_hi_cred_lim             78 non-null     float64\n",
      " 78  total_bal_ex_mort           78 non-null     float64\n",
      " 79  total_bc_limit              78 non-null     float64\n",
      " 80  total_il_high_credit_limit  78 non-null     float64\n",
      "dtypes: float64(81)\n",
      "memory usage: 51.9+ KB\n"
     ]
    }
   ],
   "source": [
    "correl.info()"
   ]
  },
  {
   "cell_type": "code",
   "execution_count": 45,
   "metadata": {},
   "outputs": [
    {
     "data": {
      "text/html": [
       "<div>\n",
       "<style scoped>\n",
       "    .dataframe tbody tr th:only-of-type {\n",
       "        vertical-align: middle;\n",
       "    }\n",
       "\n",
       "    .dataframe tbody tr th {\n",
       "        vertical-align: top;\n",
       "    }\n",
       "\n",
       "    .dataframe thead th {\n",
       "        text-align: right;\n",
       "    }\n",
       "</style>\n",
       "<table border=\"1\" class=\"dataframe\">\n",
       "  <thead>\n",
       "    <tr style=\"text-align: right;\">\n",
       "      <th></th>\n",
       "      <th>loan_status</th>\n",
       "      <th>loan_amnt</th>\n",
       "      <th>funded_amnt</th>\n",
       "      <th>funded_amnt_inv</th>\n",
       "      <th>int_rate</th>\n",
       "      <th>installment</th>\n",
       "      <th>annual_inc</th>\n",
       "      <th>dti</th>\n",
       "      <th>delinq_2yrs</th>\n",
       "      <th>inq_last_6mths</th>\n",
       "      <th>...</th>\n",
       "      <th>num_tl_90g_dpd_24m</th>\n",
       "      <th>num_tl_op_past_12m</th>\n",
       "      <th>pct_tl_nvr_dlq</th>\n",
       "      <th>percent_bc_gt_75</th>\n",
       "      <th>pub_rec_bankruptcies</th>\n",
       "      <th>tax_liens</th>\n",
       "      <th>tot_hi_cred_lim</th>\n",
       "      <th>total_bal_ex_mort</th>\n",
       "      <th>total_bc_limit</th>\n",
       "      <th>total_il_high_credit_limit</th>\n",
       "    </tr>\n",
       "  </thead>\n",
       "  <tbody>\n",
       "    <tr>\n",
       "      <th>loan_status</th>\n",
       "      <td>1.000000</td>\n",
       "      <td>0.813327</td>\n",
       "      <td>0.813327</td>\n",
       "      <td>0.813282</td>\n",
       "      <td>0.351156</td>\n",
       "      <td>0.805909</td>\n",
       "      <td>0.224480</td>\n",
       "      <td>0.095287</td>\n",
       "      <td>0.336904</td>\n",
       "      <td>-0.366057</td>\n",
       "      <td>...</td>\n",
       "      <td>0.163518</td>\n",
       "      <td>-0.295766</td>\n",
       "      <td>-0.548961</td>\n",
       "      <td>0.738871</td>\n",
       "      <td>-0.900890</td>\n",
       "      <td>0.106489</td>\n",
       "      <td>0.493527</td>\n",
       "      <td>0.545521</td>\n",
       "      <td>-0.592170</td>\n",
       "      <td>0.484949</td>\n",
       "    </tr>\n",
       "    <tr>\n",
       "      <th>loan_amnt</th>\n",
       "      <td>0.813327</td>\n",
       "      <td>1.000000</td>\n",
       "      <td>1.000000</td>\n",
       "      <td>0.999998</td>\n",
       "      <td>0.344292</td>\n",
       "      <td>0.977496</td>\n",
       "      <td>0.319093</td>\n",
       "      <td>0.086821</td>\n",
       "      <td>0.280669</td>\n",
       "      <td>-0.303721</td>\n",
       "      <td>...</td>\n",
       "      <td>0.125337</td>\n",
       "      <td>-0.249402</td>\n",
       "      <td>-0.421842</td>\n",
       "      <td>0.601170</td>\n",
       "      <td>-0.745703</td>\n",
       "      <td>0.093542</td>\n",
       "      <td>0.553579</td>\n",
       "      <td>0.566396</td>\n",
       "      <td>-0.332416</td>\n",
       "      <td>0.502732</td>\n",
       "    </tr>\n",
       "    <tr>\n",
       "      <th>funded_amnt</th>\n",
       "      <td>0.813327</td>\n",
       "      <td>1.000000</td>\n",
       "      <td>1.000000</td>\n",
       "      <td>0.999998</td>\n",
       "      <td>0.344292</td>\n",
       "      <td>0.977496</td>\n",
       "      <td>0.319093</td>\n",
       "      <td>0.086821</td>\n",
       "      <td>0.280669</td>\n",
       "      <td>-0.303721</td>\n",
       "      <td>...</td>\n",
       "      <td>0.125337</td>\n",
       "      <td>-0.249402</td>\n",
       "      <td>-0.421842</td>\n",
       "      <td>0.601170</td>\n",
       "      <td>-0.745703</td>\n",
       "      <td>0.093542</td>\n",
       "      <td>0.553579</td>\n",
       "      <td>0.566396</td>\n",
       "      <td>-0.332416</td>\n",
       "      <td>0.502732</td>\n",
       "    </tr>\n",
       "    <tr>\n",
       "      <th>funded_amnt_inv</th>\n",
       "      <td>0.813282</td>\n",
       "      <td>0.999998</td>\n",
       "      <td>0.999998</td>\n",
       "      <td>1.000000</td>\n",
       "      <td>0.344316</td>\n",
       "      <td>0.977462</td>\n",
       "      <td>0.319104</td>\n",
       "      <td>0.086800</td>\n",
       "      <td>0.280641</td>\n",
       "      <td>-0.303733</td>\n",
       "      <td>...</td>\n",
       "      <td>0.125327</td>\n",
       "      <td>-0.249401</td>\n",
       "      <td>-0.421811</td>\n",
       "      <td>0.601115</td>\n",
       "      <td>-0.745674</td>\n",
       "      <td>0.093542</td>\n",
       "      <td>0.553584</td>\n",
       "      <td>0.566372</td>\n",
       "      <td>-0.332377</td>\n",
       "      <td>0.502710</td>\n",
       "    </tr>\n",
       "    <tr>\n",
       "      <th>int_rate</th>\n",
       "      <td>0.351156</td>\n",
       "      <td>0.344292</td>\n",
       "      <td>0.344292</td>\n",
       "      <td>0.344316</td>\n",
       "      <td>1.000000</td>\n",
       "      <td>0.382373</td>\n",
       "      <td>0.033122</td>\n",
       "      <td>0.122893</td>\n",
       "      <td>0.138279</td>\n",
       "      <td>-0.021792</td>\n",
       "      <td>...</td>\n",
       "      <td>0.075394</td>\n",
       "      <td>0.008351</td>\n",
       "      <td>-0.222090</td>\n",
       "      <td>0.364984</td>\n",
       "      <td>-0.304901</td>\n",
       "      <td>0.028677</td>\n",
       "      <td>0.116097</td>\n",
       "      <td>0.215894</td>\n",
       "      <td>-0.323645</td>\n",
       "      <td>0.194689</td>\n",
       "    </tr>\n",
       "  </tbody>\n",
       "</table>\n",
       "<p>5 rows × 81 columns</p>\n",
       "</div>"
      ],
      "text/plain": [
       "                 loan_status  loan_amnt  funded_amnt  funded_amnt_inv  \\\n",
       "loan_status         1.000000   0.813327     0.813327         0.813282   \n",
       "loan_amnt           0.813327   1.000000     1.000000         0.999998   \n",
       "funded_amnt         0.813327   1.000000     1.000000         0.999998   \n",
       "funded_amnt_inv     0.813282   0.999998     0.999998         1.000000   \n",
       "int_rate            0.351156   0.344292     0.344292         0.344316   \n",
       "\n",
       "                 int_rate  installment  annual_inc       dti  delinq_2yrs  \\\n",
       "loan_status      0.351156     0.805909    0.224480  0.095287     0.336904   \n",
       "loan_amnt        0.344292     0.977496    0.319093  0.086821     0.280669   \n",
       "funded_amnt      0.344292     0.977496    0.319093  0.086821     0.280669   \n",
       "funded_amnt_inv  0.344316     0.977462    0.319104  0.086800     0.280641   \n",
       "int_rate         1.000000     0.382373    0.033122  0.122893     0.138279   \n",
       "\n",
       "                 inq_last_6mths  ...  num_tl_90g_dpd_24m  num_tl_op_past_12m  \\\n",
       "loan_status           -0.366057  ...            0.163518           -0.295766   \n",
       "loan_amnt             -0.303721  ...            0.125337           -0.249402   \n",
       "funded_amnt           -0.303721  ...            0.125337           -0.249402   \n",
       "funded_amnt_inv       -0.303733  ...            0.125327           -0.249401   \n",
       "int_rate              -0.021792  ...            0.075394            0.008351   \n",
       "\n",
       "                 pct_tl_nvr_dlq  percent_bc_gt_75  pub_rec_bankruptcies  \\\n",
       "loan_status           -0.548961          0.738871             -0.900890   \n",
       "loan_amnt             -0.421842          0.601170             -0.745703   \n",
       "funded_amnt           -0.421842          0.601170             -0.745703   \n",
       "funded_amnt_inv       -0.421811          0.601115             -0.745674   \n",
       "int_rate              -0.222090          0.364984             -0.304901   \n",
       "\n",
       "                 tax_liens  tot_hi_cred_lim  total_bal_ex_mort  \\\n",
       "loan_status       0.106489         0.493527           0.545521   \n",
       "loan_amnt         0.093542         0.553579           0.566396   \n",
       "funded_amnt       0.093542         0.553579           0.566396   \n",
       "funded_amnt_inv   0.093542         0.553584           0.566372   \n",
       "int_rate          0.028677         0.116097           0.215894   \n",
       "\n",
       "                 total_bc_limit  total_il_high_credit_limit  \n",
       "loan_status           -0.592170                    0.484949  \n",
       "loan_amnt             -0.332416                    0.502732  \n",
       "funded_amnt           -0.332416                    0.502732  \n",
       "funded_amnt_inv       -0.332377                    0.502710  \n",
       "int_rate              -0.323645                    0.194689  \n",
       "\n",
       "[5 rows x 81 columns]"
      ]
     },
     "execution_count": 45,
     "metadata": {},
     "output_type": "execute_result"
    }
   ],
   "source": [
    "correl.head()"
   ]
  },
  {
   "cell_type": "code",
   "execution_count": 46,
   "metadata": {
    "scrolled": true
   },
   "outputs": [
    {
     "data": {
      "text/plain": [
       "loan_status                1.000000\n",
       "bc_util                    0.860658\n",
       "revol_util                 0.832983\n",
       "all_util                   0.817412\n",
       "loan_amnt                  0.813327\n",
       "                             ...   \n",
       "pub_rec_bankruptcies      -0.900890\n",
       "total_cu_tl               -0.957672\n",
       "recoveries                      NaN\n",
       "collection_recovery_fee         NaN\n",
       "policy_code                     NaN\n",
       "Name: loan_status, Length: 81, dtype: float64"
      ]
     },
     "execution_count": 46,
     "metadata": {},
     "output_type": "execute_result"
    }
   ],
   "source": [
    "correl['loan_status'].sort_values(ascending=False)"
   ]
  },
  {
   "cell_type": "code",
   "execution_count": 47,
   "metadata": {},
   "outputs": [
    {
     "data": {
      "text/plain": [
       "Index(['recoveries', 'collection_recovery_fee', 'policy_code'], dtype='object')"
      ]
     },
     "execution_count": 47,
     "metadata": {},
     "output_type": "execute_result"
    }
   ],
   "source": [
    "correl[correl['loan_status'].isnull()].index"
   ]
  },
  {
   "cell_type": "code",
   "execution_count": 48,
   "metadata": {},
   "outputs": [
    {
     "data": {
      "text/plain": [
       "Index(['int_rate', 'annual_inc', 'dti', 'delinq_2yrs', 'inq_last_6mths',\n",
       "       'open_acc', 'total_rec_late_fee', 'collections_12_mths_ex_med',\n",
       "       'acc_now_delinq', 'tot_coll_amt', 'open_act_il', 'open_il_12m',\n",
       "       'open_il_24m', 'il_util', 'open_rv_12m', 'total_rev_hi_lim', 'inq_fi',\n",
       "       'inq_last_12m', 'chargeoff_within_12_mths', 'delinq_amnt',\n",
       "       'mo_sin_old_il_acct', 'mo_sin_old_rev_tl_op', 'num_accts_ever_120_pd',\n",
       "       'num_actv_rev_tl', 'num_op_rev_tl', 'num_rev_tl_bal_gt_0', 'num_sats',\n",
       "       'num_tl_120dpd_2m', 'num_tl_30dpd', 'num_tl_90g_dpd_24m',\n",
       "       'num_tl_op_past_12m', 'tax_liens'],\n",
       "      dtype='object')"
      ]
     },
     "execution_count": 48,
     "metadata": {},
     "output_type": "execute_result"
    }
   ],
   "source": [
    "correl[(correl['loan_status']>=-0.4) & (correl['loan_status']<=0.4)].index"
   ]
  },
  {
   "cell_type": "code",
   "execution_count": 49,
   "metadata": {},
   "outputs": [],
   "source": [
    "loan_corr = loan_status_data.drop(['recoveries','collection_recovery_fee','policy_code','int_rate', 'annual_inc', \n",
    "                                   'dti', 'delinq_2yrs', 'inq_last_6mths',\n",
    "       'open_acc', 'total_rec_late_fee', 'collections_12_mths_ex_med',\n",
    "       'acc_now_delinq', 'tot_coll_amt', 'open_act_il', 'open_il_12m',\n",
    "       'open_il_24m', 'il_util', 'open_rv_12m', 'total_rev_hi_lim', 'inq_fi',\n",
    "       'inq_last_12m', 'chargeoff_within_12_mths', 'delinq_amnt',\n",
    "       'mo_sin_old_il_acct', 'mo_sin_old_rev_tl_op', 'num_accts_ever_120_pd',\n",
    "       'num_actv_rev_tl', 'num_op_rev_tl', 'num_rev_tl_bal_gt_0', 'num_sats',\n",
    "       'num_tl_120dpd_2m', 'num_tl_30dpd', 'num_tl_90g_dpd_24m',\n",
    "       'num_tl_op_past_12m', 'tax_liens'],axis=1)"
   ]
  },
  {
   "cell_type": "code",
   "execution_count": 50,
   "metadata": {},
   "outputs": [],
   "source": [
    "correl_2 = loan_corr.corr()"
   ]
  },
  {
   "cell_type": "code",
   "execution_count": 51,
   "metadata": {},
   "outputs": [
    {
     "data": {
      "text/plain": [
       "Index(['loan_status', 'loan_amnt', 'funded_amnt', 'funded_amnt_inv',\n",
       "       'installment', 'mths_since_last_record', 'pub_rec', 'revol_bal',\n",
       "       'revol_util', 'total_acc', 'out_prncp', 'out_prncp_inv', 'total_pymnt',\n",
       "       'total_pymnt_inv', 'total_rec_prncp', 'total_rec_int',\n",
       "       'last_pymnt_amnt', 'tot_cur_bal', 'open_acc_6m', 'mths_since_rcnt_il',\n",
       "       'total_bal_il', 'open_rv_24m', 'max_bal_bc', 'all_util', 'total_cu_tl',\n",
       "       'acc_open_past_24mths', 'avg_cur_bal', 'bc_open_to_buy', 'bc_util',\n",
       "       'mo_sin_rcnt_rev_tl_op', 'mo_sin_rcnt_tl', 'mort_acc',\n",
       "       'mths_since_recent_bc', 'mths_since_recent_inq', 'num_actv_bc_tl',\n",
       "       'num_bc_sats', 'num_bc_tl', 'num_il_tl', 'num_rev_accts',\n",
       "       'pct_tl_nvr_dlq', 'percent_bc_gt_75', 'pub_rec_bankruptcies',\n",
       "       'tot_hi_cred_lim', 'total_bal_ex_mort', 'total_bc_limit',\n",
       "       'total_il_high_credit_limit'],\n",
       "      dtype='object')"
      ]
     },
     "execution_count": 51,
     "metadata": {},
     "output_type": "execute_result"
    }
   ],
   "source": [
    "colunas = correl_2.index\n",
    "colunas"
   ]
  },
  {
   "cell_type": "code",
   "execution_count": 52,
   "metadata": {},
   "outputs": [],
   "source": [
    "################################ CORRELAÇÃO DAS VARIÁVEIS\n",
    "\n",
    "#correl = mel_semImp[['Rooms','Price','Distance','Bathroom','Car','Landsize','BuildingArea','Propertycount','Age']]\n",
    "\n",
    "# plt.figure(figsize=(12,8))\n",
    "# sns.heatmap(correl_2,annot=True,cmap='coolwarm',linewidths=1,xticklabels=['loan_status'])"
   ]
  },
  {
   "cell_type": "code",
   "execution_count": 53,
   "metadata": {},
   "outputs": [],
   "source": [
    "df_machine = loan_corr[colunas].copy()"
   ]
  },
  {
   "cell_type": "code",
   "execution_count": 54,
   "metadata": {},
   "outputs": [
    {
     "name": "stdout",
     "output_type": "stream",
     "text": [
      "<class 'pandas.core.frame.DataFrame'>\n",
      "RangeIndex: 248196 entries, 0 to 248195\n",
      "Data columns (total 46 columns):\n",
      " #   Column                      Non-Null Count   Dtype  \n",
      "---  ------                      --------------   -----  \n",
      " 0   loan_status                 248196 non-null  int64  \n",
      " 1   loan_amnt                   248196 non-null  int64  \n",
      " 2   funded_amnt                 248196 non-null  int64  \n",
      " 3   funded_amnt_inv             248196 non-null  int64  \n",
      " 4   installment                 248196 non-null  float64\n",
      " 5   mths_since_last_record      227219 non-null  float64\n",
      " 6   pub_rec                     248196 non-null  int64  \n",
      " 7   revol_bal                   248196 non-null  int64  \n",
      " 8   revol_util                  248155 non-null  float64\n",
      " 9   total_acc                   248196 non-null  int64  \n",
      " 10  out_prncp                   248196 non-null  float64\n",
      " 11  out_prncp_inv               248196 non-null  float64\n",
      " 12  total_pymnt                 248196 non-null  float64\n",
      " 13  total_pymnt_inv             248196 non-null  float64\n",
      " 14  total_rec_prncp             248196 non-null  float64\n",
      " 15  total_rec_int               248196 non-null  float64\n",
      " 16  last_pymnt_amnt             248196 non-null  float64\n",
      " 17  tot_cur_bal                 248196 non-null  int64  \n",
      " 18  open_acc_6m                 246090 non-null  float64\n",
      " 19  mths_since_rcnt_il          245226 non-null  float64\n",
      " 20  total_bal_il                246090 non-null  float64\n",
      " 21  open_rv_24m                 246090 non-null  float64\n",
      " 22  max_bal_bc                  246090 non-null  float64\n",
      " 23  all_util                    246085 non-null  float64\n",
      " 24  total_cu_tl                 246090 non-null  float64\n",
      " 25  acc_open_past_24mths        248196 non-null  int64  \n",
      " 26  avg_cur_bal                 248194 non-null  float64\n",
      " 27  bc_open_to_buy              247806 non-null  float64\n",
      " 28  bc_util                     247789 non-null  float64\n",
      " 29  mo_sin_rcnt_rev_tl_op       248196 non-null  int64  \n",
      " 30  mo_sin_rcnt_tl              248196 non-null  int64  \n",
      " 31  mort_acc                    248196 non-null  int64  \n",
      " 32  mths_since_recent_bc        247827 non-null  float64\n",
      " 33  mths_since_recent_inq       246066 non-null  float64\n",
      " 34  num_actv_bc_tl              248196 non-null  int64  \n",
      " 35  num_bc_sats                 248196 non-null  int64  \n",
      " 36  num_bc_tl                   248196 non-null  int64  \n",
      " 37  num_il_tl                   248196 non-null  int64  \n",
      " 38  num_rev_accts               248196 non-null  int64  \n",
      " 39  pct_tl_nvr_dlq              248196 non-null  float64\n",
      " 40  percent_bc_gt_75            247803 non-null  float64\n",
      " 41  pub_rec_bankruptcies        248196 non-null  int64  \n",
      " 42  tot_hi_cred_lim             248196 non-null  int64  \n",
      " 43  total_bal_ex_mort           248196 non-null  int64  \n",
      " 44  total_bc_limit              248196 non-null  int64  \n",
      " 45  total_il_high_credit_limit  248196 non-null  int64  \n",
      "dtypes: float64(24), int64(22)\n",
      "memory usage: 87.1 MB\n"
     ]
    }
   ],
   "source": [
    "df_machine.info()"
   ]
  },
  {
   "cell_type": "code",
   "execution_count": 55,
   "metadata": {},
   "outputs": [
    {
     "data": {
      "text/html": [
       "<div>\n",
       "<style scoped>\n",
       "    .dataframe tbody tr th:only-of-type {\n",
       "        vertical-align: middle;\n",
       "    }\n",
       "\n",
       "    .dataframe tbody tr th {\n",
       "        vertical-align: top;\n",
       "    }\n",
       "\n",
       "    .dataframe thead th {\n",
       "        text-align: right;\n",
       "    }\n",
       "</style>\n",
       "<table border=\"1\" class=\"dataframe\">\n",
       "  <thead>\n",
       "    <tr style=\"text-align: right;\">\n",
       "      <th></th>\n",
       "      <th>loan_status</th>\n",
       "      <th>loan_amnt</th>\n",
       "      <th>funded_amnt</th>\n",
       "      <th>funded_amnt_inv</th>\n",
       "      <th>installment</th>\n",
       "      <th>mths_since_last_record</th>\n",
       "      <th>pub_rec</th>\n",
       "      <th>revol_bal</th>\n",
       "      <th>revol_util</th>\n",
       "      <th>total_acc</th>\n",
       "      <th>...</th>\n",
       "      <th>num_bc_tl</th>\n",
       "      <th>num_il_tl</th>\n",
       "      <th>num_rev_accts</th>\n",
       "      <th>pct_tl_nvr_dlq</th>\n",
       "      <th>percent_bc_gt_75</th>\n",
       "      <th>pub_rec_bankruptcies</th>\n",
       "      <th>tot_hi_cred_lim</th>\n",
       "      <th>total_bal_ex_mort</th>\n",
       "      <th>total_bc_limit</th>\n",
       "      <th>total_il_high_credit_limit</th>\n",
       "    </tr>\n",
       "  </thead>\n",
       "  <tbody>\n",
       "    <tr>\n",
       "      <th>0</th>\n",
       "      <td>1</td>\n",
       "      <td>20975</td>\n",
       "      <td>20975</td>\n",
       "      <td>20975</td>\n",
       "      <td>659.13</td>\n",
       "      <td>NaN</td>\n",
       "      <td>0</td>\n",
       "      <td>4210</td>\n",
       "      <td>16.6</td>\n",
       "      <td>21</td>\n",
       "      <td>...</td>\n",
       "      <td>5</td>\n",
       "      <td>4</td>\n",
       "      <td>13</td>\n",
       "      <td>100.0</td>\n",
       "      <td>0.0</td>\n",
       "      <td>0</td>\n",
       "      <td>378104</td>\n",
       "      <td>111136</td>\n",
       "      <td>7500</td>\n",
       "      <td>85932</td>\n",
       "    </tr>\n",
       "    <tr>\n",
       "      <th>1</th>\n",
       "      <td>1</td>\n",
       "      <td>20000</td>\n",
       "      <td>20000</td>\n",
       "      <td>20000</td>\n",
       "      <td>662.38</td>\n",
       "      <td>NaN</td>\n",
       "      <td>0</td>\n",
       "      <td>16576</td>\n",
       "      <td>13.9</td>\n",
       "      <td>26</td>\n",
       "      <td>...</td>\n",
       "      <td>15</td>\n",
       "      <td>2</td>\n",
       "      <td>24</td>\n",
       "      <td>100.0</td>\n",
       "      <td>0.0</td>\n",
       "      <td>0</td>\n",
       "      <td>164900</td>\n",
       "      <td>65731</td>\n",
       "      <td>91200</td>\n",
       "      <td>45500</td>\n",
       "    </tr>\n",
       "    <tr>\n",
       "      <th>2</th>\n",
       "      <td>1</td>\n",
       "      <td>9100</td>\n",
       "      <td>9100</td>\n",
       "      <td>9100</td>\n",
       "      <td>368.15</td>\n",
       "      <td>NaN</td>\n",
       "      <td>0</td>\n",
       "      <td>4165</td>\n",
       "      <td>12.1</td>\n",
       "      <td>23</td>\n",
       "      <td>...</td>\n",
       "      <td>13</td>\n",
       "      <td>4</td>\n",
       "      <td>18</td>\n",
       "      <td>95.5</td>\n",
       "      <td>0.0</td>\n",
       "      <td>0</td>\n",
       "      <td>67696</td>\n",
       "      <td>32619</td>\n",
       "      <td>34500</td>\n",
       "      <td>33196</td>\n",
       "    </tr>\n",
       "    <tr>\n",
       "      <th>3</th>\n",
       "      <td>1</td>\n",
       "      <td>3525</td>\n",
       "      <td>3525</td>\n",
       "      <td>3525</td>\n",
       "      <td>140.79</td>\n",
       "      <td>NaN</td>\n",
       "      <td>0</td>\n",
       "      <td>8591</td>\n",
       "      <td>31.1</td>\n",
       "      <td>15</td>\n",
       "      <td>...</td>\n",
       "      <td>6</td>\n",
       "      <td>7</td>\n",
       "      <td>8</td>\n",
       "      <td>92.3</td>\n",
       "      <td>0.0</td>\n",
       "      <td>0</td>\n",
       "      <td>99054</td>\n",
       "      <td>77123</td>\n",
       "      <td>24000</td>\n",
       "      <td>71454</td>\n",
       "    </tr>\n",
       "    <tr>\n",
       "      <th>4</th>\n",
       "      <td>1</td>\n",
       "      <td>11500</td>\n",
       "      <td>11500</td>\n",
       "      <td>11500</td>\n",
       "      <td>390.59</td>\n",
       "      <td>NaN</td>\n",
       "      <td>0</td>\n",
       "      <td>2600</td>\n",
       "      <td>20.0</td>\n",
       "      <td>12</td>\n",
       "      <td>...</td>\n",
       "      <td>1</td>\n",
       "      <td>1</td>\n",
       "      <td>10</td>\n",
       "      <td>91.7</td>\n",
       "      <td>NaN</td>\n",
       "      <td>0</td>\n",
       "      <td>13000</td>\n",
       "      <td>2600</td>\n",
       "      <td>0</td>\n",
       "      <td>0</td>\n",
       "    </tr>\n",
       "    <tr>\n",
       "      <th>...</th>\n",
       "      <td>...</td>\n",
       "      <td>...</td>\n",
       "      <td>...</td>\n",
       "      <td>...</td>\n",
       "      <td>...</td>\n",
       "      <td>...</td>\n",
       "      <td>...</td>\n",
       "      <td>...</td>\n",
       "      <td>...</td>\n",
       "      <td>...</td>\n",
       "      <td>...</td>\n",
       "      <td>...</td>\n",
       "      <td>...</td>\n",
       "      <td>...</td>\n",
       "      <td>...</td>\n",
       "      <td>...</td>\n",
       "      <td>...</td>\n",
       "      <td>...</td>\n",
       "      <td>...</td>\n",
       "      <td>...</td>\n",
       "      <td>...</td>\n",
       "    </tr>\n",
       "    <tr>\n",
       "      <th>248191</th>\n",
       "      <td>0</td>\n",
       "      <td>2500</td>\n",
       "      <td>2500</td>\n",
       "      <td>2500</td>\n",
       "      <td>84.92</td>\n",
       "      <td>45.0</td>\n",
       "      <td>1</td>\n",
       "      <td>4341</td>\n",
       "      <td>10.3</td>\n",
       "      <td>34</td>\n",
       "      <td>...</td>\n",
       "      <td>3</td>\n",
       "      <td>16</td>\n",
       "      <td>18</td>\n",
       "      <td>100.0</td>\n",
       "      <td>0.0</td>\n",
       "      <td>1</td>\n",
       "      <td>60124</td>\n",
       "      <td>16901</td>\n",
       "      <td>36500</td>\n",
       "      <td>18124</td>\n",
       "    </tr>\n",
       "    <tr>\n",
       "      <th>248192</th>\n",
       "      <td>0</td>\n",
       "      <td>2500</td>\n",
       "      <td>2500</td>\n",
       "      <td>2500</td>\n",
       "      <td>84.92</td>\n",
       "      <td>45.0</td>\n",
       "      <td>1</td>\n",
       "      <td>4341</td>\n",
       "      <td>10.3</td>\n",
       "      <td>34</td>\n",
       "      <td>...</td>\n",
       "      <td>3</td>\n",
       "      <td>16</td>\n",
       "      <td>18</td>\n",
       "      <td>100.0</td>\n",
       "      <td>0.0</td>\n",
       "      <td>1</td>\n",
       "      <td>60124</td>\n",
       "      <td>16901</td>\n",
       "      <td>36500</td>\n",
       "      <td>18124</td>\n",
       "    </tr>\n",
       "    <tr>\n",
       "      <th>248193</th>\n",
       "      <td>0</td>\n",
       "      <td>2500</td>\n",
       "      <td>2500</td>\n",
       "      <td>2500</td>\n",
       "      <td>84.92</td>\n",
       "      <td>45.0</td>\n",
       "      <td>1</td>\n",
       "      <td>4341</td>\n",
       "      <td>10.3</td>\n",
       "      <td>34</td>\n",
       "      <td>...</td>\n",
       "      <td>3</td>\n",
       "      <td>16</td>\n",
       "      <td>18</td>\n",
       "      <td>100.0</td>\n",
       "      <td>0.0</td>\n",
       "      <td>1</td>\n",
       "      <td>60124</td>\n",
       "      <td>16901</td>\n",
       "      <td>36500</td>\n",
       "      <td>18124</td>\n",
       "    </tr>\n",
       "    <tr>\n",
       "      <th>248194</th>\n",
       "      <td>0</td>\n",
       "      <td>2500</td>\n",
       "      <td>2500</td>\n",
       "      <td>2500</td>\n",
       "      <td>84.92</td>\n",
       "      <td>45.0</td>\n",
       "      <td>1</td>\n",
       "      <td>4341</td>\n",
       "      <td>10.3</td>\n",
       "      <td>34</td>\n",
       "      <td>...</td>\n",
       "      <td>3</td>\n",
       "      <td>16</td>\n",
       "      <td>18</td>\n",
       "      <td>100.0</td>\n",
       "      <td>0.0</td>\n",
       "      <td>1</td>\n",
       "      <td>60124</td>\n",
       "      <td>16901</td>\n",
       "      <td>36500</td>\n",
       "      <td>18124</td>\n",
       "    </tr>\n",
       "    <tr>\n",
       "      <th>248195</th>\n",
       "      <td>0</td>\n",
       "      <td>2500</td>\n",
       "      <td>2500</td>\n",
       "      <td>2500</td>\n",
       "      <td>84.92</td>\n",
       "      <td>45.0</td>\n",
       "      <td>1</td>\n",
       "      <td>4341</td>\n",
       "      <td>10.3</td>\n",
       "      <td>34</td>\n",
       "      <td>...</td>\n",
       "      <td>3</td>\n",
       "      <td>16</td>\n",
       "      <td>18</td>\n",
       "      <td>100.0</td>\n",
       "      <td>0.0</td>\n",
       "      <td>1</td>\n",
       "      <td>60124</td>\n",
       "      <td>16901</td>\n",
       "      <td>36500</td>\n",
       "      <td>18124</td>\n",
       "    </tr>\n",
       "  </tbody>\n",
       "</table>\n",
       "<p>248196 rows × 46 columns</p>\n",
       "</div>"
      ],
      "text/plain": [
       "        loan_status  loan_amnt  funded_amnt  funded_amnt_inv  installment  \\\n",
       "0                 1      20975        20975            20975       659.13   \n",
       "1                 1      20000        20000            20000       662.38   \n",
       "2                 1       9100         9100             9100       368.15   \n",
       "3                 1       3525         3525             3525       140.79   \n",
       "4                 1      11500        11500            11500       390.59   \n",
       "...             ...        ...          ...              ...          ...   \n",
       "248191            0       2500         2500             2500        84.92   \n",
       "248192            0       2500         2500             2500        84.92   \n",
       "248193            0       2500         2500             2500        84.92   \n",
       "248194            0       2500         2500             2500        84.92   \n",
       "248195            0       2500         2500             2500        84.92   \n",
       "\n",
       "        mths_since_last_record  pub_rec  revol_bal  revol_util  total_acc  \\\n",
       "0                          NaN        0       4210        16.6         21   \n",
       "1                          NaN        0      16576        13.9         26   \n",
       "2                          NaN        0       4165        12.1         23   \n",
       "3                          NaN        0       8591        31.1         15   \n",
       "4                          NaN        0       2600        20.0         12   \n",
       "...                        ...      ...        ...         ...        ...   \n",
       "248191                    45.0        1       4341        10.3         34   \n",
       "248192                    45.0        1       4341        10.3         34   \n",
       "248193                    45.0        1       4341        10.3         34   \n",
       "248194                    45.0        1       4341        10.3         34   \n",
       "248195                    45.0        1       4341        10.3         34   \n",
       "\n",
       "        ...  num_bc_tl  num_il_tl  num_rev_accts  pct_tl_nvr_dlq  \\\n",
       "0       ...          5          4             13           100.0   \n",
       "1       ...         15          2             24           100.0   \n",
       "2       ...         13          4             18            95.5   \n",
       "3       ...          6          7              8            92.3   \n",
       "4       ...          1          1             10            91.7   \n",
       "...     ...        ...        ...            ...             ...   \n",
       "248191  ...          3         16             18           100.0   \n",
       "248192  ...          3         16             18           100.0   \n",
       "248193  ...          3         16             18           100.0   \n",
       "248194  ...          3         16             18           100.0   \n",
       "248195  ...          3         16             18           100.0   \n",
       "\n",
       "        percent_bc_gt_75  pub_rec_bankruptcies  tot_hi_cred_lim  \\\n",
       "0                    0.0                     0           378104   \n",
       "1                    0.0                     0           164900   \n",
       "2                    0.0                     0            67696   \n",
       "3                    0.0                     0            99054   \n",
       "4                    NaN                     0            13000   \n",
       "...                  ...                   ...              ...   \n",
       "248191               0.0                     1            60124   \n",
       "248192               0.0                     1            60124   \n",
       "248193               0.0                     1            60124   \n",
       "248194               0.0                     1            60124   \n",
       "248195               0.0                     1            60124   \n",
       "\n",
       "        total_bal_ex_mort  total_bc_limit  total_il_high_credit_limit  \n",
       "0                  111136            7500                       85932  \n",
       "1                   65731           91200                       45500  \n",
       "2                   32619           34500                       33196  \n",
       "3                   77123           24000                       71454  \n",
       "4                    2600               0                           0  \n",
       "...                   ...             ...                         ...  \n",
       "248191              16901           36500                       18124  \n",
       "248192              16901           36500                       18124  \n",
       "248193              16901           36500                       18124  \n",
       "248194              16901           36500                       18124  \n",
       "248195              16901           36500                       18124  \n",
       "\n",
       "[248196 rows x 46 columns]"
      ]
     },
     "execution_count": 55,
     "metadata": {},
     "output_type": "execute_result"
    }
   ],
   "source": [
    "df_machine"
   ]
  },
  {
   "cell_type": "markdown",
   "metadata": {},
   "source": [
    "Verificando quais as colunas ainda possuem valores NaN, assim como os valores de média e mediana dessas respectivas colunas, para que sejam escolhidos um dos dois valores para imputação dos NaN. Abaixo está também a descrição dessas variáveis, para que possa ser analisado se entra a média ou a mediana."
   ]
  },
  {
   "cell_type": "code",
   "execution_count": 56,
   "metadata": {},
   "outputs": [
    {
     "name": "stdout",
     "output_type": "stream",
     "text": [
      "mths_since_last_record\n",
      "Qtd: 20977\n",
      "Media: 45.55935463143487\n",
      "Mediana: 45.0\n",
      "\n",
      "\n",
      "revol_util\n",
      "Qtd: 41\n",
      "Media: 14.40857085289437\n",
      "Mediana: 10.3\n",
      "\n",
      "\n",
      "open_acc_6m\n",
      "Qtd: 2106\n",
      "Media: 1.9110041041895243\n",
      "Mediana: 2.0\n",
      "\n",
      "\n",
      "mths_since_rcnt_il\n",
      "Qtd: 2970\n",
      "Media: 3.6619730371167822\n",
      "Mediana: 2.0\n",
      "\n",
      "\n",
      "total_bal_il\n",
      "Qtd: 2106\n",
      "Media: 14837.106335080662\n",
      "Mediana: 12560.0\n",
      "\n",
      "\n",
      "open_rv_24m\n",
      "Qtd: 2106\n",
      "Media: 6.63160632289\n",
      "Mediana: 7.0\n",
      "\n",
      "\n",
      "max_bal_bc\n",
      "Qtd: 2106\n",
      "Media: 2426.8796009589987\n",
      "Mediana: 2137.0\n",
      "\n",
      "\n",
      "all_util\n",
      "Qtd: 2111\n",
      "Media: 31.007538045797183\n",
      "Mediana: 28.0\n",
      "\n",
      "\n",
      "total_cu_tl\n",
      "Qtd: 2106\n",
      "Media: 10.088366044942907\n",
      "Mediana: 11.0\n",
      "\n",
      "\n",
      "avg_cur_bal\n",
      "Qtd: 2\n",
      "Media: 2955.7156216508056\n",
      "Mediana: 1878.0\n",
      "\n",
      "\n",
      "bc_open_to_buy\n",
      "Qtd: 390\n",
      "Media: 31841.226221318288\n",
      "Mediana: 34360.0\n",
      "\n",
      "\n",
      "bc_util\n",
      "Qtd: 407\n",
      "Media: 11.167678549088128\n",
      "Mediana: 5.9\n",
      "\n",
      "\n",
      "mths_since_recent_bc\n",
      "Qtd: 369\n",
      "Media: 3.173209537298196\n",
      "Mediana: 1.0\n",
      "\n",
      "\n",
      "mths_since_recent_inq\n",
      "Qtd: 2130\n",
      "Media: 2.413120870010485\n",
      "Mediana: 2.0\n",
      "\n",
      "\n",
      "percent_bc_gt_75\n",
      "Qtd: 393\n",
      "Media: 4.312619298394289\n",
      "Mediana: 0.0\n",
      "\n",
      "\n",
      "Quantidade de colunas com NaN - 15\n"
     ]
    }
   ],
   "source": [
    "colu = df_machine.columns\n",
    "\n",
    "count = 0\n",
    "for col in colu:\n",
    "    if (df_machine[str(col)].isnull().sum()>0):\n",
    "        print(str(col))\n",
    "        print('Qtd:',df_machine[str(col)].isnull().sum())\n",
    "        print('Media:',df_machine[str(col)].mean())\n",
    "        print('Mediana:',df_machine[str(col)].median())\n",
    "        print('\\n')\n",
    "        count=count+1\n",
    "        \n",
    "print('Quantidade de colunas com NaN -',count)"
   ]
  },
  {
   "cell_type": "markdown",
   "metadata": {},
   "source": [
    "**mths_since_last_record** - O número de meses desde o último registro público;\n",
    "\n",
    "**revol_util** - Taxa de utilização da linha rotativa ou a quantidade de crédito que o mutuário está usando em relação a todo o crédito rotativo disponível;\n",
    "\n",
    "**open_acc_6m** - Número de negociações abertas nos últimos 6 meses;\n",
    "\n",
    "**mths_since_rcnt_il** - Meses desde a abertura das contas de parcelamento mais recentes;\n",
    "\n",
    "**total_bal_il** - Saldo atual total de todas as contas parceladas;\n",
    "\n",
    "**open_rv_24m** - Número de negociações rotativas abertas nos últimos 24 meses;\n",
    "\n",
    "**max_bal_bc** - Saldo atual máximo devido em todas as contas rotativas;\n",
    "\n",
    "**all_util** - Saldo ao limite de crédito em todas as negociações;\n",
    "\n",
    "**total_cu_tl** - Número de operações financeiras;\n",
    "\n",
    "**avg_cur_bal** - Saldo atual médio de todas as contas;\n",
    "\n",
    "**bc_open_to_buy** - Total aberto para compra em cartões bancários rotativos;\n",
    "\n",
    "**bc_util** - Proporção entre o saldo atual total e o limite de crédito / crédito alto para todas as contas de cartão bancário;\n",
    "\n",
    "**mths_since_recent_bc** - Meses desde a abertura da conta do cartão bancário mais recente;\n",
    "\n",
    "**mths_since_recent_inq** - Meses desde a consulta mais recente;\n",
    "\n",
    "**percent_bc_gt_75** - Porcentagem de todas as contas de cartão bancário >75% do limite."
   ]
  },
  {
   "cell_type": "code",
   "execution_count": 57,
   "metadata": {},
   "outputs": [],
   "source": [
    "df_machine['mths_since_last_record'].update(df_machine['mths_since_last_record'].fillna(\n",
    "    df_machine['mths_since_last_record'].median()))\n",
    "\n",
    "df_machine['revol_util'].update(df_machine['revol_util'].fillna(df_machine['revol_util'].mean()))\n",
    "df_machine['open_acc_6m'].update(df_machine['open_acc_6m'].fillna(df_machine['open_acc_6m'].median()))\n",
    "df_machine['mths_since_rcnt_il'].update(df_machine['mths_since_rcnt_il'].fillna(df_machine['mths_since_rcnt_il'].median()))\n",
    "df_machine['total_bal_il'].update(df_machine['total_bal_il'].fillna(df_machine['total_bal_il'].mean()))\n",
    "df_machine['open_rv_24m'].update(df_machine['open_rv_24m'].fillna(df_machine['open_rv_24m'].median()))\n",
    "\n",
    "df_machine['max_bal_bc'].update(df_machine['max_bal_bc'].fillna(df_machine['max_bal_bc'].mean()))\n",
    "df_machine['all_util'].update(df_machine['all_util'].fillna(df_machine['all_util'].mean()))\n",
    "df_machine['total_cu_tl'].update(df_machine['total_cu_tl'].fillna(df_machine['total_cu_tl'].median()))\n",
    "df_machine['avg_cur_bal'].update(df_machine['avg_cur_bal'].fillna(df_machine['avg_cur_bal'].median()))\n",
    "df_machine['bc_open_to_buy'].update(df_machine['bc_open_to_buy'].fillna(df_machine['bc_open_to_buy'].median()))\n",
    "\n",
    "df_machine['bc_util'].update(df_machine['bc_util'].fillna(df_machine['bc_util'].median()))\n",
    "df_machine['mths_since_recent_bc'].update(df_machine['mths_since_recent_bc'].fillna(\n",
    "    df_machine['mths_since_recent_bc'].median()))\n",
    "\n",
    "df_machine['mths_since_recent_inq'].update(df_machine['mths_since_recent_inq'].fillna(\n",
    "    df_machine['mths_since_recent_inq'].median()))\n",
    "\n",
    "df_machine['percent_bc_gt_75'].update(df_machine['percent_bc_gt_75'].fillna(df_machine['percent_bc_gt_75'].mean()))"
   ]
  },
  {
   "cell_type": "code",
   "execution_count": 58,
   "metadata": {},
   "outputs": [
    {
     "data": {
      "text/html": [
       "<div>\n",
       "<style scoped>\n",
       "    .dataframe tbody tr th:only-of-type {\n",
       "        vertical-align: middle;\n",
       "    }\n",
       "\n",
       "    .dataframe tbody tr th {\n",
       "        vertical-align: top;\n",
       "    }\n",
       "\n",
       "    .dataframe thead th {\n",
       "        text-align: right;\n",
       "    }\n",
       "</style>\n",
       "<table border=\"1\" class=\"dataframe\">\n",
       "  <thead>\n",
       "    <tr style=\"text-align: right;\">\n",
       "      <th></th>\n",
       "      <th>loan_status</th>\n",
       "      <th>loan_amnt</th>\n",
       "      <th>funded_amnt</th>\n",
       "      <th>funded_amnt_inv</th>\n",
       "      <th>installment</th>\n",
       "      <th>mths_since_last_record</th>\n",
       "      <th>pub_rec</th>\n",
       "      <th>revol_bal</th>\n",
       "      <th>revol_util</th>\n",
       "      <th>total_acc</th>\n",
       "      <th>...</th>\n",
       "      <th>num_bc_tl</th>\n",
       "      <th>num_il_tl</th>\n",
       "      <th>num_rev_accts</th>\n",
       "      <th>pct_tl_nvr_dlq</th>\n",
       "      <th>percent_bc_gt_75</th>\n",
       "      <th>pub_rec_bankruptcies</th>\n",
       "      <th>tot_hi_cred_lim</th>\n",
       "      <th>total_bal_ex_mort</th>\n",
       "      <th>total_bc_limit</th>\n",
       "      <th>total_il_high_credit_limit</th>\n",
       "    </tr>\n",
       "  </thead>\n",
       "  <tbody>\n",
       "    <tr>\n",
       "      <th>0</th>\n",
       "      <td>1</td>\n",
       "      <td>20975</td>\n",
       "      <td>20975</td>\n",
       "      <td>20975</td>\n",
       "      <td>659.13</td>\n",
       "      <td>45.0</td>\n",
       "      <td>0</td>\n",
       "      <td>4210</td>\n",
       "      <td>16.6</td>\n",
       "      <td>21</td>\n",
       "      <td>...</td>\n",
       "      <td>5</td>\n",
       "      <td>4</td>\n",
       "      <td>13</td>\n",
       "      <td>100.0</td>\n",
       "      <td>0.000000</td>\n",
       "      <td>0</td>\n",
       "      <td>378104</td>\n",
       "      <td>111136</td>\n",
       "      <td>7500</td>\n",
       "      <td>85932</td>\n",
       "    </tr>\n",
       "    <tr>\n",
       "      <th>1</th>\n",
       "      <td>1</td>\n",
       "      <td>20000</td>\n",
       "      <td>20000</td>\n",
       "      <td>20000</td>\n",
       "      <td>662.38</td>\n",
       "      <td>45.0</td>\n",
       "      <td>0</td>\n",
       "      <td>16576</td>\n",
       "      <td>13.9</td>\n",
       "      <td>26</td>\n",
       "      <td>...</td>\n",
       "      <td>15</td>\n",
       "      <td>2</td>\n",
       "      <td>24</td>\n",
       "      <td>100.0</td>\n",
       "      <td>0.000000</td>\n",
       "      <td>0</td>\n",
       "      <td>164900</td>\n",
       "      <td>65731</td>\n",
       "      <td>91200</td>\n",
       "      <td>45500</td>\n",
       "    </tr>\n",
       "    <tr>\n",
       "      <th>2</th>\n",
       "      <td>1</td>\n",
       "      <td>9100</td>\n",
       "      <td>9100</td>\n",
       "      <td>9100</td>\n",
       "      <td>368.15</td>\n",
       "      <td>45.0</td>\n",
       "      <td>0</td>\n",
       "      <td>4165</td>\n",
       "      <td>12.1</td>\n",
       "      <td>23</td>\n",
       "      <td>...</td>\n",
       "      <td>13</td>\n",
       "      <td>4</td>\n",
       "      <td>18</td>\n",
       "      <td>95.5</td>\n",
       "      <td>0.000000</td>\n",
       "      <td>0</td>\n",
       "      <td>67696</td>\n",
       "      <td>32619</td>\n",
       "      <td>34500</td>\n",
       "      <td>33196</td>\n",
       "    </tr>\n",
       "    <tr>\n",
       "      <th>3</th>\n",
       "      <td>1</td>\n",
       "      <td>3525</td>\n",
       "      <td>3525</td>\n",
       "      <td>3525</td>\n",
       "      <td>140.79</td>\n",
       "      <td>45.0</td>\n",
       "      <td>0</td>\n",
       "      <td>8591</td>\n",
       "      <td>31.1</td>\n",
       "      <td>15</td>\n",
       "      <td>...</td>\n",
       "      <td>6</td>\n",
       "      <td>7</td>\n",
       "      <td>8</td>\n",
       "      <td>92.3</td>\n",
       "      <td>0.000000</td>\n",
       "      <td>0</td>\n",
       "      <td>99054</td>\n",
       "      <td>77123</td>\n",
       "      <td>24000</td>\n",
       "      <td>71454</td>\n",
       "    </tr>\n",
       "    <tr>\n",
       "      <th>4</th>\n",
       "      <td>1</td>\n",
       "      <td>11500</td>\n",
       "      <td>11500</td>\n",
       "      <td>11500</td>\n",
       "      <td>390.59</td>\n",
       "      <td>45.0</td>\n",
       "      <td>0</td>\n",
       "      <td>2600</td>\n",
       "      <td>20.0</td>\n",
       "      <td>12</td>\n",
       "      <td>...</td>\n",
       "      <td>1</td>\n",
       "      <td>1</td>\n",
       "      <td>10</td>\n",
       "      <td>91.7</td>\n",
       "      <td>4.312619</td>\n",
       "      <td>0</td>\n",
       "      <td>13000</td>\n",
       "      <td>2600</td>\n",
       "      <td>0</td>\n",
       "      <td>0</td>\n",
       "    </tr>\n",
       "    <tr>\n",
       "      <th>...</th>\n",
       "      <td>...</td>\n",
       "      <td>...</td>\n",
       "      <td>...</td>\n",
       "      <td>...</td>\n",
       "      <td>...</td>\n",
       "      <td>...</td>\n",
       "      <td>...</td>\n",
       "      <td>...</td>\n",
       "      <td>...</td>\n",
       "      <td>...</td>\n",
       "      <td>...</td>\n",
       "      <td>...</td>\n",
       "      <td>...</td>\n",
       "      <td>...</td>\n",
       "      <td>...</td>\n",
       "      <td>...</td>\n",
       "      <td>...</td>\n",
       "      <td>...</td>\n",
       "      <td>...</td>\n",
       "      <td>...</td>\n",
       "      <td>...</td>\n",
       "    </tr>\n",
       "    <tr>\n",
       "      <th>248191</th>\n",
       "      <td>0</td>\n",
       "      <td>2500</td>\n",
       "      <td>2500</td>\n",
       "      <td>2500</td>\n",
       "      <td>84.92</td>\n",
       "      <td>45.0</td>\n",
       "      <td>1</td>\n",
       "      <td>4341</td>\n",
       "      <td>10.3</td>\n",
       "      <td>34</td>\n",
       "      <td>...</td>\n",
       "      <td>3</td>\n",
       "      <td>16</td>\n",
       "      <td>18</td>\n",
       "      <td>100.0</td>\n",
       "      <td>0.000000</td>\n",
       "      <td>1</td>\n",
       "      <td>60124</td>\n",
       "      <td>16901</td>\n",
       "      <td>36500</td>\n",
       "      <td>18124</td>\n",
       "    </tr>\n",
       "    <tr>\n",
       "      <th>248192</th>\n",
       "      <td>0</td>\n",
       "      <td>2500</td>\n",
       "      <td>2500</td>\n",
       "      <td>2500</td>\n",
       "      <td>84.92</td>\n",
       "      <td>45.0</td>\n",
       "      <td>1</td>\n",
       "      <td>4341</td>\n",
       "      <td>10.3</td>\n",
       "      <td>34</td>\n",
       "      <td>...</td>\n",
       "      <td>3</td>\n",
       "      <td>16</td>\n",
       "      <td>18</td>\n",
       "      <td>100.0</td>\n",
       "      <td>0.000000</td>\n",
       "      <td>1</td>\n",
       "      <td>60124</td>\n",
       "      <td>16901</td>\n",
       "      <td>36500</td>\n",
       "      <td>18124</td>\n",
       "    </tr>\n",
       "    <tr>\n",
       "      <th>248193</th>\n",
       "      <td>0</td>\n",
       "      <td>2500</td>\n",
       "      <td>2500</td>\n",
       "      <td>2500</td>\n",
       "      <td>84.92</td>\n",
       "      <td>45.0</td>\n",
       "      <td>1</td>\n",
       "      <td>4341</td>\n",
       "      <td>10.3</td>\n",
       "      <td>34</td>\n",
       "      <td>...</td>\n",
       "      <td>3</td>\n",
       "      <td>16</td>\n",
       "      <td>18</td>\n",
       "      <td>100.0</td>\n",
       "      <td>0.000000</td>\n",
       "      <td>1</td>\n",
       "      <td>60124</td>\n",
       "      <td>16901</td>\n",
       "      <td>36500</td>\n",
       "      <td>18124</td>\n",
       "    </tr>\n",
       "    <tr>\n",
       "      <th>248194</th>\n",
       "      <td>0</td>\n",
       "      <td>2500</td>\n",
       "      <td>2500</td>\n",
       "      <td>2500</td>\n",
       "      <td>84.92</td>\n",
       "      <td>45.0</td>\n",
       "      <td>1</td>\n",
       "      <td>4341</td>\n",
       "      <td>10.3</td>\n",
       "      <td>34</td>\n",
       "      <td>...</td>\n",
       "      <td>3</td>\n",
       "      <td>16</td>\n",
       "      <td>18</td>\n",
       "      <td>100.0</td>\n",
       "      <td>0.000000</td>\n",
       "      <td>1</td>\n",
       "      <td>60124</td>\n",
       "      <td>16901</td>\n",
       "      <td>36500</td>\n",
       "      <td>18124</td>\n",
       "    </tr>\n",
       "    <tr>\n",
       "      <th>248195</th>\n",
       "      <td>0</td>\n",
       "      <td>2500</td>\n",
       "      <td>2500</td>\n",
       "      <td>2500</td>\n",
       "      <td>84.92</td>\n",
       "      <td>45.0</td>\n",
       "      <td>1</td>\n",
       "      <td>4341</td>\n",
       "      <td>10.3</td>\n",
       "      <td>34</td>\n",
       "      <td>...</td>\n",
       "      <td>3</td>\n",
       "      <td>16</td>\n",
       "      <td>18</td>\n",
       "      <td>100.0</td>\n",
       "      <td>0.000000</td>\n",
       "      <td>1</td>\n",
       "      <td>60124</td>\n",
       "      <td>16901</td>\n",
       "      <td>36500</td>\n",
       "      <td>18124</td>\n",
       "    </tr>\n",
       "  </tbody>\n",
       "</table>\n",
       "<p>248196 rows × 46 columns</p>\n",
       "</div>"
      ],
      "text/plain": [
       "        loan_status  loan_amnt  funded_amnt  funded_amnt_inv  installment  \\\n",
       "0                 1      20975        20975            20975       659.13   \n",
       "1                 1      20000        20000            20000       662.38   \n",
       "2                 1       9100         9100             9100       368.15   \n",
       "3                 1       3525         3525             3525       140.79   \n",
       "4                 1      11500        11500            11500       390.59   \n",
       "...             ...        ...          ...              ...          ...   \n",
       "248191            0       2500         2500             2500        84.92   \n",
       "248192            0       2500         2500             2500        84.92   \n",
       "248193            0       2500         2500             2500        84.92   \n",
       "248194            0       2500         2500             2500        84.92   \n",
       "248195            0       2500         2500             2500        84.92   \n",
       "\n",
       "        mths_since_last_record  pub_rec  revol_bal  revol_util  total_acc  \\\n",
       "0                         45.0        0       4210        16.6         21   \n",
       "1                         45.0        0      16576        13.9         26   \n",
       "2                         45.0        0       4165        12.1         23   \n",
       "3                         45.0        0       8591        31.1         15   \n",
       "4                         45.0        0       2600        20.0         12   \n",
       "...                        ...      ...        ...         ...        ...   \n",
       "248191                    45.0        1       4341        10.3         34   \n",
       "248192                    45.0        1       4341        10.3         34   \n",
       "248193                    45.0        1       4341        10.3         34   \n",
       "248194                    45.0        1       4341        10.3         34   \n",
       "248195                    45.0        1       4341        10.3         34   \n",
       "\n",
       "        ...  num_bc_tl  num_il_tl  num_rev_accts  pct_tl_nvr_dlq  \\\n",
       "0       ...          5          4             13           100.0   \n",
       "1       ...         15          2             24           100.0   \n",
       "2       ...         13          4             18            95.5   \n",
       "3       ...          6          7              8            92.3   \n",
       "4       ...          1          1             10            91.7   \n",
       "...     ...        ...        ...            ...             ...   \n",
       "248191  ...          3         16             18           100.0   \n",
       "248192  ...          3         16             18           100.0   \n",
       "248193  ...          3         16             18           100.0   \n",
       "248194  ...          3         16             18           100.0   \n",
       "248195  ...          3         16             18           100.0   \n",
       "\n",
       "        percent_bc_gt_75  pub_rec_bankruptcies  tot_hi_cred_lim  \\\n",
       "0               0.000000                     0           378104   \n",
       "1               0.000000                     0           164900   \n",
       "2               0.000000                     0            67696   \n",
       "3               0.000000                     0            99054   \n",
       "4               4.312619                     0            13000   \n",
       "...                  ...                   ...              ...   \n",
       "248191          0.000000                     1            60124   \n",
       "248192          0.000000                     1            60124   \n",
       "248193          0.000000                     1            60124   \n",
       "248194          0.000000                     1            60124   \n",
       "248195          0.000000                     1            60124   \n",
       "\n",
       "        total_bal_ex_mort  total_bc_limit  total_il_high_credit_limit  \n",
       "0                  111136            7500                       85932  \n",
       "1                   65731           91200                       45500  \n",
       "2                   32619           34500                       33196  \n",
       "3                   77123           24000                       71454  \n",
       "4                    2600               0                           0  \n",
       "...                   ...             ...                         ...  \n",
       "248191              16901           36500                       18124  \n",
       "248192              16901           36500                       18124  \n",
       "248193              16901           36500                       18124  \n",
       "248194              16901           36500                       18124  \n",
       "248195              16901           36500                       18124  \n",
       "\n",
       "[248196 rows x 46 columns]"
      ]
     },
     "execution_count": 58,
     "metadata": {},
     "output_type": "execute_result"
    }
   ],
   "source": [
    "df_machine"
   ]
  },
  {
   "cell_type": "markdown",
   "metadata": {},
   "source": [
    "# 2. Trabalhando com a Importância\n",
    "\n",
    "Usar o classificador da Random Forest para verificar a importância das variáveis. Assim teremos base para retirar variáveis da modelagem."
   ]
  },
  {
   "cell_type": "code",
   "execution_count": 59,
   "metadata": {},
   "outputs": [],
   "source": [
    "from sklearn.ensemble import RandomForestClassifier\n",
    "from sklearn.linear_model import LogisticRegression"
   ]
  },
  {
   "cell_type": "code",
   "execution_count": 60,
   "metadata": {},
   "outputs": [],
   "source": [
    "colfloat64 = df_machine.select_dtypes('float64').columns\n",
    "colint64 = df_machine.select_dtypes('int64').columns"
   ]
  },
  {
   "cell_type": "code",
   "execution_count": 61,
   "metadata": {},
   "outputs": [],
   "source": [
    "for n in colfloat64:\n",
    "    df_machine[n] = df_machine[n].astype('float32')\n",
    "    \n",
    "for n in colint64:\n",
    "    df_machine[n] = df_machine[n].astype('int32')"
   ]
  },
  {
   "cell_type": "code",
   "execution_count": 62,
   "metadata": {},
   "outputs": [
    {
     "name": "stdout",
     "output_type": "stream",
     "text": [
      "<class 'pandas.core.frame.DataFrame'>\n",
      "RangeIndex: 248196 entries, 0 to 248195\n",
      "Data columns (total 46 columns):\n",
      " #   Column                      Non-Null Count   Dtype  \n",
      "---  ------                      --------------   -----  \n",
      " 0   loan_status                 248196 non-null  int32  \n",
      " 1   loan_amnt                   248196 non-null  int32  \n",
      " 2   funded_amnt                 248196 non-null  int32  \n",
      " 3   funded_amnt_inv             248196 non-null  int32  \n",
      " 4   installment                 248196 non-null  float32\n",
      " 5   mths_since_last_record      248196 non-null  float32\n",
      " 6   pub_rec                     248196 non-null  int32  \n",
      " 7   revol_bal                   248196 non-null  int32  \n",
      " 8   revol_util                  248196 non-null  float32\n",
      " 9   total_acc                   248196 non-null  int32  \n",
      " 10  out_prncp                   248196 non-null  float32\n",
      " 11  out_prncp_inv               248196 non-null  float32\n",
      " 12  total_pymnt                 248196 non-null  float32\n",
      " 13  total_pymnt_inv             248196 non-null  float32\n",
      " 14  total_rec_prncp             248196 non-null  float32\n",
      " 15  total_rec_int               248196 non-null  float32\n",
      " 16  last_pymnt_amnt             248196 non-null  float32\n",
      " 17  tot_cur_bal                 248196 non-null  int32  \n",
      " 18  open_acc_6m                 248196 non-null  float32\n",
      " 19  mths_since_rcnt_il          248196 non-null  float32\n",
      " 20  total_bal_il                248196 non-null  float32\n",
      " 21  open_rv_24m                 248196 non-null  float32\n",
      " 22  max_bal_bc                  248196 non-null  float32\n",
      " 23  all_util                    248196 non-null  float32\n",
      " 24  total_cu_tl                 248196 non-null  float32\n",
      " 25  acc_open_past_24mths        248196 non-null  int32  \n",
      " 26  avg_cur_bal                 248196 non-null  float32\n",
      " 27  bc_open_to_buy              248196 non-null  float32\n",
      " 28  bc_util                     248196 non-null  float32\n",
      " 29  mo_sin_rcnt_rev_tl_op       248196 non-null  int32  \n",
      " 30  mo_sin_rcnt_tl              248196 non-null  int32  \n",
      " 31  mort_acc                    248196 non-null  int32  \n",
      " 32  mths_since_recent_bc        248196 non-null  float32\n",
      " 33  mths_since_recent_inq       248196 non-null  float32\n",
      " 34  num_actv_bc_tl              248196 non-null  int32  \n",
      " 35  num_bc_sats                 248196 non-null  int32  \n",
      " 36  num_bc_tl                   248196 non-null  int32  \n",
      " 37  num_il_tl                   248196 non-null  int32  \n",
      " 38  num_rev_accts               248196 non-null  int32  \n",
      " 39  pct_tl_nvr_dlq              248196 non-null  float32\n",
      " 40  percent_bc_gt_75            248196 non-null  float32\n",
      " 41  pub_rec_bankruptcies        248196 non-null  int32  \n",
      " 42  tot_hi_cred_lim             248196 non-null  int32  \n",
      " 43  total_bal_ex_mort           248196 non-null  int32  \n",
      " 44  total_bc_limit              248196 non-null  int32  \n",
      " 45  total_il_high_credit_limit  248196 non-null  int32  \n",
      "dtypes: float32(24), int32(22)\n",
      "memory usage: 43.6 MB\n"
     ]
    }
   ],
   "source": [
    "df_machine.info()"
   ]
  },
  {
   "cell_type": "code",
   "execution_count": 63,
   "metadata": {},
   "outputs": [],
   "source": [
    "y = df_machine['loan_status']\n",
    "\n",
    "df_machineL = df_machine.drop('loan_status',axis=1)"
   ]
  },
  {
   "cell_type": "code",
   "execution_count": 96,
   "metadata": {},
   "outputs": [
    {
     "data": {
      "text/html": [
       "<div>\n",
       "<style scoped>\n",
       "    .dataframe tbody tr th:only-of-type {\n",
       "        vertical-align: middle;\n",
       "    }\n",
       "\n",
       "    .dataframe tbody tr th {\n",
       "        vertical-align: top;\n",
       "    }\n",
       "\n",
       "    .dataframe thead th {\n",
       "        text-align: right;\n",
       "    }\n",
       "</style>\n",
       "<table border=\"1\" class=\"dataframe\">\n",
       "  <thead>\n",
       "    <tr style=\"text-align: right;\">\n",
       "      <th></th>\n",
       "      <th>loan_amnt</th>\n",
       "      <th>funded_amnt</th>\n",
       "      <th>funded_amnt_inv</th>\n",
       "      <th>installment</th>\n",
       "      <th>mths_since_last_record</th>\n",
       "      <th>pub_rec</th>\n",
       "      <th>revol_bal</th>\n",
       "      <th>revol_util</th>\n",
       "      <th>total_acc</th>\n",
       "      <th>out_prncp</th>\n",
       "      <th>...</th>\n",
       "      <th>num_bc_tl</th>\n",
       "      <th>num_il_tl</th>\n",
       "      <th>num_rev_accts</th>\n",
       "      <th>pct_tl_nvr_dlq</th>\n",
       "      <th>percent_bc_gt_75</th>\n",
       "      <th>pub_rec_bankruptcies</th>\n",
       "      <th>tot_hi_cred_lim</th>\n",
       "      <th>total_bal_ex_mort</th>\n",
       "      <th>total_bc_limit</th>\n",
       "      <th>total_il_high_credit_limit</th>\n",
       "    </tr>\n",
       "  </thead>\n",
       "  <tbody>\n",
       "    <tr>\n",
       "      <th>0</th>\n",
       "      <td>20975</td>\n",
       "      <td>20975</td>\n",
       "      <td>20975</td>\n",
       "      <td>659.130005</td>\n",
       "      <td>45.0</td>\n",
       "      <td>0</td>\n",
       "      <td>4210</td>\n",
       "      <td>16.6</td>\n",
       "      <td>21</td>\n",
       "      <td>20975.0</td>\n",
       "      <td>...</td>\n",
       "      <td>5</td>\n",
       "      <td>4</td>\n",
       "      <td>13</td>\n",
       "      <td>100.000000</td>\n",
       "      <td>0.000000</td>\n",
       "      <td>0</td>\n",
       "      <td>378104</td>\n",
       "      <td>111136</td>\n",
       "      <td>7500</td>\n",
       "      <td>85932</td>\n",
       "    </tr>\n",
       "    <tr>\n",
       "      <th>1</th>\n",
       "      <td>20000</td>\n",
       "      <td>20000</td>\n",
       "      <td>20000</td>\n",
       "      <td>662.380005</td>\n",
       "      <td>45.0</td>\n",
       "      <td>0</td>\n",
       "      <td>16576</td>\n",
       "      <td>13.9</td>\n",
       "      <td>26</td>\n",
       "      <td>20000.0</td>\n",
       "      <td>...</td>\n",
       "      <td>15</td>\n",
       "      <td>2</td>\n",
       "      <td>24</td>\n",
       "      <td>100.000000</td>\n",
       "      <td>0.000000</td>\n",
       "      <td>0</td>\n",
       "      <td>164900</td>\n",
       "      <td>65731</td>\n",
       "      <td>91200</td>\n",
       "      <td>45500</td>\n",
       "    </tr>\n",
       "    <tr>\n",
       "      <th>2</th>\n",
       "      <td>9100</td>\n",
       "      <td>9100</td>\n",
       "      <td>9100</td>\n",
       "      <td>368.149994</td>\n",
       "      <td>45.0</td>\n",
       "      <td>0</td>\n",
       "      <td>4165</td>\n",
       "      <td>12.1</td>\n",
       "      <td>23</td>\n",
       "      <td>9100.0</td>\n",
       "      <td>...</td>\n",
       "      <td>13</td>\n",
       "      <td>4</td>\n",
       "      <td>18</td>\n",
       "      <td>95.500000</td>\n",
       "      <td>0.000000</td>\n",
       "      <td>0</td>\n",
       "      <td>67696</td>\n",
       "      <td>32619</td>\n",
       "      <td>34500</td>\n",
       "      <td>33196</td>\n",
       "    </tr>\n",
       "    <tr>\n",
       "      <th>3</th>\n",
       "      <td>3525</td>\n",
       "      <td>3525</td>\n",
       "      <td>3525</td>\n",
       "      <td>140.789993</td>\n",
       "      <td>45.0</td>\n",
       "      <td>0</td>\n",
       "      <td>8591</td>\n",
       "      <td>31.1</td>\n",
       "      <td>15</td>\n",
       "      <td>3525.0</td>\n",
       "      <td>...</td>\n",
       "      <td>6</td>\n",
       "      <td>7</td>\n",
       "      <td>8</td>\n",
       "      <td>92.300003</td>\n",
       "      <td>0.000000</td>\n",
       "      <td>0</td>\n",
       "      <td>99054</td>\n",
       "      <td>77123</td>\n",
       "      <td>24000</td>\n",
       "      <td>71454</td>\n",
       "    </tr>\n",
       "    <tr>\n",
       "      <th>4</th>\n",
       "      <td>11500</td>\n",
       "      <td>11500</td>\n",
       "      <td>11500</td>\n",
       "      <td>390.589996</td>\n",
       "      <td>45.0</td>\n",
       "      <td>0</td>\n",
       "      <td>2600</td>\n",
       "      <td>20.0</td>\n",
       "      <td>12</td>\n",
       "      <td>11500.0</td>\n",
       "      <td>...</td>\n",
       "      <td>1</td>\n",
       "      <td>1</td>\n",
       "      <td>10</td>\n",
       "      <td>91.699997</td>\n",
       "      <td>4.312619</td>\n",
       "      <td>0</td>\n",
       "      <td>13000</td>\n",
       "      <td>2600</td>\n",
       "      <td>0</td>\n",
       "      <td>0</td>\n",
       "    </tr>\n",
       "  </tbody>\n",
       "</table>\n",
       "<p>5 rows × 45 columns</p>\n",
       "</div>"
      ],
      "text/plain": [
       "   loan_amnt  funded_amnt  funded_amnt_inv  installment  \\\n",
       "0      20975        20975            20975   659.130005   \n",
       "1      20000        20000            20000   662.380005   \n",
       "2       9100         9100             9100   368.149994   \n",
       "3       3525         3525             3525   140.789993   \n",
       "4      11500        11500            11500   390.589996   \n",
       "\n",
       "   mths_since_last_record  pub_rec  revol_bal  revol_util  total_acc  \\\n",
       "0                    45.0        0       4210        16.6         21   \n",
       "1                    45.0        0      16576        13.9         26   \n",
       "2                    45.0        0       4165        12.1         23   \n",
       "3                    45.0        0       8591        31.1         15   \n",
       "4                    45.0        0       2600        20.0         12   \n",
       "\n",
       "   out_prncp  ...  num_bc_tl  num_il_tl  num_rev_accts  pct_tl_nvr_dlq  \\\n",
       "0    20975.0  ...          5          4             13      100.000000   \n",
       "1    20000.0  ...         15          2             24      100.000000   \n",
       "2     9100.0  ...         13          4             18       95.500000   \n",
       "3     3525.0  ...          6          7              8       92.300003   \n",
       "4    11500.0  ...          1          1             10       91.699997   \n",
       "\n",
       "   percent_bc_gt_75  pub_rec_bankruptcies  tot_hi_cred_lim  total_bal_ex_mort  \\\n",
       "0          0.000000                     0           378104             111136   \n",
       "1          0.000000                     0           164900              65731   \n",
       "2          0.000000                     0            67696              32619   \n",
       "3          0.000000                     0            99054              77123   \n",
       "4          4.312619                     0            13000               2600   \n",
       "\n",
       "   total_bc_limit  total_il_high_credit_limit  \n",
       "0            7500                       85932  \n",
       "1           91200                       45500  \n",
       "2           34500                       33196  \n",
       "3           24000                       71454  \n",
       "4               0                           0  \n",
       "\n",
       "[5 rows x 45 columns]"
      ]
     },
     "execution_count": 96,
     "metadata": {},
     "output_type": "execute_result"
    }
   ],
   "source": [
    "df_machineL.head()"
   ]
  },
  {
   "cell_type": "code",
   "execution_count": 64,
   "metadata": {},
   "outputs": [],
   "source": [
    "train_X, test_X, train_y, test_y = train_test_split(df_machineL,y,random_state=0)"
   ]
  },
  {
   "cell_type": "code",
   "execution_count": 65,
   "metadata": {},
   "outputs": [
    {
     "name": "stderr",
     "output_type": "stream",
     "text": [
      "C:\\Users\\Fernando Nast\\miniconda3\\lib\\site-packages\\sklearn\\ensemble\\_forest.py:541: UserWarning:\n",
      "\n",
      "Some inputs do not have OOB scores. This probably means too few trees were used to compute any reliable oob estimates.\n",
      "\n",
      "C:\\Users\\Fernando Nast\\miniconda3\\lib\\site-packages\\sklearn\\ensemble\\_forest.py:545: RuntimeWarning:\n",
      "\n",
      "invalid value encountered in true_divide\n",
      "\n",
      "C:\\Users\\Fernando Nast\\miniconda3\\lib\\site-packages\\sklearn\\ensemble\\_forest.py:541: UserWarning:\n",
      "\n",
      "Some inputs do not have OOB scores. This probably means too few trees were used to compute any reliable oob estimates.\n",
      "\n",
      "C:\\Users\\Fernando Nast\\miniconda3\\lib\\site-packages\\sklearn\\ensemble\\_forest.py:545: RuntimeWarning:\n",
      "\n",
      "invalid value encountered in true_divide\n",
      "\n",
      "C:\\Users\\Fernando Nast\\miniconda3\\lib\\site-packages\\sklearn\\ensemble\\_forest.py:541: UserWarning:\n",
      "\n",
      "Some inputs do not have OOB scores. This probably means too few trees were used to compute any reliable oob estimates.\n",
      "\n",
      "C:\\Users\\Fernando Nast\\miniconda3\\lib\\site-packages\\sklearn\\ensemble\\_forest.py:545: RuntimeWarning:\n",
      "\n",
      "invalid value encountered in true_divide\n",
      "\n",
      "C:\\Users\\Fernando Nast\\miniconda3\\lib\\site-packages\\sklearn\\ensemble\\_forest.py:541: UserWarning:\n",
      "\n",
      "Some inputs do not have OOB scores. This probably means too few trees were used to compute any reliable oob estimates.\n",
      "\n",
      "C:\\Users\\Fernando Nast\\miniconda3\\lib\\site-packages\\sklearn\\ensemble\\_forest.py:545: RuntimeWarning:\n",
      "\n",
      "invalid value encountered in true_divide\n",
      "\n",
      "C:\\Users\\Fernando Nast\\miniconda3\\lib\\site-packages\\sklearn\\ensemble\\_forest.py:541: UserWarning:\n",
      "\n",
      "Some inputs do not have OOB scores. This probably means too few trees were used to compute any reliable oob estimates.\n",
      "\n",
      "C:\\Users\\Fernando Nast\\miniconda3\\lib\\site-packages\\sklearn\\ensemble\\_forest.py:545: RuntimeWarning:\n",
      "\n",
      "invalid value encountered in true_divide\n",
      "\n"
     ]
    },
    {
     "name": "stdout",
     "output_type": "stream",
     "text": [
      "RF [1. 1. 1. 1. 1.] 1.0\n",
      "\n",
      "\n"
     ]
    },
    {
     "name": "stderr",
     "output_type": "stream",
     "text": [
      "C:\\Users\\Fernando Nast\\miniconda3\\lib\\site-packages\\sklearn\\linear_model\\_logistic.py:763: ConvergenceWarning:\n",
      "\n",
      "lbfgs failed to converge (status=1):\n",
      "STOP: TOTAL NO. of ITERATIONS REACHED LIMIT.\n",
      "\n",
      "Increase the number of iterations (max_iter) or scale the data as shown in:\n",
      "    https://scikit-learn.org/stable/modules/preprocessing.html\n",
      "Please also refer to the documentation for alternative solver options:\n",
      "    https://scikit-learn.org/stable/modules/linear_model.html#logistic-regression\n",
      "\n",
      "C:\\Users\\Fernando Nast\\miniconda3\\lib\\site-packages\\sklearn\\linear_model\\_logistic.py:763: ConvergenceWarning:\n",
      "\n",
      "lbfgs failed to converge (status=1):\n",
      "STOP: TOTAL NO. of ITERATIONS REACHED LIMIT.\n",
      "\n",
      "Increase the number of iterations (max_iter) or scale the data as shown in:\n",
      "    https://scikit-learn.org/stable/modules/preprocessing.html\n",
      "Please also refer to the documentation for alternative solver options:\n",
      "    https://scikit-learn.org/stable/modules/linear_model.html#logistic-regression\n",
      "\n",
      "C:\\Users\\Fernando Nast\\miniconda3\\lib\\site-packages\\sklearn\\linear_model\\_logistic.py:763: ConvergenceWarning:\n",
      "\n",
      "lbfgs failed to converge (status=1):\n",
      "STOP: TOTAL NO. of ITERATIONS REACHED LIMIT.\n",
      "\n",
      "Increase the number of iterations (max_iter) or scale the data as shown in:\n",
      "    https://scikit-learn.org/stable/modules/preprocessing.html\n",
      "Please also refer to the documentation for alternative solver options:\n",
      "    https://scikit-learn.org/stable/modules/linear_model.html#logistic-regression\n",
      "\n",
      "C:\\Users\\Fernando Nast\\miniconda3\\lib\\site-packages\\sklearn\\linear_model\\_logistic.py:763: ConvergenceWarning:\n",
      "\n",
      "lbfgs failed to converge (status=1):\n",
      "STOP: TOTAL NO. of ITERATIONS REACHED LIMIT.\n",
      "\n",
      "Increase the number of iterations (max_iter) or scale the data as shown in:\n",
      "    https://scikit-learn.org/stable/modules/preprocessing.html\n",
      "Please also refer to the documentation for alternative solver options:\n",
      "    https://scikit-learn.org/stable/modules/linear_model.html#logistic-regression\n",
      "\n"
     ]
    },
    {
     "name": "stdout",
     "output_type": "stream",
     "text": [
      "LR [0.99989256 0.99997314 0.99991942 0.99989256 0.9998657 ] 0.9999086740675296\n",
      "\n",
      "\n"
     ]
    },
    {
     "name": "stderr",
     "output_type": "stream",
     "text": [
      "C:\\Users\\Fernando Nast\\miniconda3\\lib\\site-packages\\sklearn\\linear_model\\_logistic.py:763: ConvergenceWarning:\n",
      "\n",
      "lbfgs failed to converge (status=1):\n",
      "STOP: TOTAL NO. of ITERATIONS REACHED LIMIT.\n",
      "\n",
      "Increase the number of iterations (max_iter) or scale the data as shown in:\n",
      "    https://scikit-learn.org/stable/modules/preprocessing.html\n",
      "Please also refer to the documentation for alternative solver options:\n",
      "    https://scikit-learn.org/stable/modules/linear_model.html#logistic-regression\n",
      "\n"
     ]
    }
   ],
   "source": [
    "modelos = {'RF': RandomForestClassifier(random_state=1,n_estimators=20,oob_score=True),\n",
    "           'LR': LogisticRegression()}\n",
    "\n",
    "modelos_score = {}\n",
    "for i in modelos.keys():\n",
    "    score = cross_val_score(modelos[i], train_X, train_y) # Default é 3-Fold (lembra o K-Fold)\n",
    "    modelos_score[i] = score\n",
    "    print(i, score, np.mean(score))\n",
    "    print('\\n')"
   ]
  },
  {
   "cell_type": "code",
   "execution_count": 66,
   "metadata": {},
   "outputs": [
    {
     "name": "stderr",
     "output_type": "stream",
     "text": [
      "C:\\Users\\Fernando Nast\\miniconda3\\lib\\site-packages\\sklearn\\ensemble\\_forest.py:541: UserWarning:\n",
      "\n",
      "Some inputs do not have OOB scores. This probably means too few trees were used to compute any reliable oob estimates.\n",
      "\n",
      "C:\\Users\\Fernando Nast\\miniconda3\\lib\\site-packages\\sklearn\\ensemble\\_forest.py:545: RuntimeWarning:\n",
      "\n",
      "invalid value encountered in true_divide\n",
      "\n",
      "C:\\Users\\Fernando Nast\\miniconda3\\lib\\site-packages\\sklearn\\linear_model\\_logistic.py:763: ConvergenceWarning:\n",
      "\n",
      "lbfgs failed to converge (status=1):\n",
      "STOP: TOTAL NO. of ITERATIONS REACHED LIMIT.\n",
      "\n",
      "Increase the number of iterations (max_iter) or scale the data as shown in:\n",
      "    https://scikit-learn.org/stable/modules/preprocessing.html\n",
      "Please also refer to the documentation for alternative solver options:\n",
      "    https://scikit-learn.org/stable/modules/linear_model.html#logistic-regression\n",
      "\n"
     ]
    }
   ],
   "source": [
    "modeloRF = RandomForestClassifier(random_state=1,n_estimators=20,oob_score=True)\n",
    "modeloRF.fit(train_X, train_y)\n",
    "pred_yRF = modeloRF.predict(test_X)\n",
    "\n",
    "modeloLR = LogisticRegression()\n",
    "modeloLR.fit(train_X, train_y)\n",
    "pred_yLR = modeloLR.predict(test_X)"
   ]
  },
  {
   "cell_type": "code",
   "execution_count": null,
   "metadata": {},
   "outputs": [],
   "source": [
    "# O que fiz antes, que deu 100%\n",
    "\n",
    "#modelo = RandomForestClassifier(random_state=1,n_estimators=20,oob_score=True)\n",
    "#modelo.fit(train_X, train_y)\n",
    "#pred_y = modelo.predict(test_X)"
   ]
  },
  {
   "cell_type": "markdown",
   "metadata": {},
   "source": [
    "### Importância\n",
    "\n",
    "Gerando a tabela com a importância de cada variável"
   ]
  },
  {
   "cell_type": "code",
   "execution_count": 67,
   "metadata": {},
   "outputs": [],
   "source": [
    "importanciaRF = pd.DataFrame(modeloRF.feature_importances_*100,index=df_machineL.columns,columns=['Importancia(%)'])"
   ]
  },
  {
   "cell_type": "code",
   "execution_count": 68,
   "metadata": {},
   "outputs": [],
   "source": [
    "imp = importanciaRF.sort_values(by='Importancia(%)', ascending=False)"
   ]
  },
  {
   "cell_type": "markdown",
   "metadata": {},
   "source": [
    "Dataframe com a porcentagem de Importância maior que zero"
   ]
  },
  {
   "cell_type": "code",
   "execution_count": 69,
   "metadata": {},
   "outputs": [
    {
     "data": {
      "text/html": [
       "<div>\n",
       "<style scoped>\n",
       "    .dataframe tbody tr th:only-of-type {\n",
       "        vertical-align: middle;\n",
       "    }\n",
       "\n",
       "    .dataframe tbody tr th {\n",
       "        vertical-align: top;\n",
       "    }\n",
       "\n",
       "    .dataframe thead th {\n",
       "        text-align: right;\n",
       "    }\n",
       "</style>\n",
       "<table border=\"1\" class=\"dataframe\">\n",
       "  <thead>\n",
       "    <tr style=\"text-align: right;\">\n",
       "      <th></th>\n",
       "      <th>Importancia(%)</th>\n",
       "    </tr>\n",
       "  </thead>\n",
       "  <tbody>\n",
       "    <tr>\n",
       "      <th>total_pymnt_inv</th>\n",
       "      <td>24.844931</td>\n",
       "    </tr>\n",
       "    <tr>\n",
       "      <th>total_rec_int</th>\n",
       "      <td>24.776671</td>\n",
       "    </tr>\n",
       "    <tr>\n",
       "      <th>funded_amnt</th>\n",
       "      <td>10.084316</td>\n",
       "    </tr>\n",
       "    <tr>\n",
       "      <th>total_pymnt</th>\n",
       "      <td>9.996553</td>\n",
       "    </tr>\n",
       "    <tr>\n",
       "      <th>total_rec_prncp</th>\n",
       "      <td>5.585251</td>\n",
       "    </tr>\n",
       "    <tr>\n",
       "      <th>mths_since_recent_bc</th>\n",
       "      <td>4.904504</td>\n",
       "    </tr>\n",
       "    <tr>\n",
       "      <th>funded_amnt_inv</th>\n",
       "      <td>4.885687</td>\n",
       "    </tr>\n",
       "    <tr>\n",
       "      <th>loan_amnt</th>\n",
       "      <td>4.877829</td>\n",
       "    </tr>\n",
       "    <tr>\n",
       "      <th>last_pymnt_amnt</th>\n",
       "      <td>4.750609</td>\n",
       "    </tr>\n",
       "    <tr>\n",
       "      <th>mo_sin_rcnt_tl</th>\n",
       "      <td>4.399348</td>\n",
       "    </tr>\n",
       "    <tr>\n",
       "      <th>open_rv_24m</th>\n",
       "      <td>0.216779</td>\n",
       "    </tr>\n",
       "    <tr>\n",
       "      <th>mo_sin_rcnt_rev_tl_op</th>\n",
       "      <td>0.182901</td>\n",
       "    </tr>\n",
       "    <tr>\n",
       "      <th>total_cu_tl</th>\n",
       "      <td>0.177404</td>\n",
       "    </tr>\n",
       "    <tr>\n",
       "      <th>total_bc_limit</th>\n",
       "      <td>0.144396</td>\n",
       "    </tr>\n",
       "    <tr>\n",
       "      <th>total_acc</th>\n",
       "      <td>0.096509</td>\n",
       "    </tr>\n",
       "    <tr>\n",
       "      <th>acc_open_past_24mths</th>\n",
       "      <td>0.042988</td>\n",
       "    </tr>\n",
       "    <tr>\n",
       "      <th>num_il_tl</th>\n",
       "      <td>0.011844</td>\n",
       "    </tr>\n",
       "    <tr>\n",
       "      <th>out_prncp</th>\n",
       "      <td>0.007547</td>\n",
       "    </tr>\n",
       "    <tr>\n",
       "      <th>revol_util</th>\n",
       "      <td>0.004894</td>\n",
       "    </tr>\n",
       "    <tr>\n",
       "      <th>total_il_high_credit_limit</th>\n",
       "      <td>0.004081</td>\n",
       "    </tr>\n",
       "    <tr>\n",
       "      <th>installment</th>\n",
       "      <td>0.003806</td>\n",
       "    </tr>\n",
       "    <tr>\n",
       "      <th>num_actv_bc_tl</th>\n",
       "      <td>0.000579</td>\n",
       "    </tr>\n",
       "    <tr>\n",
       "      <th>mort_acc</th>\n",
       "      <td>0.000573</td>\n",
       "    </tr>\n",
       "  </tbody>\n",
       "</table>\n",
       "</div>"
      ],
      "text/plain": [
       "                            Importancia(%)\n",
       "total_pymnt_inv                  24.844931\n",
       "total_rec_int                    24.776671\n",
       "funded_amnt                      10.084316\n",
       "total_pymnt                       9.996553\n",
       "total_rec_prncp                   5.585251\n",
       "mths_since_recent_bc              4.904504\n",
       "funded_amnt_inv                   4.885687\n",
       "loan_amnt                         4.877829\n",
       "last_pymnt_amnt                   4.750609\n",
       "mo_sin_rcnt_tl                    4.399348\n",
       "open_rv_24m                       0.216779\n",
       "mo_sin_rcnt_rev_tl_op             0.182901\n",
       "total_cu_tl                       0.177404\n",
       "total_bc_limit                    0.144396\n",
       "total_acc                         0.096509\n",
       "acc_open_past_24mths              0.042988\n",
       "num_il_tl                         0.011844\n",
       "out_prncp                         0.007547\n",
       "revol_util                        0.004894\n",
       "total_il_high_credit_limit        0.004081\n",
       "installment                       0.003806\n",
       "num_actv_bc_tl                    0.000579\n",
       "mort_acc                          0.000573"
      ]
     },
     "execution_count": 69,
     "metadata": {},
     "output_type": "execute_result"
    }
   ],
   "source": [
    "#imp[imp['Importancia(%)']>=0.5]\n",
    "imp[imp['Importancia(%)']>0]"
   ]
  },
  {
   "cell_type": "markdown",
   "metadata": {},
   "source": [
    "### Curva ROC e Matriz Confusão\n",
    "\n",
    "Criando a função para a geração da curva ROC e a Matriz de Confusão dos nossos classificadores."
   ]
  },
  {
   "cell_type": "code",
   "execution_count": 70,
   "metadata": {},
   "outputs": [],
   "source": [
    "###################################### 2 OU MAIS MODELOS ######################################\n",
    "def createROC(modelos, X, y, test_X, test_y):\n",
    "    false_p, true_p = [], [] ##false postives and true positives\n",
    "\n",
    "    for i in modelos.keys():  ##dict of models\n",
    "        modelos[i].fit(X, y)\n",
    "\n",
    "        fp, tp, threshold = roc_curve(test_y, modelos[i].predict_proba(test_X)[:,1]) ##roc_curve function\n",
    "\n",
    "        true_p.append(tp)\n",
    "        false_p.append(fp)\n",
    "    return true_p, false_p ##returning the true postive and false positive\n",
    "\n",
    "###################################### APENAS 1 MODELO ######################################\n",
    "# def createROC(modelo, X, y, Xte, yte):\n",
    "#     false_p, true_p = [], [] ##false postives and true positives\n",
    "\n",
    "#     modelo.fit(X,y)\n",
    "\n",
    "#     fp, tp, threshold = roc_curve(yte, modelo.predict_proba(Xte)[:,1]) ##roc_curve function\n",
    "\n",
    "#     true_p.append(tp)\n",
    "#     false_p.append(fp)\n",
    "#     return true_p, false_p ##returning the true postive and false positive"
   ]
  },
  {
   "cell_type": "markdown",
   "metadata": {},
   "source": [
    "Gerando a curva ROC pro modelo e encontrando os *True Positive* (TP) e os *False Positives* (FP)."
   ]
  },
  {
   "cell_type": "code",
   "execution_count": 71,
   "metadata": {},
   "outputs": [
    {
     "name": "stderr",
     "output_type": "stream",
     "text": [
      "C:\\Users\\Fernando Nast\\miniconda3\\lib\\site-packages\\sklearn\\ensemble\\_forest.py:541: UserWarning:\n",
      "\n",
      "Some inputs do not have OOB scores. This probably means too few trees were used to compute any reliable oob estimates.\n",
      "\n",
      "C:\\Users\\Fernando Nast\\miniconda3\\lib\\site-packages\\sklearn\\ensemble\\_forest.py:545: RuntimeWarning:\n",
      "\n",
      "invalid value encountered in true_divide\n",
      "\n",
      "C:\\Users\\Fernando Nast\\miniconda3\\lib\\site-packages\\sklearn\\linear_model\\_logistic.py:763: ConvergenceWarning:\n",
      "\n",
      "lbfgs failed to converge (status=1):\n",
      "STOP: TOTAL NO. of ITERATIONS REACHED LIMIT.\n",
      "\n",
      "Increase the number of iterations (max_iter) or scale the data as shown in:\n",
      "    https://scikit-learn.org/stable/modules/preprocessing.html\n",
      "Please also refer to the documentation for alternative solver options:\n",
      "    https://scikit-learn.org/stable/modules/linear_model.html#logistic-regression\n",
      "\n"
     ]
    }
   ],
   "source": [
    "tp_set, fp_set = createROC(modelos, train_X, train_y, test_X, test_y)"
   ]
  },
  {
   "cell_type": "code",
   "execution_count": 72,
   "metadata": {},
   "outputs": [
    {
     "data": {
      "text/plain": [
       "Text(0.5, 0, 'False Positive Rate')"
      ]
     },
     "execution_count": 72,
     "metadata": {},
     "output_type": "execute_result"
    },
    {
     "data": {
      "image/png": "[encoded data removed]",
      "text/plain": [
       "<Figure size 1080x360 with 1 Axes>"
      ]
     },
     "metadata": {
      "needs_background": "light"
     },
     "output_type": "display_data"
    }
   ],
   "source": [
    "axes = plt.figure(figsize=(15,5))\n",
    "\n",
    "for i in range(0, len(tp_set)):\n",
    "    plt.plot(fp_set[i], tp_set[i],'-o', lw=3)\n",
    "plt.plot([0, 1], [0, 1], '--k', lw=2)\n",
    "plt.legend(['RF','LR','No Skill'])\n",
    "plt.ylabel('True Positive Rate')\n",
    "plt.xlabel('False Positive Rate')"
   ]
  },
  {
   "cell_type": "code",
   "execution_count": 73,
   "metadata": {},
   "outputs": [
    {
     "data": {
      "text/plain": [
       "Text(688.8545454545454, 0.5, 'Valor Predito')"
      ]
     },
     "execution_count": 73,
     "metadata": {},
     "output_type": "execute_result"
    },
    {
     "data": {
      "image/png": "[encoded data removed]",
      "text/plain": [
       "<Figure size 1296x360 with 4 Axes>"
      ]
     },
     "metadata": {
      "needs_background": "light"
     },
     "output_type": "display_data"
    }
   ],
   "source": [
    "fig, axes = plt.subplots(nrows=1, ncols=2, figsize=(18,5))\n",
    "\n",
    "################################################ Matriz de Confusão\n",
    "cm = confusion_matrix(test_y, pred_yRF).T\n",
    "#cm = cm.astype('float')/cm.sum(axis=0)*100\n",
    "\n",
    "ax = sns.heatmap(cm, annot=True, cmap='Blues', ax=axes[0], fmt='.6g');\n",
    "ax.set_xlabel('Valor Verdadeiro')\n",
    "ax.set_ylabel('Valor Predito')\n",
    "\n",
    "cm2 = confusion_matrix(test_y, pred_yLR).T\n",
    "#cm2 = cm2.astype('float')/cm2.sum(axis=0)*100\n",
    "\n",
    "ax2 = sns.heatmap(cm2, annot=True, cmap='Greens', ax=axes[1], fmt='.6g');\n",
    "ax2.set_xlabel('Valor Verdadeiro')\n",
    "ax2.set_ylabel('Valor Predito')"
   ]
  },
  {
   "cell_type": "markdown",
   "metadata": {},
   "source": [
    "Para os valores, ***Random Forest***, de azul, acertou todos os valores **verdadeiros positivos** (6443, 100\\%), ou seja, os que podem atrasar o pagamento. Acertou também todos os **verdadeiros negativos** (55606, 100\\%), ou seja, os pagariam normalmente.\n",
    "\n",
    "Já para ***Logistic Regression***, de verde, acertou parte dos **verdadeiros positivos** (6431, 99,8\\%), mas acertou todos os valores **verdadeiros negativos** (55606, 100\\%)."
   ]
  },
  {
   "cell_type": "code",
   "execution_count": 74,
   "metadata": {},
   "outputs": [
    {
     "data": {
      "text/plain": [
       "0    55606\n",
       "1     6443\n",
       "Name: loan_status, dtype: int64"
      ]
     },
     "execution_count": 74,
     "metadata": {},
     "output_type": "execute_result"
    }
   ],
   "source": [
    "test_y.value_counts() "
   ]
  },
  {
   "cell_type": "markdown",
   "metadata": {},
   "source": [
    "## Referências\n",
    "\n",
    "- [Deepanshu Sharma](https://www.kaggle.com/deepanshu08/prediction-of-lendingclub-loan-defaulters)\n",
    "- [Janio Martinez](https://www.kaggle.com/janiobachmann/lending-club-risk-analysis-and-metrics)"
   ]
  },
  {
   "cell_type": "code",
   "execution_count": null,
   "metadata": {},
   "outputs": [],
   "source": []
  }
 ],
 "metadata": {
  "kernelspec": {
   "display_name": "Python 3",
   "language": "python",
   "name": "python3"
  },
  "language_info": {
   "codemirror_mode": {
    "name": "ipython",
    "version": 3
   },
   "file_extension": ".py",
   "mimetype": "text/x-python",
   "name": "python",
   "nbconvert_exporter": "python",
   "pygments_lexer": "ipython3",
   "version": "3.8.3"
  }
 },
 "nbformat": 4,
 "nbformat_minor": 2
}
